{
 "cells": [
  {
   "cell_type": "markdown",
   "id": "f0602f29-89ee-402b-9ded-83ec883b1f47",
   "metadata": {},
   "source": [
    "# importing Libraries"
   ]
  },
  {
   "cell_type": "code",
   "execution_count": 1,
   "id": "c766a328-e4ac-4513-bf25-9a75f6f77f38",
   "metadata": {},
   "outputs": [],
   "source": [
    "## importing libraries for loading and preprocessing data \n",
    "import numpy as np\n",
    "import pandas as pd"
   ]
  },
  {
   "cell_type": "markdown",
   "id": "34a4ee14-f640-41e3-9d94-217bf818a137",
   "metadata": {},
   "source": [
    "# Reading/Loading And Creating a Copy of Dataset"
   ]
  },
  {
   "cell_type": "code",
   "execution_count": 2,
   "id": "998457c8-6e14-47a9-9ece-0d613d900766",
   "metadata": {},
   "outputs": [],
   "source": [
    "data = pd.read_csv(\"gdap_cc_project/Datasets/Toyota.csv\")\n"
   ]
  },
  {
   "cell_type": "code",
   "execution_count": 3,
   "id": "009bc3b5-1c41-44a5-9855-d0d587fbab58",
   "metadata": {},
   "outputs": [],
   "source": [
    "## creating a deep copy of the dataset \n",
    "df1 = data.copy(deep=True)"
   ]
  },
  {
   "cell_type": "code",
   "execution_count": 4,
   "id": "bf8e03c9-eb50-43db-a3b4-9c6352b81217",
   "metadata": {},
   "outputs": [
    {
     "data": {
      "text/html": [
       "<div>\n",
       "<style scoped>\n",
       "    .dataframe tbody tr th:only-of-type {\n",
       "        vertical-align: middle;\n",
       "    }\n",
       "\n",
       "    .dataframe tbody tr th {\n",
       "        vertical-align: top;\n",
       "    }\n",
       "\n",
       "    .dataframe thead th {\n",
       "        text-align: right;\n",
       "    }\n",
       "</style>\n",
       "<table border=\"1\" class=\"dataframe\">\n",
       "  <thead>\n",
       "    <tr style=\"text-align: right;\">\n",
       "      <th></th>\n",
       "      <th>Unnamed: 0</th>\n",
       "      <th>Price</th>\n",
       "      <th>Age</th>\n",
       "      <th>KM</th>\n",
       "      <th>FuelType</th>\n",
       "      <th>HP</th>\n",
       "      <th>MetColor</th>\n",
       "      <th>Automatic</th>\n",
       "      <th>CC</th>\n",
       "      <th>Doors</th>\n",
       "      <th>Weight</th>\n",
       "    </tr>\n",
       "  </thead>\n",
       "  <tbody>\n",
       "    <tr>\n",
       "      <th>0</th>\n",
       "      <td>0</td>\n",
       "      <td>13500</td>\n",
       "      <td>23.0</td>\n",
       "      <td>46986</td>\n",
       "      <td>Diesel</td>\n",
       "      <td>90</td>\n",
       "      <td>1.0</td>\n",
       "      <td>0</td>\n",
       "      <td>2000</td>\n",
       "      <td>three</td>\n",
       "      <td>1165</td>\n",
       "    </tr>\n",
       "    <tr>\n",
       "      <th>1</th>\n",
       "      <td>1</td>\n",
       "      <td>13750</td>\n",
       "      <td>23.0</td>\n",
       "      <td>72937</td>\n",
       "      <td>Diesel</td>\n",
       "      <td>90</td>\n",
       "      <td>1.0</td>\n",
       "      <td>0</td>\n",
       "      <td>2000</td>\n",
       "      <td>3</td>\n",
       "      <td>1165</td>\n",
       "    </tr>\n",
       "    <tr>\n",
       "      <th>2</th>\n",
       "      <td>2</td>\n",
       "      <td>13950</td>\n",
       "      <td>24.0</td>\n",
       "      <td>41711</td>\n",
       "      <td>Diesel</td>\n",
       "      <td>90</td>\n",
       "      <td>NaN</td>\n",
       "      <td>0</td>\n",
       "      <td>2000</td>\n",
       "      <td>3</td>\n",
       "      <td>1165</td>\n",
       "    </tr>\n",
       "    <tr>\n",
       "      <th>3</th>\n",
       "      <td>3</td>\n",
       "      <td>14950</td>\n",
       "      <td>26.0</td>\n",
       "      <td>48000</td>\n",
       "      <td>Diesel</td>\n",
       "      <td>90</td>\n",
       "      <td>0.0</td>\n",
       "      <td>0</td>\n",
       "      <td>2000</td>\n",
       "      <td>3</td>\n",
       "      <td>1165</td>\n",
       "    </tr>\n",
       "    <tr>\n",
       "      <th>4</th>\n",
       "      <td>4</td>\n",
       "      <td>13750</td>\n",
       "      <td>30.0</td>\n",
       "      <td>38500</td>\n",
       "      <td>Diesel</td>\n",
       "      <td>90</td>\n",
       "      <td>0.0</td>\n",
       "      <td>0</td>\n",
       "      <td>2000</td>\n",
       "      <td>3</td>\n",
       "      <td>1170</td>\n",
       "    </tr>\n",
       "  </tbody>\n",
       "</table>\n",
       "</div>"
      ],
      "text/plain": [
       "   Unnamed: 0  Price   Age     KM FuelType  HP  MetColor  Automatic    CC  \\\n",
       "0           0  13500  23.0  46986   Diesel  90       1.0          0  2000   \n",
       "1           1  13750  23.0  72937   Diesel  90       1.0          0  2000   \n",
       "2           2  13950  24.0  41711   Diesel  90       NaN          0  2000   \n",
       "3           3  14950  26.0  48000   Diesel  90       0.0          0  2000   \n",
       "4           4  13750  30.0  38500   Diesel  90       0.0          0  2000   \n",
       "\n",
       "   Doors  Weight  \n",
       "0  three    1165  \n",
       "1      3    1165  \n",
       "2      3    1165  \n",
       "3      3    1165  \n",
       "4      3    1170  "
      ]
     },
     "execution_count": 4,
     "metadata": {},
     "output_type": "execute_result"
    }
   ],
   "source": [
    "df1.head() ## print the first five rows"
   ]
  },
  {
   "cell_type": "code",
   "execution_count": 5,
   "id": "5980466e-6a4f-4d64-a4a0-bfb6112db31b",
   "metadata": {},
   "outputs": [
    {
     "data": {
      "text/html": [
       "<div>\n",
       "<style scoped>\n",
       "    .dataframe tbody tr th:only-of-type {\n",
       "        vertical-align: middle;\n",
       "    }\n",
       "\n",
       "    .dataframe tbody tr th {\n",
       "        vertical-align: top;\n",
       "    }\n",
       "\n",
       "    .dataframe thead th {\n",
       "        text-align: right;\n",
       "    }\n",
       "</style>\n",
       "<table border=\"1\" class=\"dataframe\">\n",
       "  <thead>\n",
       "    <tr style=\"text-align: right;\">\n",
       "      <th></th>\n",
       "      <th>Unnamed: 0</th>\n",
       "      <th>Price</th>\n",
       "      <th>Age</th>\n",
       "      <th>KM</th>\n",
       "      <th>FuelType</th>\n",
       "      <th>HP</th>\n",
       "      <th>MetColor</th>\n",
       "      <th>Automatic</th>\n",
       "      <th>CC</th>\n",
       "      <th>Doors</th>\n",
       "      <th>Weight</th>\n",
       "    </tr>\n",
       "  </thead>\n",
       "  <tbody>\n",
       "    <tr>\n",
       "      <th>1431</th>\n",
       "      <td>1431</td>\n",
       "      <td>7500</td>\n",
       "      <td>NaN</td>\n",
       "      <td>20544</td>\n",
       "      <td>Petrol</td>\n",
       "      <td>86</td>\n",
       "      <td>1.0</td>\n",
       "      <td>0</td>\n",
       "      <td>1300</td>\n",
       "      <td>3</td>\n",
       "      <td>1025</td>\n",
       "    </tr>\n",
       "    <tr>\n",
       "      <th>1432</th>\n",
       "      <td>1432</td>\n",
       "      <td>10845</td>\n",
       "      <td>72.0</td>\n",
       "      <td>??</td>\n",
       "      <td>Petrol</td>\n",
       "      <td>86</td>\n",
       "      <td>0.0</td>\n",
       "      <td>0</td>\n",
       "      <td>1300</td>\n",
       "      <td>3</td>\n",
       "      <td>1015</td>\n",
       "    </tr>\n",
       "    <tr>\n",
       "      <th>1433</th>\n",
       "      <td>1433</td>\n",
       "      <td>8500</td>\n",
       "      <td>NaN</td>\n",
       "      <td>17016</td>\n",
       "      <td>Petrol</td>\n",
       "      <td>86</td>\n",
       "      <td>0.0</td>\n",
       "      <td>0</td>\n",
       "      <td>1300</td>\n",
       "      <td>3</td>\n",
       "      <td>1015</td>\n",
       "    </tr>\n",
       "    <tr>\n",
       "      <th>1434</th>\n",
       "      <td>1434</td>\n",
       "      <td>7250</td>\n",
       "      <td>70.0</td>\n",
       "      <td>??</td>\n",
       "      <td>NaN</td>\n",
       "      <td>86</td>\n",
       "      <td>1.0</td>\n",
       "      <td>0</td>\n",
       "      <td>1300</td>\n",
       "      <td>3</td>\n",
       "      <td>1015</td>\n",
       "    </tr>\n",
       "    <tr>\n",
       "      <th>1435</th>\n",
       "      <td>1435</td>\n",
       "      <td>6950</td>\n",
       "      <td>76.0</td>\n",
       "      <td>1</td>\n",
       "      <td>Petrol</td>\n",
       "      <td>110</td>\n",
       "      <td>0.0</td>\n",
       "      <td>0</td>\n",
       "      <td>1600</td>\n",
       "      <td>5</td>\n",
       "      <td>1114</td>\n",
       "    </tr>\n",
       "  </tbody>\n",
       "</table>\n",
       "</div>"
      ],
      "text/plain": [
       "      Unnamed: 0  Price   Age     KM FuelType   HP  MetColor  Automatic    CC  \\\n",
       "1431        1431   7500   NaN  20544   Petrol   86       1.0          0  1300   \n",
       "1432        1432  10845  72.0     ??   Petrol   86       0.0          0  1300   \n",
       "1433        1433   8500   NaN  17016   Petrol   86       0.0          0  1300   \n",
       "1434        1434   7250  70.0     ??      NaN   86       1.0          0  1300   \n",
       "1435        1435   6950  76.0      1   Petrol  110       0.0          0  1600   \n",
       "\n",
       "     Doors  Weight  \n",
       "1431     3    1025  \n",
       "1432     3    1015  \n",
       "1433     3    1015  \n",
       "1434     3    1015  \n",
       "1435     5    1114  "
      ]
     },
     "execution_count": 5,
     "metadata": {},
     "output_type": "execute_result"
    }
   ],
   "source": [
    "df1.tail()  ## prints the last five rows"
   ]
  },
  {
   "cell_type": "code",
   "execution_count": 6,
   "id": "6468c11b-7fbf-4af9-9f1c-1d292005e301",
   "metadata": {},
   "outputs": [
    {
     "data": {
      "text/plain": [
       "Index(['Unnamed: 0', 'Price', 'Age', 'KM', 'FuelType', 'HP', 'MetColor',\n",
       "       'Automatic', 'CC', 'Doors', 'Weight'],\n",
       "      dtype='object')"
      ]
     },
     "execution_count": 6,
     "metadata": {},
     "output_type": "execute_result"
    }
   ],
   "source": [
    "df1.columns ## displays the title or names of each column in the data set."
   ]
  },
  {
   "cell_type": "code",
   "execution_count": 7,
   "id": "93c06884-f29d-47e4-b3c1-6bddba665ab0",
   "metadata": {},
   "outputs": [
    {
     "name": "stdout",
     "output_type": "stream",
     "text": [
      "UNNAMED: 0\n",
      "PRICE\n",
      "AGE\n",
      "KM\n",
      "FUELTYPE\n",
      "HP\n",
      "METCOLOR\n",
      "AUTOMATIC\n",
      "CC\n",
      "DOORS\n",
      "WEIGHT\n"
     ]
    }
   ],
   "source": [
    "for each_item in df1.columns: ## using for loop to alterate the data\n",
    "    print(each_item.upper())"
   ]
  },
  {
   "cell_type": "code",
   "execution_count": 8,
   "id": "44870ec1-720e-46b1-b339-1deb99b5d9a3",
   "metadata": {},
   "outputs": [
    {
     "data": {
      "text/plain": [
       "0       13500\n",
       "1       13750\n",
       "2       13950\n",
       "3       14950\n",
       "4       13750\n",
       "        ...  \n",
       "1431     7500\n",
       "1432    10845\n",
       "1433     8500\n",
       "1434     7250\n",
       "1435     6950\n",
       "Name: Price, Length: 1436, dtype: int64"
      ]
     },
     "execution_count": 8,
     "metadata": {},
     "output_type": "execute_result"
    }
   ],
   "source": [
    "df1['Price'] ## display all records in the price column and their respective index"
   ]
  },
  {
   "cell_type": "code",
   "execution_count": 9,
   "id": "cfc23588-baa4-419d-b45c-cc1640420e1e",
   "metadata": {},
   "outputs": [
    {
     "data": {
      "text/plain": [
       "1165"
      ]
     },
     "execution_count": 9,
     "metadata": {},
     "output_type": "execute_result"
    }
   ],
   "source": [
    "## acceass a single value for a row/col by their label and index \n",
    "df1.at[2, 'Weight']"
   ]
  },
  {
   "cell_type": "code",
   "execution_count": 10,
   "id": "d6705f33-ed3b-4961-80f2-b0c89e6a3777",
   "metadata": {},
   "outputs": [
    {
     "data": {
      "text/plain": [
       "1165"
      ]
     },
     "execution_count": 10,
     "metadata": {},
     "output_type": "execute_result"
    }
   ],
   "source": [
    "df1.iat[2, 10] # display the value of a column at the index or position"
   ]
  },
  {
   "cell_type": "code",
   "execution_count": 11,
   "id": "c17725fc-87ac-412e-aba1-3fe46ae9cc73",
   "metadata": {},
   "outputs": [
    {
     "data": {
      "text/plain": [
       "0     13500\n",
       "1     13750\n",
       "2     13950\n",
       "3     14950\n",
       "4     13750\n",
       "5     12950\n",
       "6     16900\n",
       "7     18600\n",
       "8     21500\n",
       "9     12950\n",
       "10    20950\n",
       "11    19950\n",
       "12    19600\n",
       "Name: Price, dtype: int64"
      ]
     },
     "execution_count": 11,
     "metadata": {},
     "output_type": "execute_result"
    }
   ],
   "source": [
    "## accessing a group of rows and column by their label \n",
    "\n",
    "df1.loc[ 0: 12, 'Price']"
   ]
  },
  {
   "cell_type": "code",
   "execution_count": 12,
   "id": "e8f67f74-33ac-4e8e-bc2c-20ce108afdaf",
   "metadata": {},
   "outputs": [
    {
     "data": {
      "text/plain": [
       "50    17950\n",
       "51    15750\n",
       "52    20500\n",
       "53    21950\n",
       "54    15500\n",
       "55    13250\n",
       "56    15250\n",
       "57    15250\n",
       "58    18950\n",
       "59    15999\n",
       "60    14950\n",
       "61    16500\n",
       "62    18750\n",
       "63    17950\n",
       "64    17950\n",
       "65    16950\n",
       "66    18950\n",
       "67    14950\n",
       "68    22250\n",
       "69    15950\n",
       "70    15950\n",
       "Name: Price, dtype: int64"
      ]
     },
     "execution_count": 12,
     "metadata": {},
     "output_type": "execute_result"
    }
   ],
   "source": [
    "df1.loc[50:70, 'Price'] # display the price of the car by the location or range."
   ]
  },
  {
   "cell_type": "code",
   "execution_count": 13,
   "id": "3a952456-5bd8-4ba5-89de-34b4ee3a3589",
   "metadata": {},
   "outputs": [
    {
     "data": {
      "text/html": [
       "<div>\n",
       "<style scoped>\n",
       "    .dataframe tbody tr th:only-of-type {\n",
       "        vertical-align: middle;\n",
       "    }\n",
       "\n",
       "    .dataframe tbody tr th {\n",
       "        vertical-align: top;\n",
       "    }\n",
       "\n",
       "    .dataframe thead th {\n",
       "        text-align: right;\n",
       "    }\n",
       "</style>\n",
       "<table border=\"1\" class=\"dataframe\">\n",
       "  <thead>\n",
       "    <tr style=\"text-align: right;\">\n",
       "      <th></th>\n",
       "      <th>Unnamed: 0</th>\n",
       "      <th>Price</th>\n",
       "      <th>Age</th>\n",
       "      <th>KM</th>\n",
       "      <th>FuelType</th>\n",
       "      <th>HP</th>\n",
       "      <th>MetColor</th>\n",
       "      <th>Automatic</th>\n",
       "      <th>CC</th>\n",
       "      <th>Doors</th>\n",
       "      <th>Weight</th>\n",
       "    </tr>\n",
       "  </thead>\n",
       "  <tbody>\n",
       "    <tr>\n",
       "      <th>10</th>\n",
       "      <td>10</td>\n",
       "      <td>20950</td>\n",
       "      <td>25.0</td>\n",
       "      <td>31461</td>\n",
       "      <td>Petrol</td>\n",
       "      <td>192</td>\n",
       "      <td>0.0</td>\n",
       "      <td>0</td>\n",
       "      <td>1800</td>\n",
       "      <td>3</td>\n",
       "      <td>1185</td>\n",
       "    </tr>\n",
       "    <tr>\n",
       "      <th>11</th>\n",
       "      <td>11</td>\n",
       "      <td>19950</td>\n",
       "      <td>22.0</td>\n",
       "      <td>43610</td>\n",
       "      <td>Petrol</td>\n",
       "      <td>192</td>\n",
       "      <td>0.0</td>\n",
       "      <td>0</td>\n",
       "      <td>1800</td>\n",
       "      <td>3</td>\n",
       "      <td>1185</td>\n",
       "    </tr>\n",
       "    <tr>\n",
       "      <th>12</th>\n",
       "      <td>12</td>\n",
       "      <td>19600</td>\n",
       "      <td>25.0</td>\n",
       "      <td>32189</td>\n",
       "      <td>Petrol</td>\n",
       "      <td>192</td>\n",
       "      <td>0.0</td>\n",
       "      <td>0</td>\n",
       "      <td>1800</td>\n",
       "      <td>3</td>\n",
       "      <td>1185</td>\n",
       "    </tr>\n",
       "    <tr>\n",
       "      <th>13</th>\n",
       "      <td>13</td>\n",
       "      <td>21500</td>\n",
       "      <td>31.0</td>\n",
       "      <td>23000</td>\n",
       "      <td>Petrol</td>\n",
       "      <td>192</td>\n",
       "      <td>1.0</td>\n",
       "      <td>0</td>\n",
       "      <td>1800</td>\n",
       "      <td>3</td>\n",
       "      <td>1185</td>\n",
       "    </tr>\n",
       "    <tr>\n",
       "      <th>14</th>\n",
       "      <td>14</td>\n",
       "      <td>22500</td>\n",
       "      <td>32.0</td>\n",
       "      <td>34131</td>\n",
       "      <td>Petrol</td>\n",
       "      <td>192</td>\n",
       "      <td>1.0</td>\n",
       "      <td>0</td>\n",
       "      <td>1800</td>\n",
       "      <td>3</td>\n",
       "      <td>1185</td>\n",
       "    </tr>\n",
       "    <tr>\n",
       "      <th>15</th>\n",
       "      <td>15</td>\n",
       "      <td>22000</td>\n",
       "      <td>28.0</td>\n",
       "      <td>18739</td>\n",
       "      <td>Petrol</td>\n",
       "      <td>????</td>\n",
       "      <td>0.0</td>\n",
       "      <td>0</td>\n",
       "      <td>1800</td>\n",
       "      <td>3</td>\n",
       "      <td>1185</td>\n",
       "    </tr>\n",
       "  </tbody>\n",
       "</table>\n",
       "</div>"
      ],
      "text/plain": [
       "    Unnamed: 0  Price   Age     KM FuelType    HP  MetColor  Automatic    CC  \\\n",
       "10          10  20950  25.0  31461   Petrol   192       0.0          0  1800   \n",
       "11          11  19950  22.0  43610   Petrol   192       0.0          0  1800   \n",
       "12          12  19600  25.0  32189   Petrol   192       0.0          0  1800   \n",
       "13          13  21500  31.0  23000   Petrol   192       1.0          0  1800   \n",
       "14          14  22500  32.0  34131   Petrol   192       1.0          0  1800   \n",
       "15          15  22000  28.0  18739   Petrol  ????       0.0          0  1800   \n",
       "\n",
       "   Doors  Weight  \n",
       "10     3    1185  \n",
       "11     3    1185  \n",
       "12     3    1185  \n",
       "13     3    1185  \n",
       "14     3    1185  \n",
       "15     3    1185  "
      ]
     },
     "execution_count": 13,
     "metadata": {},
     "output_type": "execute_result"
    }
   ],
   "source": [
    "df1.loc[10:15, ]"
   ]
  },
  {
   "cell_type": "code",
   "execution_count": 14,
   "id": "0394647f-0e7e-4542-aaaa-0cc2cab7322b",
   "metadata": {},
   "outputs": [
    {
     "data": {
      "text/plain": [
       "15796"
      ]
     },
     "execution_count": 14,
     "metadata": {},
     "output_type": "execute_result"
    }
   ],
   "source": [
    "## returns the size of the dataset\n",
    "df1.size"
   ]
  },
  {
   "cell_type": "code",
   "execution_count": 15,
   "id": "54ed07be-1f0c-430e-ba62-c0811bf7e944",
   "metadata": {},
   "outputs": [
    {
     "data": {
      "text/plain": [
       "(1436, 11)"
      ]
     },
     "execution_count": 15,
     "metadata": {},
     "output_type": "execute_result"
    }
   ],
   "source": [
    "## lets return the shape of the dataset \n",
    "df1.shape"
   ]
  },
  {
   "cell_type": "code",
   "execution_count": 16,
   "id": "a8304a10-2a51-4f43-986f-c835be9e863b",
   "metadata": {},
   "outputs": [
    {
     "name": "stdout",
     "output_type": "stream",
     "text": [
      "Total number of rows:  1436 Total number of columns:  11\n"
     ]
    }
   ],
   "source": [
    "print(\"Total number of rows: \", df1.shape[0], \"Total number of columns: \" , df1.shape[1]) "
   ]
  },
  {
   "cell_type": "code",
   "execution_count": 17,
   "id": "67c6fd7b-fa3a-4de2-b88a-984b05e7bd41",
   "metadata": {},
   "outputs": [
    {
     "name": "stdout",
     "output_type": "stream",
     "text": [
      "Total number of rows:,1436 ,Total number of columns:11\n"
     ]
    }
   ],
   "source": [
    "# using the f' string\n",
    "print(f\"Total number of rows:,{df1.shape[0]} ,Total number of columns:{df1.shape[1]}\")"
   ]
  },
  {
   "cell_type": "code",
   "execution_count": 18,
   "id": "a2a43762-4d7b-41d0-93e5-9743adf34ff4",
   "metadata": {},
   "outputs": [
    {
     "name": "stdout",
     "output_type": "stream",
     "text": [
      "<class 'pandas.core.frame.DataFrame'>\n",
      "RangeIndex: 1436 entries, 0 to 1435\n",
      "Data columns (total 11 columns):\n",
      " #   Column      Non-Null Count  Dtype  \n",
      "---  ------      --------------  -----  \n",
      " 0   Unnamed: 0  1436 non-null   int64  \n",
      " 1   Price       1436 non-null   int64  \n",
      " 2   Age         1336 non-null   float64\n",
      " 3   KM          1436 non-null   object \n",
      " 4   FuelType    1336 non-null   object \n",
      " 5   HP          1436 non-null   object \n",
      " 6   MetColor    1286 non-null   float64\n",
      " 7   Automatic   1436 non-null   int64  \n",
      " 8   CC          1436 non-null   int64  \n",
      " 9   Doors       1436 non-null   object \n",
      " 10  Weight      1436 non-null   int64  \n",
      "dtypes: float64(2), int64(5), object(4)\n",
      "memory usage: 123.5+ KB\n"
     ]
    }
   ],
   "source": [
    "df1.info() # display all the information about the data set."
   ]
  },
  {
   "cell_type": "code",
   "execution_count": 19,
   "id": "2a2e8b80-5c08-4137-8a22-07406e3dd88e",
   "metadata": {},
   "outputs": [
    {
     "data": {
      "text/plain": [
       "Unnamed: 0      int64\n",
       "Price           int64\n",
       "Age           float64\n",
       "KM             object\n",
       "FuelType       object\n",
       "HP             object\n",
       "MetColor      float64\n",
       "Automatic       int64\n",
       "CC              int64\n",
       "Doors          object\n",
       "Weight          int64\n",
       "dtype: object"
      ]
     },
     "execution_count": 19,
     "metadata": {},
     "output_type": "execute_result"
    }
   ],
   "source": [
    "# returns the columns and their data types\n",
    "df1.dtypes"
   ]
  },
  {
   "cell_type": "code",
   "execution_count": 20,
   "id": "f148e53d-b51e-4833-aa96-a8228d4e1fc2",
   "metadata": {},
   "outputs": [
    {
     "data": {
      "text/plain": [
       "Unnamed: 0    1436\n",
       "Price          236\n",
       "Age             77\n",
       "KM            1256\n",
       "FuelType         3\n",
       "HP              13\n",
       "MetColor         2\n",
       "Automatic        2\n",
       "CC              12\n",
       "Doors            7\n",
       "Weight          59\n",
       "dtype: int64"
      ]
     },
     "execution_count": 20,
     "metadata": {},
     "output_type": "execute_result"
    }
   ],
   "source": [
    "## returns the number of unique value\n",
    "df1.nunique()"
   ]
  },
  {
   "cell_type": "code",
   "execution_count": 21,
   "id": "ee216444-3947-4c92-b3f0-ff25792d28a7",
   "metadata": {},
   "outputs": [
    {
     "data": {
      "text/plain": [
       "array([13500, 13750, 13950, 14950, 12950, 16900, 18600, 21500, 20950,\n",
       "       19950, 19600, 22500, 22000, 22750, 17950, 16750, 16950, 15950,\n",
       "       16250, 17495, 15750, 15500, 14750, 19000, 15800, 21950, 20500,\n",
       "       13250, 15250, 18950, 15999, 16500, 18750, 22250, 12995, 18450,\n",
       "       16895, 14900, 17250, 15450, 16650, 17450, 16450, 18900, 18990,\n",
       "       18500, 19450, 18800, 32500, 31000, 31275, 24950, 22950, 24990,\n",
       "       17900, 19250, 16350, 21750, 15850, 23000, 19900, 23950, 24500,\n",
       "       17200, 19500, 16868, 19750, 20750, 17650, 17795, 18245, 23750,\n",
       "       18700, 21125,  6950,  9500, 11950,  7750,  4350,  4750, 11750,\n",
       "       11900,  9950, 11495, 11250, 10500, 10450, 11500, 12500, 10950,\n",
       "       11450, 11790, 12450, 11690, 12750, 11925, 12900, 11650, 10850,\n",
       "        9940, 13450, 12495, 12000, 11480, 14990, 12850, 11700, 11895,\n",
       "       13875, 12295, 13995,  9900, 11990, 10750, 11695, 11000, 12400,\n",
       "       12200, 12695, 14350, 10250,  6500,  6400,  7000,  8900,  8500,\n",
       "        8950,  9250,  9450,  8250,  4450,  9000,  5150,  7900, 10900,\n",
       "        9750, 11290, 10895, 10995,  9850,  8695, 10990,  8750,  9930,\n",
       "        9799,  9700,  9990,  9475, 10000, 10495,  9400,  9650,  9550,\n",
       "       13000, 11710,  9980, 12250, 11930, 10800, 10600,  7500,  5950,\n",
       "        6900,  5751,  7950,  6250,  8450,  7350,  9800,  7995,  8600,\n",
       "        7250,  8000,  8495,  9895,  7999,  8490,  8150,  7450,  9130,\n",
       "        8990,  8995,  9995, 10400,  8800,  7800,  8100,  8200, 10295,\n",
       "        9795, 10350,  8400,  8895,  9390,  8745,  8850,  9695,  9245,\n",
       "        5900,  6000,  5250,  4400,  6750,  6150,  5750,  5800,  5740,\n",
       "        6550,  6450,  5600,  6650,  7600,  7460,  6800,  8700,  6640,\n",
       "        8050,  7795,  6490,  6425,  6495,  6990,  7200,  7300,  9200,\n",
       "        7850,  7495,  7990,  7490,  7145,  7400,  6999,  7499,  7150,\n",
       "        5845, 10845], dtype=int64)"
      ]
     },
     "execution_count": 21,
     "metadata": {},
     "output_type": "execute_result"
    }
   ],
   "source": [
    "df1['Price'].unique()"
   ]
  },
  {
   "cell_type": "code",
   "execution_count": 22,
   "id": "7c273310-7edc-49b0-8129-681ce4c381c4",
   "metadata": {},
   "outputs": [
    {
     "data": {
      "text/plain": [
       "array(['three', '3', '5', '4', 'four', 'five', '2'], dtype=object)"
      ]
     },
     "execution_count": 22,
     "metadata": {},
     "output_type": "execute_result"
    }
   ],
   "source": [
    "df1['Doors'].unique()"
   ]
  },
  {
   "cell_type": "code",
   "execution_count": 23,
   "id": "6b233851-916e-4370-ba71-dad6d090792d",
   "metadata": {},
   "outputs": [
    {
     "data": {
      "text/plain": [
       "array([23., 24., 26., 30., 32., 27., 25., 22., 31., 28., 29., nan, 20.,\n",
       "       19., 17., 11., 18., 13., 14.,  4.,  8.,  7., 16., 15., 10., 12.,\n",
       "        9.,  6.,  2.,  1., 43., 38., 40., 44., 41., 37., 39., 42., 35.,\n",
       "       34., 33., 36., 53., 51., 54., 45., 55., 48., 52., 49., 56., 50.,\n",
       "       47., 46., 58., 68., 59., 62., 65., 67., 64., 60., 61., 66., 57.,\n",
       "       63., 73., 79., 78., 74., 77., 69., 80., 76., 70., 71., 75., 72.])"
      ]
     },
     "execution_count": 23,
     "metadata": {},
     "output_type": "execute_result"
    }
   ],
   "source": [
    "df1['Age'].unique()"
   ]
  },
  {
   "cell_type": "code",
   "execution_count": 24,
   "id": "cea2b264-3905-4337-b544-94cad4584a2b",
   "metadata": {},
   "outputs": [
    {
     "data": {
      "text/plain": [
       "array(['Diesel', nan, 'Petrol', 'CNG'], dtype=object)"
      ]
     },
     "execution_count": 24,
     "metadata": {},
     "output_type": "execute_result"
    }
   ],
   "source": [
    "df1['FuelType'].unique()"
   ]
  },
  {
   "cell_type": "code",
   "execution_count": 25,
   "id": "917a4f6c-ea13-464a-9c7d-6584b97dedcc",
   "metadata": {},
   "outputs": [
    {
     "data": {
      "text/plain": [
       "array(['90', '????', '192', '110', '97', '71', '116', '98', '69', '86',\n",
       "       '72', '107', '73'], dtype=object)"
      ]
     },
     "execution_count": 25,
     "metadata": {},
     "output_type": "execute_result"
    }
   ],
   "source": [
    "df1['HP'].unique()"
   ]
  },
  {
   "cell_type": "code",
   "execution_count": 26,
   "id": "7cee1f13-2f65-4277-9421-ca9a0adc468a",
   "metadata": {},
   "outputs": [
    {
     "data": {
      "text/plain": [
       "array(['46986', '72937', '41711', ..., '30964', '20544', '17016'],\n",
       "      dtype=object)"
      ]
     },
     "execution_count": 26,
     "metadata": {},
     "output_type": "execute_result"
    }
   ],
   "source": [
    "df1['KM'].unique()"
   ]
  },
  {
   "cell_type": "code",
   "execution_count": 27,
   "id": "49fb4076-85cd-4c53-974f-6665a6734fc5",
   "metadata": {},
   "outputs": [
    {
     "data": {
      "text/plain": [
       "array([ 1., nan,  0.])"
      ]
     },
     "execution_count": 27,
     "metadata": {},
     "output_type": "execute_result"
    }
   ],
   "source": [
    "df1['MetColor'].unique()"
   ]
  },
  {
   "cell_type": "code",
   "execution_count": 28,
   "id": "d9476c43-e5b7-4845-b238-2e80ccf1b5f7",
   "metadata": {},
   "outputs": [
    {
     "data": {
      "text/plain": [
       "array([0, 1], dtype=int64)"
      ]
     },
     "execution_count": 28,
     "metadata": {},
     "output_type": "execute_result"
    }
   ],
   "source": [
    "df1['Automatic'].unique()"
   ]
  },
  {
   "cell_type": "code",
   "execution_count": 29,
   "id": "3e89bbb8-acf8-4737-8fd4-f65d8b94dbd2",
   "metadata": {},
   "outputs": [
    {
     "data": {
      "text/plain": [
       "array([2000, 1800, 1900, 1600, 1400, 1598, 1995, 1398, 1300, 1587, 1975,\n",
       "       1332], dtype=int64)"
      ]
     },
     "execution_count": 29,
     "metadata": {},
     "output_type": "execute_result"
    }
   ],
   "source": [
    "df1['CC'].unique()"
   ]
  },
  {
   "cell_type": "code",
   "execution_count": 30,
   "id": "c3c67f63-e8d0-4ac2-87fe-50a2d47a1896",
   "metadata": {},
   "outputs": [
    {
     "data": {
      "text/plain": [
       "array([1165, 1170, 1245, 1185, 1105, 1065, 1120, 1100, 1255, 1270, 1110,\n",
       "       1195, 1180, 1075, 1130, 1275, 1060, 1115, 1265, 1260, 1125, 1155,\n",
       "       1045, 1480, 1320, 1280, 1135, 1090, 1150, 1085, 1160, 1205, 1084,\n",
       "       1140, 1095, 1025, 1119, 1080, 1121, 1615, 1067, 1040, 1030, 1055,\n",
       "       1050, 1103, 1070, 1035, 1015, 1000, 1078, 1079, 1109, 1020, 1010,\n",
       "       1114, 1172, 1094, 1083], dtype=int64)"
      ]
     },
     "execution_count": 30,
     "metadata": {},
     "output_type": "execute_result"
    }
   ],
   "source": [
    "df1['Weight'].unique()"
   ]
  },
  {
   "cell_type": "code",
   "execution_count": 31,
   "id": "37fc4f76-52b3-489b-9a61-848211f65525",
   "metadata": {},
   "outputs": [
    {
     "data": {
      "text/plain": [
       "Unnamed: 0      0\n",
       "Price           0\n",
       "Age           100\n",
       "KM              0\n",
       "FuelType      100\n",
       "HP              0\n",
       "MetColor      150\n",
       "Automatic       0\n",
       "CC              0\n",
       "Doors           0\n",
       "Weight          0\n",
       "dtype: int64"
      ]
     },
     "execution_count": 31,
     "metadata": {},
     "output_type": "execute_result"
    }
   ],
   "source": [
    "# returns the number of missing values in each column\n",
    "df1.isnull().sum()"
   ]
  },
  {
   "cell_type": "code",
   "execution_count": 32,
   "id": "039edec6-74ea-4090-82c3-b02d4d8ff5af",
   "metadata": {},
   "outputs": [
    {
     "data": {
      "text/plain": [
       "0        90\n",
       "1        90\n",
       "2        90\n",
       "3        90\n",
       "4        90\n",
       "       ... \n",
       "1431     86\n",
       "1432     86\n",
       "1433     86\n",
       "1434     86\n",
       "1435    110\n",
       "Name: HP, Length: 1436, dtype: object"
      ]
     },
     "execution_count": 32,
     "metadata": {},
     "output_type": "execute_result"
    }
   ],
   "source": [
    "df1['HP'].replace('????', np.nan)"
   ]
  },
  {
   "cell_type": "code",
   "execution_count": 33,
   "id": "79d6df3a-5721-49fc-b080-54dc76bde878",
   "metadata": {},
   "outputs": [],
   "source": [
    "df1['HP'] =df1['HP'].replace('????', np.nan)"
   ]
  },
  {
   "cell_type": "code",
   "execution_count": 34,
   "id": "4bb8c3c2-562f-4792-b12d-54391f89386d",
   "metadata": {},
   "outputs": [
    {
     "data": {
      "text/plain": [
       "array(['90', nan, '192', '110', '97', '71', '116', '98', '69', '86', '72',\n",
       "       '107', '73'], dtype=object)"
      ]
     },
     "execution_count": 34,
     "metadata": {},
     "output_type": "execute_result"
    }
   ],
   "source": [
    "df1['HP'].unique()"
   ]
  },
  {
   "cell_type": "code",
   "execution_count": 41,
   "id": "8bbef87f-0a2c-4412-b611-b5ac78f9a7bf",
   "metadata": {},
   "outputs": [],
   "source": [
    "# convert column HP to float\n",
    "df1['HP']=df1['HP'].astype('float')"
   ]
  },
  {
   "cell_type": "code",
   "execution_count": 42,
   "id": "092725a2-927d-48f7-b5ec-add601d82a18",
   "metadata": {},
   "outputs": [
    {
     "data": {
      "text/plain": [
       "Unnamed: 0      int64\n",
       "Price           int64\n",
       "Age           float64\n",
       "KM             object\n",
       "FuelType       object\n",
       "HP            float64\n",
       "MetColor      float64\n",
       "Automatic       int64\n",
       "CC              int64\n",
       "Doors          object\n",
       "Weight          int64\n",
       "dtype: object"
      ]
     },
     "execution_count": 42,
     "metadata": {},
     "output_type": "execute_result"
    }
   ],
   "source": [
    "df1.dtypes"
   ]
  },
  {
   "cell_type": "code",
   "execution_count": 44,
   "id": "3b6a1a36-4bef-4496-b176-04cbc792e316",
   "metadata": {},
   "outputs": [
    {
     "data": {
      "text/plain": [
       "Unnamed: 0      0\n",
       "Price           0\n",
       "Age           100\n",
       "KM              0\n",
       "FuelType      100\n",
       "HP              6\n",
       "MetColor      150\n",
       "Automatic       0\n",
       "CC              0\n",
       "Doors           0\n",
       "Weight          0\n",
       "dtype: int64"
      ]
     },
     "execution_count": 44,
     "metadata": {},
     "output_type": "execute_result"
    }
   ],
   "source": [
    "df1.isnull().sum()"
   ]
  },
  {
   "cell_type": "code",
   "execution_count": 45,
   "id": "1f1e7949-5689-4688-b70b-0137c6620c4a",
   "metadata": {},
   "outputs": [
    {
     "data": {
      "text/html": [
       "<div>\n",
       "<style scoped>\n",
       "    .dataframe tbody tr th:only-of-type {\n",
       "        vertical-align: middle;\n",
       "    }\n",
       "\n",
       "    .dataframe tbody tr th {\n",
       "        vertical-align: top;\n",
       "    }\n",
       "\n",
       "    .dataframe thead th {\n",
       "        text-align: right;\n",
       "    }\n",
       "</style>\n",
       "<table border=\"1\" class=\"dataframe\">\n",
       "  <thead>\n",
       "    <tr style=\"text-align: right;\">\n",
       "      <th></th>\n",
       "      <th>Unnamed: 0</th>\n",
       "      <th>Price</th>\n",
       "      <th>Age</th>\n",
       "      <th>KM</th>\n",
       "      <th>FuelType</th>\n",
       "      <th>HP</th>\n",
       "      <th>MetColor</th>\n",
       "      <th>Automatic</th>\n",
       "      <th>CC</th>\n",
       "      <th>Doors</th>\n",
       "      <th>Weight</th>\n",
       "    </tr>\n",
       "  </thead>\n",
       "  <tbody>\n",
       "    <tr>\n",
       "      <th>0</th>\n",
       "      <td>0</td>\n",
       "      <td>13500</td>\n",
       "      <td>23.0</td>\n",
       "      <td>46986</td>\n",
       "      <td>Diesel</td>\n",
       "      <td>90.0</td>\n",
       "      <td>1.0</td>\n",
       "      <td>0</td>\n",
       "      <td>2000</td>\n",
       "      <td>three</td>\n",
       "      <td>1165</td>\n",
       "    </tr>\n",
       "    <tr>\n",
       "      <th>1</th>\n",
       "      <td>1</td>\n",
       "      <td>13750</td>\n",
       "      <td>23.0</td>\n",
       "      <td>72937</td>\n",
       "      <td>Diesel</td>\n",
       "      <td>90.0</td>\n",
       "      <td>1.0</td>\n",
       "      <td>0</td>\n",
       "      <td>2000</td>\n",
       "      <td>3</td>\n",
       "      <td>1165</td>\n",
       "    </tr>\n",
       "    <tr>\n",
       "      <th>2</th>\n",
       "      <td>2</td>\n",
       "      <td>13950</td>\n",
       "      <td>24.0</td>\n",
       "      <td>41711</td>\n",
       "      <td>Diesel</td>\n",
       "      <td>90.0</td>\n",
       "      <td>NaN</td>\n",
       "      <td>0</td>\n",
       "      <td>2000</td>\n",
       "      <td>3</td>\n",
       "      <td>1165</td>\n",
       "    </tr>\n",
       "    <tr>\n",
       "      <th>3</th>\n",
       "      <td>3</td>\n",
       "      <td>14950</td>\n",
       "      <td>26.0</td>\n",
       "      <td>48000</td>\n",
       "      <td>Diesel</td>\n",
       "      <td>90.0</td>\n",
       "      <td>0.0</td>\n",
       "      <td>0</td>\n",
       "      <td>2000</td>\n",
       "      <td>3</td>\n",
       "      <td>1165</td>\n",
       "    </tr>\n",
       "    <tr>\n",
       "      <th>4</th>\n",
       "      <td>4</td>\n",
       "      <td>13750</td>\n",
       "      <td>30.0</td>\n",
       "      <td>38500</td>\n",
       "      <td>Diesel</td>\n",
       "      <td>90.0</td>\n",
       "      <td>0.0</td>\n",
       "      <td>0</td>\n",
       "      <td>2000</td>\n",
       "      <td>3</td>\n",
       "      <td>1170</td>\n",
       "    </tr>\n",
       "  </tbody>\n",
       "</table>\n",
       "</div>"
      ],
      "text/plain": [
       "   Unnamed: 0  Price   Age     KM FuelType    HP  MetColor  Automatic    CC  \\\n",
       "0           0  13500  23.0  46986   Diesel  90.0       1.0          0  2000   \n",
       "1           1  13750  23.0  72937   Diesel  90.0       1.0          0  2000   \n",
       "2           2  13950  24.0  41711   Diesel  90.0       NaN          0  2000   \n",
       "3           3  14950  26.0  48000   Diesel  90.0       0.0          0  2000   \n",
       "4           4  13750  30.0  38500   Diesel  90.0       0.0          0  2000   \n",
       "\n",
       "   Doors  Weight  \n",
       "0  three    1165  \n",
       "1      3    1165  \n",
       "2      3    1165  \n",
       "3      3    1165  \n",
       "4      3    1170  "
      ]
     },
     "execution_count": 45,
     "metadata": {},
     "output_type": "execute_result"
    }
   ],
   "source": [
    "df1.head()"
   ]
  },
  {
   "cell_type": "code",
   "execution_count": 47,
   "id": "4d8bf609-11f8-44f2-bb21-8629b10fd225",
   "metadata": {},
   "outputs": [],
   "source": [
    "## fix / inputs missing values for HP\n",
    "mean_HP= df1['HP'].mean()"
   ]
  },
  {
   "cell_type": "code",
   "execution_count": 48,
   "id": "1c9d687c-bf2c-4ff2-a404-3e37e9244a8b",
   "metadata": {},
   "outputs": [
    {
     "name": "stdout",
     "output_type": "stream",
     "text": [
      "101.47832167832168\n"
     ]
    }
   ],
   "source": [
    "print(mean_HP)"
   ]
  },
  {
   "cell_type": "code",
   "execution_count": 49,
   "id": "d660fe44-3cdd-4675-991b-b2ba29323a54",
   "metadata": {},
   "outputs": [
    {
     "data": {
      "text/plain": [
       "0        90.0\n",
       "1        90.0\n",
       "2        90.0\n",
       "3        90.0\n",
       "4        90.0\n",
       "        ...  \n",
       "1431     86.0\n",
       "1432     86.0\n",
       "1433     86.0\n",
       "1434     86.0\n",
       "1435    110.0\n",
       "Name: HP, Length: 1436, dtype: float64"
      ]
     },
     "execution_count": 49,
     "metadata": {},
     "output_type": "execute_result"
    }
   ],
   "source": [
    "df1['HP'].fillna(mean_HP)"
   ]
  },
  {
   "cell_type": "code",
   "execution_count": 51,
   "id": "78a0a644-907f-49b8-9137-b287dc2e1a55",
   "metadata": {},
   "outputs": [],
   "source": [
    "df1['KM'] =df1['KM'].replace('...', np.nan)"
   ]
  },
  {
   "cell_type": "code",
   "execution_count": 53,
   "id": "cc355307-cd69-43cb-a6c8-00d3fb98dc36",
   "metadata": {},
   "outputs": [
    {
     "data": {
      "text/plain": [
       "array(['46986', '72937', '41711', ..., '30964', '20544', '17016'],\n",
       "      dtype=object)"
      ]
     },
     "execution_count": 53,
     "metadata": {},
     "output_type": "execute_result"
    }
   ],
   "source": [
    "df1['KM'].unique()"
   ]
  }
 ],
 "metadata": {
  "kernelspec": {
   "display_name": "Python 3 (ipykernel)",
   "language": "python",
   "name": "python3"
  },
  "language_info": {
   "codemirror_mode": {
    "name": "ipython",
    "version": 3
   },
   "file_extension": ".py",
   "mimetype": "text/x-python",
   "name": "python",
   "nbconvert_exporter": "python",
   "pygments_lexer": "ipython3",
   "version": "3.12.4"
  }
 },
 "nbformat": 4,
 "nbformat_minor": 5
}
