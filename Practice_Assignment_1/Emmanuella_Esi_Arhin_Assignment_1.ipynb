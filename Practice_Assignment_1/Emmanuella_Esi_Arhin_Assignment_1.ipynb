{
 "cells": [
  {
   "cell_type": "code",
   "execution_count": 1,
   "id": "f86dd667-c8b4-4bd5-b938-fa8b13cffdd5",
   "metadata": {},
   "outputs": [],
   "source": [
    "# Importing the libraries\n",
    "import pandas as pd\n",
    "import numpy as np"
   ]
  },
  {
   "cell_type": "markdown",
   "id": "d9c4a516-70aa-4af9-9917-b6a5f659f581",
   "metadata": {},
   "source": [
    "# Reading, loading and copying data"
   ]
  },
  {
   "cell_type": "code",
   "execution_count": 2,
   "id": "b5463d79-976f-4661-ad2b-cf6bf8a2c9ec",
   "metadata": {},
   "outputs": [],
   "source": [
    "# Reading the dataset\n",
    "data = pd.read_csv('Datasets/Toyota.csv')"
   ]
  },
  {
   "cell_type": "code",
   "execution_count": 3,
   "id": "80ea1738-2694-4143-9e55-f668fd2d5c72",
   "metadata": {},
   "outputs": [],
   "source": [
    "# Making a copy of the dataset\n",
    "df1 = data.copy(deep=True)"
   ]
  },
  {
   "cell_type": "code",
   "execution_count": 4,
   "id": "8ac9676f-c4c7-47d4-9e8f-6b7305832501",
   "metadata": {},
   "outputs": [
    {
     "data": {
      "text/html": [
       "<div>\n",
       "<style scoped>\n",
       "    .dataframe tbody tr th:only-of-type {\n",
       "        vertical-align: middle;\n",
       "    }\n",
       "\n",
       "    .dataframe tbody tr th {\n",
       "        vertical-align: top;\n",
       "    }\n",
       "\n",
       "    .dataframe thead th {\n",
       "        text-align: right;\n",
       "    }\n",
       "</style>\n",
       "<table border=\"1\" class=\"dataframe\">\n",
       "  <thead>\n",
       "    <tr style=\"text-align: right;\">\n",
       "      <th></th>\n",
       "      <th>Unnamed: 0</th>\n",
       "      <th>Price</th>\n",
       "      <th>Age</th>\n",
       "      <th>KM</th>\n",
       "      <th>FuelType</th>\n",
       "      <th>HP</th>\n",
       "      <th>MetColor</th>\n",
       "      <th>Automatic</th>\n",
       "      <th>CC</th>\n",
       "      <th>Doors</th>\n",
       "      <th>Weight</th>\n",
       "    </tr>\n",
       "  </thead>\n",
       "  <tbody>\n",
       "    <tr>\n",
       "      <th>0</th>\n",
       "      <td>0</td>\n",
       "      <td>13500</td>\n",
       "      <td>23.0</td>\n",
       "      <td>46986</td>\n",
       "      <td>Diesel</td>\n",
       "      <td>90</td>\n",
       "      <td>1.0</td>\n",
       "      <td>0</td>\n",
       "      <td>2000</td>\n",
       "      <td>three</td>\n",
       "      <td>1165</td>\n",
       "    </tr>\n",
       "    <tr>\n",
       "      <th>1</th>\n",
       "      <td>1</td>\n",
       "      <td>13750</td>\n",
       "      <td>23.0</td>\n",
       "      <td>72937</td>\n",
       "      <td>Diesel</td>\n",
       "      <td>90</td>\n",
       "      <td>1.0</td>\n",
       "      <td>0</td>\n",
       "      <td>2000</td>\n",
       "      <td>3</td>\n",
       "      <td>1165</td>\n",
       "    </tr>\n",
       "    <tr>\n",
       "      <th>2</th>\n",
       "      <td>2</td>\n",
       "      <td>13950</td>\n",
       "      <td>24.0</td>\n",
       "      <td>41711</td>\n",
       "      <td>Diesel</td>\n",
       "      <td>90</td>\n",
       "      <td>NaN</td>\n",
       "      <td>0</td>\n",
       "      <td>2000</td>\n",
       "      <td>3</td>\n",
       "      <td>1165</td>\n",
       "    </tr>\n",
       "    <tr>\n",
       "      <th>3</th>\n",
       "      <td>3</td>\n",
       "      <td>14950</td>\n",
       "      <td>26.0</td>\n",
       "      <td>48000</td>\n",
       "      <td>Diesel</td>\n",
       "      <td>90</td>\n",
       "      <td>0.0</td>\n",
       "      <td>0</td>\n",
       "      <td>2000</td>\n",
       "      <td>3</td>\n",
       "      <td>1165</td>\n",
       "    </tr>\n",
       "    <tr>\n",
       "      <th>4</th>\n",
       "      <td>4</td>\n",
       "      <td>13750</td>\n",
       "      <td>30.0</td>\n",
       "      <td>38500</td>\n",
       "      <td>Diesel</td>\n",
       "      <td>90</td>\n",
       "      <td>0.0</td>\n",
       "      <td>0</td>\n",
       "      <td>2000</td>\n",
       "      <td>3</td>\n",
       "      <td>1170</td>\n",
       "    </tr>\n",
       "    <tr>\n",
       "      <th>...</th>\n",
       "      <td>...</td>\n",
       "      <td>...</td>\n",
       "      <td>...</td>\n",
       "      <td>...</td>\n",
       "      <td>...</td>\n",
       "      <td>...</td>\n",
       "      <td>...</td>\n",
       "      <td>...</td>\n",
       "      <td>...</td>\n",
       "      <td>...</td>\n",
       "      <td>...</td>\n",
       "    </tr>\n",
       "    <tr>\n",
       "      <th>1431</th>\n",
       "      <td>1431</td>\n",
       "      <td>7500</td>\n",
       "      <td>NaN</td>\n",
       "      <td>20544</td>\n",
       "      <td>Petrol</td>\n",
       "      <td>86</td>\n",
       "      <td>1.0</td>\n",
       "      <td>0</td>\n",
       "      <td>1300</td>\n",
       "      <td>3</td>\n",
       "      <td>1025</td>\n",
       "    </tr>\n",
       "    <tr>\n",
       "      <th>1432</th>\n",
       "      <td>1432</td>\n",
       "      <td>10845</td>\n",
       "      <td>72.0</td>\n",
       "      <td>??</td>\n",
       "      <td>Petrol</td>\n",
       "      <td>86</td>\n",
       "      <td>0.0</td>\n",
       "      <td>0</td>\n",
       "      <td>1300</td>\n",
       "      <td>3</td>\n",
       "      <td>1015</td>\n",
       "    </tr>\n",
       "    <tr>\n",
       "      <th>1433</th>\n",
       "      <td>1433</td>\n",
       "      <td>8500</td>\n",
       "      <td>NaN</td>\n",
       "      <td>17016</td>\n",
       "      <td>Petrol</td>\n",
       "      <td>86</td>\n",
       "      <td>0.0</td>\n",
       "      <td>0</td>\n",
       "      <td>1300</td>\n",
       "      <td>3</td>\n",
       "      <td>1015</td>\n",
       "    </tr>\n",
       "    <tr>\n",
       "      <th>1434</th>\n",
       "      <td>1434</td>\n",
       "      <td>7250</td>\n",
       "      <td>70.0</td>\n",
       "      <td>??</td>\n",
       "      <td>NaN</td>\n",
       "      <td>86</td>\n",
       "      <td>1.0</td>\n",
       "      <td>0</td>\n",
       "      <td>1300</td>\n",
       "      <td>3</td>\n",
       "      <td>1015</td>\n",
       "    </tr>\n",
       "    <tr>\n",
       "      <th>1435</th>\n",
       "      <td>1435</td>\n",
       "      <td>6950</td>\n",
       "      <td>76.0</td>\n",
       "      <td>1</td>\n",
       "      <td>Petrol</td>\n",
       "      <td>110</td>\n",
       "      <td>0.0</td>\n",
       "      <td>0</td>\n",
       "      <td>1600</td>\n",
       "      <td>5</td>\n",
       "      <td>1114</td>\n",
       "    </tr>\n",
       "  </tbody>\n",
       "</table>\n",
       "<p>1436 rows × 11 columns</p>\n",
       "</div>"
      ],
      "text/plain": [
       "      Unnamed: 0  Price   Age     KM FuelType   HP  MetColor  Automatic    CC  \\\n",
       "0              0  13500  23.0  46986   Diesel   90       1.0          0  2000   \n",
       "1              1  13750  23.0  72937   Diesel   90       1.0          0  2000   \n",
       "2              2  13950  24.0  41711   Diesel   90       NaN          0  2000   \n",
       "3              3  14950  26.0  48000   Diesel   90       0.0          0  2000   \n",
       "4              4  13750  30.0  38500   Diesel   90       0.0          0  2000   \n",
       "...          ...    ...   ...    ...      ...  ...       ...        ...   ...   \n",
       "1431        1431   7500   NaN  20544   Petrol   86       1.0          0  1300   \n",
       "1432        1432  10845  72.0     ??   Petrol   86       0.0          0  1300   \n",
       "1433        1433   8500   NaN  17016   Petrol   86       0.0          0  1300   \n",
       "1434        1434   7250  70.0     ??      NaN   86       1.0          0  1300   \n",
       "1435        1435   6950  76.0      1   Petrol  110       0.0          0  1600   \n",
       "\n",
       "      Doors  Weight  \n",
       "0     three    1165  \n",
       "1         3    1165  \n",
       "2         3    1165  \n",
       "3         3    1165  \n",
       "4         3    1170  \n",
       "...     ...     ...  \n",
       "1431      3    1025  \n",
       "1432      3    1015  \n",
       "1433      3    1015  \n",
       "1434      3    1015  \n",
       "1435      5    1114  \n",
       "\n",
       "[1436 rows x 11 columns]"
      ]
     },
     "execution_count": 4,
     "metadata": {},
     "output_type": "execute_result"
    }
   ],
   "source": [
    "# Displaying the dataset\n",
    "df1"
   ]
  },
  {
   "cell_type": "markdown",
   "id": "063be98e-ae92-4398-8f75-6e20f2b1117f",
   "metadata": {},
   "source": [
    "# Understanding the dataset"
   ]
  },
  {
   "cell_type": "code",
   "execution_count": 5,
   "id": "86c6e10d-c8c1-47a9-bf9f-467a97088d9f",
   "metadata": {},
   "outputs": [
    {
     "data": {
      "text/html": [
       "<div>\n",
       "<style scoped>\n",
       "    .dataframe tbody tr th:only-of-type {\n",
       "        vertical-align: middle;\n",
       "    }\n",
       "\n",
       "    .dataframe tbody tr th {\n",
       "        vertical-align: top;\n",
       "    }\n",
       "\n",
       "    .dataframe thead th {\n",
       "        text-align: right;\n",
       "    }\n",
       "</style>\n",
       "<table border=\"1\" class=\"dataframe\">\n",
       "  <thead>\n",
       "    <tr style=\"text-align: right;\">\n",
       "      <th></th>\n",
       "      <th>Unnamed: 0</th>\n",
       "      <th>Price</th>\n",
       "      <th>Age</th>\n",
       "      <th>KM</th>\n",
       "      <th>FuelType</th>\n",
       "      <th>HP</th>\n",
       "      <th>MetColor</th>\n",
       "      <th>Automatic</th>\n",
       "      <th>CC</th>\n",
       "      <th>Doors</th>\n",
       "      <th>Weight</th>\n",
       "    </tr>\n",
       "  </thead>\n",
       "  <tbody>\n",
       "    <tr>\n",
       "      <th>0</th>\n",
       "      <td>0</td>\n",
       "      <td>13500</td>\n",
       "      <td>23.0</td>\n",
       "      <td>46986</td>\n",
       "      <td>Diesel</td>\n",
       "      <td>90</td>\n",
       "      <td>1.0</td>\n",
       "      <td>0</td>\n",
       "      <td>2000</td>\n",
       "      <td>three</td>\n",
       "      <td>1165</td>\n",
       "    </tr>\n",
       "    <tr>\n",
       "      <th>1</th>\n",
       "      <td>1</td>\n",
       "      <td>13750</td>\n",
       "      <td>23.0</td>\n",
       "      <td>72937</td>\n",
       "      <td>Diesel</td>\n",
       "      <td>90</td>\n",
       "      <td>1.0</td>\n",
       "      <td>0</td>\n",
       "      <td>2000</td>\n",
       "      <td>3</td>\n",
       "      <td>1165</td>\n",
       "    </tr>\n",
       "    <tr>\n",
       "      <th>2</th>\n",
       "      <td>2</td>\n",
       "      <td>13950</td>\n",
       "      <td>24.0</td>\n",
       "      <td>41711</td>\n",
       "      <td>Diesel</td>\n",
       "      <td>90</td>\n",
       "      <td>NaN</td>\n",
       "      <td>0</td>\n",
       "      <td>2000</td>\n",
       "      <td>3</td>\n",
       "      <td>1165</td>\n",
       "    </tr>\n",
       "    <tr>\n",
       "      <th>3</th>\n",
       "      <td>3</td>\n",
       "      <td>14950</td>\n",
       "      <td>26.0</td>\n",
       "      <td>48000</td>\n",
       "      <td>Diesel</td>\n",
       "      <td>90</td>\n",
       "      <td>0.0</td>\n",
       "      <td>0</td>\n",
       "      <td>2000</td>\n",
       "      <td>3</td>\n",
       "      <td>1165</td>\n",
       "    </tr>\n",
       "    <tr>\n",
       "      <th>4</th>\n",
       "      <td>4</td>\n",
       "      <td>13750</td>\n",
       "      <td>30.0</td>\n",
       "      <td>38500</td>\n",
       "      <td>Diesel</td>\n",
       "      <td>90</td>\n",
       "      <td>0.0</td>\n",
       "      <td>0</td>\n",
       "      <td>2000</td>\n",
       "      <td>3</td>\n",
       "      <td>1170</td>\n",
       "    </tr>\n",
       "  </tbody>\n",
       "</table>\n",
       "</div>"
      ],
      "text/plain": [
       "   Unnamed: 0  Price   Age     KM FuelType  HP  MetColor  Automatic    CC  \\\n",
       "0           0  13500  23.0  46986   Diesel  90       1.0          0  2000   \n",
       "1           1  13750  23.0  72937   Diesel  90       1.0          0  2000   \n",
       "2           2  13950  24.0  41711   Diesel  90       NaN          0  2000   \n",
       "3           3  14950  26.0  48000   Diesel  90       0.0          0  2000   \n",
       "4           4  13750  30.0  38500   Diesel  90       0.0          0  2000   \n",
       "\n",
       "   Doors  Weight  \n",
       "0  three    1165  \n",
       "1      3    1165  \n",
       "2      3    1165  \n",
       "3      3    1165  \n",
       "4      3    1170  "
      ]
     },
     "execution_count": 5,
     "metadata": {},
     "output_type": "execute_result"
    }
   ],
   "source": [
    "# Displaying the first 5 rows\n",
    "df1.head()"
   ]
  },
  {
   "cell_type": "code",
   "execution_count": 6,
   "id": "a74e168a-3b9c-4934-8db7-b1a3fc235867",
   "metadata": {},
   "outputs": [
    {
     "data": {
      "text/html": [
       "<div>\n",
       "<style scoped>\n",
       "    .dataframe tbody tr th:only-of-type {\n",
       "        vertical-align: middle;\n",
       "    }\n",
       "\n",
       "    .dataframe tbody tr th {\n",
       "        vertical-align: top;\n",
       "    }\n",
       "\n",
       "    .dataframe thead th {\n",
       "        text-align: right;\n",
       "    }\n",
       "</style>\n",
       "<table border=\"1\" class=\"dataframe\">\n",
       "  <thead>\n",
       "    <tr style=\"text-align: right;\">\n",
       "      <th></th>\n",
       "      <th>Unnamed: 0</th>\n",
       "      <th>Price</th>\n",
       "      <th>Age</th>\n",
       "      <th>KM</th>\n",
       "      <th>FuelType</th>\n",
       "      <th>HP</th>\n",
       "      <th>MetColor</th>\n",
       "      <th>Automatic</th>\n",
       "      <th>CC</th>\n",
       "      <th>Doors</th>\n",
       "      <th>Weight</th>\n",
       "    </tr>\n",
       "  </thead>\n",
       "  <tbody>\n",
       "    <tr>\n",
       "      <th>1431</th>\n",
       "      <td>1431</td>\n",
       "      <td>7500</td>\n",
       "      <td>NaN</td>\n",
       "      <td>20544</td>\n",
       "      <td>Petrol</td>\n",
       "      <td>86</td>\n",
       "      <td>1.0</td>\n",
       "      <td>0</td>\n",
       "      <td>1300</td>\n",
       "      <td>3</td>\n",
       "      <td>1025</td>\n",
       "    </tr>\n",
       "    <tr>\n",
       "      <th>1432</th>\n",
       "      <td>1432</td>\n",
       "      <td>10845</td>\n",
       "      <td>72.0</td>\n",
       "      <td>??</td>\n",
       "      <td>Petrol</td>\n",
       "      <td>86</td>\n",
       "      <td>0.0</td>\n",
       "      <td>0</td>\n",
       "      <td>1300</td>\n",
       "      <td>3</td>\n",
       "      <td>1015</td>\n",
       "    </tr>\n",
       "    <tr>\n",
       "      <th>1433</th>\n",
       "      <td>1433</td>\n",
       "      <td>8500</td>\n",
       "      <td>NaN</td>\n",
       "      <td>17016</td>\n",
       "      <td>Petrol</td>\n",
       "      <td>86</td>\n",
       "      <td>0.0</td>\n",
       "      <td>0</td>\n",
       "      <td>1300</td>\n",
       "      <td>3</td>\n",
       "      <td>1015</td>\n",
       "    </tr>\n",
       "    <tr>\n",
       "      <th>1434</th>\n",
       "      <td>1434</td>\n",
       "      <td>7250</td>\n",
       "      <td>70.0</td>\n",
       "      <td>??</td>\n",
       "      <td>NaN</td>\n",
       "      <td>86</td>\n",
       "      <td>1.0</td>\n",
       "      <td>0</td>\n",
       "      <td>1300</td>\n",
       "      <td>3</td>\n",
       "      <td>1015</td>\n",
       "    </tr>\n",
       "    <tr>\n",
       "      <th>1435</th>\n",
       "      <td>1435</td>\n",
       "      <td>6950</td>\n",
       "      <td>76.0</td>\n",
       "      <td>1</td>\n",
       "      <td>Petrol</td>\n",
       "      <td>110</td>\n",
       "      <td>0.0</td>\n",
       "      <td>0</td>\n",
       "      <td>1600</td>\n",
       "      <td>5</td>\n",
       "      <td>1114</td>\n",
       "    </tr>\n",
       "  </tbody>\n",
       "</table>\n",
       "</div>"
      ],
      "text/plain": [
       "      Unnamed: 0  Price   Age     KM FuelType   HP  MetColor  Automatic    CC  \\\n",
       "1431        1431   7500   NaN  20544   Petrol   86       1.0          0  1300   \n",
       "1432        1432  10845  72.0     ??   Petrol   86       0.0          0  1300   \n",
       "1433        1433   8500   NaN  17016   Petrol   86       0.0          0  1300   \n",
       "1434        1434   7250  70.0     ??      NaN   86       1.0          0  1300   \n",
       "1435        1435   6950  76.0      1   Petrol  110       0.0          0  1600   \n",
       "\n",
       "     Doors  Weight  \n",
       "1431     3    1025  \n",
       "1432     3    1015  \n",
       "1433     3    1015  \n",
       "1434     3    1015  \n",
       "1435     5    1114  "
      ]
     },
     "execution_count": 6,
     "metadata": {},
     "output_type": "execute_result"
    }
   ],
   "source": [
    "# Displaying the las 5 rows\n",
    "df1.tail()"
   ]
  },
  {
   "cell_type": "code",
   "execution_count": 7,
   "id": "8e9bded8-6f79-4e1e-9097-792dcae313d4",
   "metadata": {},
   "outputs": [
    {
     "data": {
      "text/plain": [
       "Index(['Unnamed: 0', 'Price', 'Age', 'KM', 'FuelType', 'HP', 'MetColor',\n",
       "       'Automatic', 'CC', 'Doors', 'Weight'],\n",
       "      dtype='object')"
      ]
     },
     "execution_count": 7,
     "metadata": {},
     "output_type": "execute_result"
    }
   ],
   "source": [
    "# Displaying the columns in the dataset\n",
    "df1.columns"
   ]
  },
  {
   "cell_type": "code",
   "execution_count": 8,
   "id": "c1e051b5-a651-46b9-94a7-2b59d5556f07",
   "metadata": {},
   "outputs": [
    {
     "name": "stdout",
     "output_type": "stream",
     "text": [
      "Unnamed: 0\n",
      "Price\n",
      "Age\n",
      "KM\n",
      "FuelType\n",
      "HP\n",
      "MetColor\n",
      "Automatic\n",
      "CC\n",
      "Doors\n",
      "Weight\n"
     ]
    }
   ],
   "source": [
    "# Getting access to each of the column names of the dataset\n",
    "for items in df1.columns:\n",
    "    print(items)"
   ]
  },
  {
   "cell_type": "code",
   "execution_count": 9,
   "id": "d04e199a-ba8e-4387-87b9-49c903faad41",
   "metadata": {},
   "outputs": [
    {
     "name": "stdout",
     "output_type": "stream",
     "text": [
      "UNNAMED: 0\n",
      "PRICE\n",
      "AGE\n",
      "KM\n",
      "FUELTYPE\n",
      "HP\n",
      "METCOLOR\n",
      "AUTOMATIC\n",
      "CC\n",
      "DOORS\n",
      "WEIGHT\n"
     ]
    }
   ],
   "source": [
    "# Making changes to the column names\n",
    "for items in df1.columns:\n",
    "    print(items.upper())"
   ]
  },
  {
   "cell_type": "code",
   "execution_count": 10,
   "id": "71750784-0639-4c4f-b332-1321e68327ba",
   "metadata": {},
   "outputs": [
    {
     "data": {
      "text/plain": [
       "0       13500\n",
       "1       13750\n",
       "2       13950\n",
       "3       14950\n",
       "4       13750\n",
       "        ...  \n",
       "1431     7500\n",
       "1432    10845\n",
       "1433     8500\n",
       "1434     7250\n",
       "1435     6950\n",
       "Name: Price, Length: 1436, dtype: int64"
      ]
     },
     "execution_count": 10,
     "metadata": {},
     "output_type": "execute_result"
    }
   ],
   "source": [
    "# Accessing the values of the column by their label\n",
    "df1['Price']"
   ]
  },
  {
   "cell_type": "code",
   "execution_count": 11,
   "id": "06b75193-68aa-46d0-a274-293b54acb168",
   "metadata": {},
   "outputs": [
    {
     "name": "stdout",
     "output_type": "stream",
     "text": [
      "13750\n"
     ]
    }
   ],
   "source": [
    "# Accessing a single value for a row and column by their label and index\n",
    "sample = df1.at[1, 'Price']\n",
    "print(sample) "
   ]
  },
  {
   "cell_type": "code",
   "execution_count": 12,
   "id": "53ec65db-2caa-4fcc-82cb-8103a3d7cfbe",
   "metadata": {},
   "outputs": [
    {
     "name": "stdout",
     "output_type": "stream",
     "text": [
      "13750\n"
     ]
    }
   ],
   "source": [
    "# Displaying a single values for a row and column by using column interger and index\n",
    "sample1 = df1.iat[1,1]\n",
    "print(sample1)"
   ]
  },
  {
   "cell_type": "code",
   "execution_count": 13,
   "id": "02f9b5c6-69a3-4186-8641-65039daf5e19",
   "metadata": {},
   "outputs": [
    {
     "data": {
      "text/plain": [
       "0     13500\n",
       "1     13750\n",
       "2     13950\n",
       "3     14950\n",
       "4     13750\n",
       "5     12950\n",
       "6     16900\n",
       "7     18600\n",
       "8     21500\n",
       "9     12950\n",
       "10    20950\n",
       "11    19950\n",
       "12    19600\n",
       "13    21500\n",
       "14    22500\n",
       "15    22000\n",
       "Name: Price, dtype: int64"
      ]
     },
     "execution_count": 13,
     "metadata": {},
     "output_type": "execute_result"
    }
   ],
   "source": [
    "# Accessing multiple values for a row and a column by their label\n",
    "df1.loc[0 : 15, 'Price']"
   ]
  },
  {
   "cell_type": "code",
   "execution_count": 14,
   "id": "c974cdf0-174d-495d-81d5-7736f2a119b8",
   "metadata": {},
   "outputs": [
    {
     "data": {
      "text/plain": [
       "0     13500\n",
       "1     13750\n",
       "2     13950\n",
       "3     14950\n",
       "4     13750\n",
       "5     12950\n",
       "6     16900\n",
       "7     18600\n",
       "8     21500\n",
       "9     12950\n",
       "10    20950\n",
       "11    19950\n",
       "12    19600\n",
       "13    21500\n",
       "14    22500\n",
       "Name: Price, dtype: int64"
      ]
     },
     "execution_count": 14,
     "metadata": {},
     "output_type": "execute_result"
    }
   ],
   "source": [
    "# Accessing multiple values for a row and columns using the column interger\n",
    "df1.iloc[0 : 15, 1]"
   ]
  },
  {
   "cell_type": "code",
   "execution_count": 15,
   "id": "e65b6cef-cce8-4872-a470-c9a6dfa0a3be",
   "metadata": {},
   "outputs": [
    {
     "data": {
      "text/plain": [
       "15796"
      ]
     },
     "execution_count": 15,
     "metadata": {},
     "output_type": "execute_result"
    }
   ],
   "source": [
    "# Returnung the size of the dataset\n",
    "df1.size"
   ]
  },
  {
   "cell_type": "code",
   "execution_count": 16,
   "id": "4974eb35-6fd9-4c16-97f9-ac10f8a11aca",
   "metadata": {},
   "outputs": [
    {
     "data": {
      "text/plain": [
       "(1436, 11)"
      ]
     },
     "execution_count": 16,
     "metadata": {},
     "output_type": "execute_result"
    }
   ],
   "source": [
    "# Returning the shape of the dataset\n",
    "df1.shape"
   ]
  },
  {
   "cell_type": "code",
   "execution_count": 17,
   "id": "03699c32-7afc-43a7-80ac-bf544b5ca5f1",
   "metadata": {},
   "outputs": [
    {
     "name": "stdout",
     "output_type": "stream",
     "text": [
      "Total number of rows: 1436 \n",
      "Total number of columns: 11\n"
     ]
    }
   ],
   "source": [
    "# Returning the number of rows and column in a print statement using thr f string\n",
    "print(f'Total number of rows: {df1.shape[0]} \\nTotal number of columns: {df1.shape[1]}')"
   ]
  },
  {
   "cell_type": "code",
   "execution_count": 18,
   "id": "2d2500d2-9315-4d6a-a1e0-d83d7abbc4d8",
   "metadata": {},
   "outputs": [
    {
     "data": {
      "text/plain": [
       "1436"
      ]
     },
     "execution_count": 18,
     "metadata": {},
     "output_type": "execute_result"
    }
   ],
   "source": [
    "# Calling a value from the shape of the dataset\n",
    "df1.shape[0]"
   ]
  },
  {
   "cell_type": "code",
   "execution_count": 19,
   "id": "47c6a7ac-faab-4f13-bbc8-e09122762e35",
   "metadata": {},
   "outputs": [
    {
     "name": "stdout",
     "output_type": "stream",
     "text": [
      "<class 'pandas.core.frame.DataFrame'>\n",
      "RangeIndex: 1436 entries, 0 to 1435\n",
      "Data columns (total 11 columns):\n",
      " #   Column      Non-Null Count  Dtype  \n",
      "---  ------      --------------  -----  \n",
      " 0   Unnamed: 0  1436 non-null   int64  \n",
      " 1   Price       1436 non-null   int64  \n",
      " 2   Age         1336 non-null   float64\n",
      " 3   KM          1436 non-null   object \n",
      " 4   FuelType    1336 non-null   object \n",
      " 5   HP          1436 non-null   object \n",
      " 6   MetColor    1286 non-null   float64\n",
      " 7   Automatic   1436 non-null   int64  \n",
      " 8   CC          1436 non-null   int64  \n",
      " 9   Doors       1436 non-null   object \n",
      " 10  Weight      1436 non-null   int64  \n",
      "dtypes: float64(2), int64(5), object(4)\n",
      "memory usage: 123.5+ KB\n"
     ]
    }
   ],
   "source": [
    "# Returning the summary of the dataset\n",
    "df1.info()"
   ]
  },
  {
   "cell_type": "code",
   "execution_count": 20,
   "id": "4e0d9621-2ce4-4991-8390-b473ddd3aa9c",
   "metadata": {},
   "outputs": [
    {
     "data": {
      "text/plain": [
       "Unnamed: 0      int64\n",
       "Price           int64\n",
       "Age           float64\n",
       "KM             object\n",
       "FuelType       object\n",
       "HP             object\n",
       "MetColor      float64\n",
       "Automatic       int64\n",
       "CC              int64\n",
       "Doors          object\n",
       "Weight          int64\n",
       "dtype: object"
      ]
     },
     "execution_count": 20,
     "metadata": {},
     "output_type": "execute_result"
    }
   ],
   "source": [
    "# Returns the columns and their types\n",
    "df1.dtypes"
   ]
  },
  {
   "cell_type": "code",
   "execution_count": 21,
   "id": "9e99f35c-3f74-4b19-b6d3-84c209acf1aa",
   "metadata": {},
   "outputs": [
    {
     "data": {
      "text/plain": [
       "Unnamed: 0    1436\n",
       "Price          236\n",
       "Age             77\n",
       "KM            1256\n",
       "FuelType         3\n",
       "HP              13\n",
       "MetColor         2\n",
       "Automatic        2\n",
       "CC              12\n",
       "Doors            7\n",
       "Weight          59\n",
       "dtype: int64"
      ]
     },
     "execution_count": 21,
     "metadata": {},
     "output_type": "execute_result"
    }
   ],
   "source": [
    "# REturning the unique values in each column\n",
    "df1.nunique()"
   ]
  },
  {
   "cell_type": "code",
   "execution_count": 22,
   "id": "ad0d5a48-fd4a-455a-a6d0-15099d7a47f3",
   "metadata": {},
   "outputs": [
    {
     "data": {
      "text/plain": [
       "array([23., 24., 26., 30., 32., 27., 25., 22., 31., 28., 29., nan, 20.,\n",
       "       19., 17., 11., 18., 13., 14.,  4.,  8.,  7., 16., 15., 10., 12.,\n",
       "        9.,  6.,  2.,  1., 43., 38., 40., 44., 41., 37., 39., 42., 35.,\n",
       "       34., 33., 36., 53., 51., 54., 45., 55., 48., 52., 49., 56., 50.,\n",
       "       47., 46., 58., 68., 59., 62., 65., 67., 64., 60., 61., 66., 57.,\n",
       "       63., 73., 79., 78., 74., 77., 69., 80., 76., 70., 71., 75., 72.])"
      ]
     },
     "execution_count": 22,
     "metadata": {},
     "output_type": "execute_result"
    }
   ],
   "source": [
    "# Returning the number of uniques values in Age\n",
    "df1['Age'].unique()"
   ]
  },
  {
   "cell_type": "code",
   "execution_count": 23,
   "id": "9fca30ec-166e-4eb6-9958-6cff558338f2",
   "metadata": {},
   "outputs": [
    {
     "data": {
      "text/plain": [
       "array(['46986', '72937', '41711', ..., '30964', '20544', '17016'],\n",
       "      dtype=object)"
      ]
     },
     "execution_count": 23,
     "metadata": {},
     "output_type": "execute_result"
    }
   ],
   "source": [
    "# Returns the number of uniques values in KM\n",
    "df1['KM'].unique()"
   ]
  },
  {
   "cell_type": "code",
   "execution_count": 24,
   "id": "1714fd4e-be8e-458b-b494-0b2f6213380b",
   "metadata": {},
   "outputs": [
    {
     "data": {
      "text/plain": [
       "array(['Diesel', nan, 'Petrol', 'CNG'], dtype=object)"
      ]
     },
     "execution_count": 24,
     "metadata": {},
     "output_type": "execute_result"
    }
   ],
   "source": [
    "# Returns the number of uniques values in FuelType\n",
    "df1['FuelType'].unique()"
   ]
  },
  {
   "cell_type": "code",
   "execution_count": 25,
   "id": "e77ddc78-3f29-4c05-86af-44c5a77ffb33",
   "metadata": {},
   "outputs": [
    {
     "data": {
      "text/plain": [
       "array(['90', '????', '192', '110', '97', '71', '116', '98', '69', '86',\n",
       "       '72', '107', '73'], dtype=object)"
      ]
     },
     "execution_count": 25,
     "metadata": {},
     "output_type": "execute_result"
    }
   ],
   "source": [
    "# Returns the number of uniques values in HP\n",
    "df1['HP'].unique()"
   ]
  },
  {
   "cell_type": "code",
   "execution_count": 26,
   "id": "cff147b7-ae69-49d1-984d-c288d7645775",
   "metadata": {},
   "outputs": [
    {
     "data": {
      "text/plain": [
       "array([ 1., nan,  0.])"
      ]
     },
     "execution_count": 26,
     "metadata": {},
     "output_type": "execute_result"
    }
   ],
   "source": [
    "# Returns the number of uniques values in MetColor\n",
    "df1['MetColor'].unique()"
   ]
  },
  {
   "cell_type": "code",
   "execution_count": 27,
   "id": "dd856bc4-f96b-43b1-a6ee-a135f5c2aff8",
   "metadata": {},
   "outputs": [
    {
     "data": {
      "text/plain": [
       "array([0, 1])"
      ]
     },
     "execution_count": 27,
     "metadata": {},
     "output_type": "execute_result"
    }
   ],
   "source": [
    "# Returns the number of uniques values in Automatic\n",
    "df1['Automatic'].unique()"
   ]
  },
  {
   "cell_type": "code",
   "execution_count": 28,
   "id": "7c1b0b59-9681-4259-bcb4-65aaa1605e42",
   "metadata": {},
   "outputs": [
    {
     "data": {
      "text/plain": [
       "array([2000, 1800, 1900, 1600, 1400, 1598, 1995, 1398, 1300, 1587, 1975,\n",
       "       1332])"
      ]
     },
     "execution_count": 28,
     "metadata": {},
     "output_type": "execute_result"
    }
   ],
   "source": [
    "# Returns the number of uniques values in CC\n",
    "df1['CC'].unique()"
   ]
  },
  {
   "cell_type": "code",
   "execution_count": 29,
   "id": "a29851b6-8715-436d-85fe-e6839de27e93",
   "metadata": {},
   "outputs": [
    {
     "data": {
      "text/plain": [
       "array(['three', '3', '5', '4', 'four', 'five', '2'], dtype=object)"
      ]
     },
     "execution_count": 29,
     "metadata": {},
     "output_type": "execute_result"
    }
   ],
   "source": [
    "# Returns the number of uniques values in Doors\n",
    "df1['Doors'].unique()"
   ]
  },
  {
   "cell_type": "code",
   "execution_count": 30,
   "id": "173bd132-79f9-4f7f-8bbc-027fa4a404e5",
   "metadata": {},
   "outputs": [
    {
     "data": {
      "text/plain": [
       "array([1165, 1170, 1245, 1185, 1105, 1065, 1120, 1100, 1255, 1270, 1110,\n",
       "       1195, 1180, 1075, 1130, 1275, 1060, 1115, 1265, 1260, 1125, 1155,\n",
       "       1045, 1480, 1320, 1280, 1135, 1090, 1150, 1085, 1160, 1205, 1084,\n",
       "       1140, 1095, 1025, 1119, 1080, 1121, 1615, 1067, 1040, 1030, 1055,\n",
       "       1050, 1103, 1070, 1035, 1015, 1000, 1078, 1079, 1109, 1020, 1010,\n",
       "       1114, 1172, 1094, 1083])"
      ]
     },
     "execution_count": 30,
     "metadata": {},
     "output_type": "execute_result"
    }
   ],
   "source": [
    "# Returns the number of uniques values in Weight\n",
    "df1['Weight'].unique()"
   ]
  },
  {
   "cell_type": "code",
   "execution_count": 31,
   "id": "3ffb52a0-fddd-4970-9e80-1360daefca35",
   "metadata": {},
   "outputs": [
    {
     "data": {
      "text/plain": [
       "array([13500, 13750, 13950, 14950, 12950, 16900, 18600, 21500, 20950,\n",
       "       19950, 19600, 22500, 22000, 22750, 17950, 16750, 16950, 15950,\n",
       "       16250, 17495, 15750, 15500, 14750, 19000, 15800, 21950, 20500,\n",
       "       13250, 15250, 18950, 15999, 16500, 18750, 22250, 12995, 18450,\n",
       "       16895, 14900, 17250, 15450, 16650, 17450, 16450, 18900, 18990,\n",
       "       18500, 19450, 18800, 32500, 31000, 31275, 24950, 22950, 24990,\n",
       "       17900, 19250, 16350, 21750, 15850, 23000, 19900, 23950, 24500,\n",
       "       17200, 19500, 16868, 19750, 20750, 17650, 17795, 18245, 23750,\n",
       "       18700, 21125,  6950,  9500, 11950,  7750,  4350,  4750, 11750,\n",
       "       11900,  9950, 11495, 11250, 10500, 10450, 11500, 12500, 10950,\n",
       "       11450, 11790, 12450, 11690, 12750, 11925, 12900, 11650, 10850,\n",
       "        9940, 13450, 12495, 12000, 11480, 14990, 12850, 11700, 11895,\n",
       "       13875, 12295, 13995,  9900, 11990, 10750, 11695, 11000, 12400,\n",
       "       12200, 12695, 14350, 10250,  6500,  6400,  7000,  8900,  8500,\n",
       "        8950,  9250,  9450,  8250,  4450,  9000,  5150,  7900, 10900,\n",
       "        9750, 11290, 10895, 10995,  9850,  8695, 10990,  8750,  9930,\n",
       "        9799,  9700,  9990,  9475, 10000, 10495,  9400,  9650,  9550,\n",
       "       13000, 11710,  9980, 12250, 11930, 10800, 10600,  7500,  5950,\n",
       "        6900,  5751,  7950,  6250,  8450,  7350,  9800,  7995,  8600,\n",
       "        7250,  8000,  8495,  9895,  7999,  8490,  8150,  7450,  9130,\n",
       "        8990,  8995,  9995, 10400,  8800,  7800,  8100,  8200, 10295,\n",
       "        9795, 10350,  8400,  8895,  9390,  8745,  8850,  9695,  9245,\n",
       "        5900,  6000,  5250,  4400,  6750,  6150,  5750,  5800,  5740,\n",
       "        6550,  6450,  5600,  6650,  7600,  7460,  6800,  8700,  6640,\n",
       "        8050,  7795,  6490,  6425,  6495,  6990,  7200,  7300,  9200,\n",
       "        7850,  7495,  7990,  7490,  7145,  7400,  6999,  7499,  7150,\n",
       "        5845, 10845])"
      ]
     },
     "execution_count": 31,
     "metadata": {},
     "output_type": "execute_result"
    }
   ],
   "source": [
    "# Returns the number of uniques values in Price\n",
    "df1['Price'].unique()"
   ]
  },
  {
   "cell_type": "code",
   "execution_count": 32,
   "id": "52d56a58-ba18-4c2a-a733-3a3cc80a67b0",
   "metadata": {},
   "outputs": [
    {
     "data": {
      "text/plain": [
       "Unnamed: 0      0\n",
       "Price           0\n",
       "Age           100\n",
       "KM              0\n",
       "FuelType      100\n",
       "HP              0\n",
       "MetColor      150\n",
       "Automatic       0\n",
       "CC              0\n",
       "Doors           0\n",
       "Weight          0\n",
       "dtype: int64"
      ]
     },
     "execution_count": 32,
     "metadata": {},
     "output_type": "execute_result"
    }
   ],
   "source": [
    "# Returns the number of missing values in each column\n",
    "df1.isnull().sum()"
   ]
  },
  {
   "cell_type": "markdown",
   "id": "c3df4bd6-2f14-4b7d-bb18-e6a5324c2418",
   "metadata": {},
   "source": [
    "# Data Preprocessing"
   ]
  },
  {
   "cell_type": "code",
   "execution_count": 33,
   "id": "3bb7ca66-df6e-495b-b4e2-c2df6293091a",
   "metadata": {},
   "outputs": [],
   "source": [
    "# Replaces ???? with the appropriate missing value in numpy\n",
    "df1['HP'] = df1['HP'].replace('????', np.nan)"
   ]
  },
  {
   "cell_type": "code",
   "execution_count": 34,
   "id": "ea314830-e741-4f50-8867-5fa105171adc",
   "metadata": {},
   "outputs": [
    {
     "data": {
      "text/plain": [
       "array(['90', nan, '192', '110', '97', '71', '116', '98', '69', '86', '72',\n",
       "       '107', '73'], dtype=object)"
      ]
     },
     "execution_count": 34,
     "metadata": {},
     "output_type": "execute_result"
    }
   ],
   "source": [
    "df1['HP'].unique()"
   ]
  },
  {
   "cell_type": "code",
   "execution_count": 35,
   "id": "73229c99-b5d6-40c7-a62e-02a7faab1608",
   "metadata": {},
   "outputs": [],
   "source": [
    "# Replaces the three, four and five with integer\n",
    "df1['Doors'] = df1['Doors'].replace('three', 3)\n",
    "df1['Doors'] = df1['Doors'].replace('four', 4)\n",
    "df1['Doors'] = df1['Doors'].replace('five', 5)"
   ]
  },
  {
   "cell_type": "code",
   "execution_count": 36,
   "id": "69b86e03-d0f6-471d-9c45-61da5d06c5d3",
   "metadata": {},
   "outputs": [
    {
     "data": {
      "text/plain": [
       "array([3, '3', '5', '4', 4, 5, '2'], dtype=object)"
      ]
     },
     "execution_count": 36,
     "metadata": {},
     "output_type": "execute_result"
    }
   ],
   "source": [
    "df1['Doors'].unique()"
   ]
  },
  {
   "cell_type": "code",
   "execution_count": 37,
   "id": "3eabbb9d-ddff-46d7-afff-43812d3b5526",
   "metadata": {},
   "outputs": [],
   "source": [
    "# Replace ?? with numpy missing values\n",
    "df1['KM'] = df1['KM'].replace('??', np.nan)"
   ]
  },
  {
   "cell_type": "code",
   "execution_count": 38,
   "id": "a02783e1-6ca9-4f6f-a6ba-e0f153477832",
   "metadata": {},
   "outputs": [
    {
     "data": {
      "text/plain": [
       "array(['46986', '72937', '41711', ..., '30964', '20544', '17016'],\n",
       "      dtype=object)"
      ]
     },
     "execution_count": 38,
     "metadata": {},
     "output_type": "execute_result"
    }
   ],
   "source": [
    "df1['KM'].unique()"
   ]
  },
  {
   "cell_type": "code",
   "execution_count": 64,
   "id": "ba007a3a-b367-4edf-830c-7c3a194fd7a4",
   "metadata": {},
   "outputs": [
    {
     "data": {
      "text/plain": [
       "Unnamed: 0      int64\n",
       "Price           int64\n",
       "Age           float64\n",
       "KM            float64\n",
       "FuelType       object\n",
       "HP            float64\n",
       "MetColor      float64\n",
       "Automatic       int64\n",
       "CC              int64\n",
       "Doors           int64\n",
       "Weight          int64\n",
       "dtype: object"
      ]
     },
     "execution_count": 64,
     "metadata": {},
     "output_type": "execute_result"
    }
   ],
   "source": [
    "# Checks the types of the columns after the replace\n",
    "df1.dtypes"
   ]
  },
  {
   "cell_type": "code",
   "execution_count": 40,
   "id": "20e04016-dda7-4855-8629-dbc268231e8e",
   "metadata": {},
   "outputs": [],
   "source": [
    "# Convert the column type to float\n",
    "df1['HP'] = df1['HP'].astype('float64')"
   ]
  },
  {
   "cell_type": "code",
   "execution_count": 41,
   "id": "30512da9-faf0-429e-9dbe-58216881251d",
   "metadata": {},
   "outputs": [],
   "source": [
    "# Converting the column type into float\n",
    "df1['KM'] = df1['KM'].astype('float64')"
   ]
  },
  {
   "cell_type": "code",
   "execution_count": 42,
   "id": "2cb7426b-f2d2-4c6f-98b9-61eab3924452",
   "metadata": {},
   "outputs": [],
   "source": [
    "# Converting the column type into integer\n",
    "df1['Doors'] = df1['Doors'].astype('int64')"
   ]
  },
  {
   "cell_type": "code",
   "execution_count": 43,
   "id": "c9fe16c6-2353-495a-a264-1d13ad0000c8",
   "metadata": {},
   "outputs": [
    {
     "data": {
      "text/plain": [
       "Unnamed: 0      int64\n",
       "Price           int64\n",
       "Age           float64\n",
       "KM            float64\n",
       "FuelType       object\n",
       "HP            float64\n",
       "MetColor      float64\n",
       "Automatic       int64\n",
       "CC              int64\n",
       "Doors           int64\n",
       "Weight          int64\n",
       "dtype: object"
      ]
     },
     "execution_count": 43,
     "metadata": {},
     "output_type": "execute_result"
    }
   ],
   "source": [
    "df1.dtypes"
   ]
  },
  {
   "cell_type": "code",
   "execution_count": 44,
   "id": "cc8c3393-011b-4fbc-966b-69720d6291ce",
   "metadata": {},
   "outputs": [
    {
     "data": {
      "text/plain": [
       "Unnamed: 0      0\n",
       "Price           0\n",
       "Age           100\n",
       "KM             15\n",
       "FuelType      100\n",
       "HP              6\n",
       "MetColor      150\n",
       "Automatic       0\n",
       "CC              0\n",
       "Doors           0\n",
       "Weight          0\n",
       "dtype: int64"
      ]
     },
     "execution_count": 44,
     "metadata": {},
     "output_type": "execute_result"
    }
   ],
   "source": [
    "df1.isnull().sum()"
   ]
  },
  {
   "cell_type": "code",
   "execution_count": 45,
   "id": "977d370b-b136-4339-8533-ae3ef5991421",
   "metadata": {},
   "outputs": [],
   "source": [
    "# Replaing the missing values in the HP with the mean\n",
    "df1['HP'] = df1['HP'].fillna(df1['HP'].mean())"
   ]
  },
  {
   "cell_type": "code",
   "execution_count": 46,
   "id": "b61a9097-9b1b-4da6-b126-df385e6c5caa",
   "metadata": {},
   "outputs": [
    {
     "data": {
      "text/plain": [
       "Unnamed: 0      0\n",
       "Price           0\n",
       "Age           100\n",
       "KM             15\n",
       "FuelType      100\n",
       "HP              0\n",
       "MetColor      150\n",
       "Automatic       0\n",
       "CC              0\n",
       "Doors           0\n",
       "Weight          0\n",
       "dtype: int64"
      ]
     },
     "execution_count": 46,
     "metadata": {},
     "output_type": "execute_result"
    }
   ],
   "source": [
    "df1.isnull().sum()"
   ]
  },
  {
   "cell_type": "code",
   "execution_count": 53,
   "id": "a59dc13f-d8ab-4c58-ad18-7892f0135625",
   "metadata": {},
   "outputs": [],
   "source": [
    "# Replacing missing values in Age with the mean\n",
    "df1['Age'] = df1['Age'].fillna(df1['Age'].mean())"
   ]
  },
  {
   "cell_type": "code",
   "execution_count": 54,
   "id": "4ab55c77-2bb1-4eea-9505-5754b636a082",
   "metadata": {},
   "outputs": [],
   "source": [
    "# Replacing missing values in KM with the mean\n",
    "df1['KM'] = df1['KM'].fillna(df1['KM'].mean())"
   ]
  },
  {
   "cell_type": "code",
   "execution_count": 55,
   "id": "ea35ef30-d7f2-4039-a0ce-f162097414e4",
   "metadata": {},
   "outputs": [],
   "source": [
    "# Replacing missing values in MetColor with the median\n",
    "df1['MetColor'] = df1['MetColor'].fillna(df1['MetColor'].median())"
   ]
  },
  {
   "cell_type": "code",
   "execution_count": 56,
   "id": "8da14363-4592-4305-bcf8-7332e81f76c3",
   "metadata": {},
   "outputs": [
    {
     "data": {
      "text/plain": [
       "Unnamed: 0      0\n",
       "Price           0\n",
       "Age             0\n",
       "KM              0\n",
       "FuelType      100\n",
       "HP              0\n",
       "MetColor        0\n",
       "Automatic       0\n",
       "CC              0\n",
       "Doors           0\n",
       "Weight          0\n",
       "dtype: int64"
      ]
     },
     "execution_count": 56,
     "metadata": {},
     "output_type": "execute_result"
    }
   ],
   "source": [
    "df1.isnull().sum()"
   ]
  },
  {
   "cell_type": "code",
   "execution_count": 57,
   "id": "9e65351e-9d27-4aa6-a7bc-cc0fd744deb4",
   "metadata": {},
   "outputs": [
    {
     "data": {
      "text/plain": [
       "FuelType\n",
       "Petrol    1177\n",
       "Diesel     144\n",
       "CNG         15\n",
       "Name: count, dtype: int64"
      ]
     },
     "execution_count": 57,
     "metadata": {},
     "output_type": "execute_result"
    }
   ],
   "source": [
    "df1['FuelType'].value_counts()"
   ]
  },
  {
   "cell_type": "code",
   "execution_count": 58,
   "id": "e7f1f92f-61fa-4d51-a113-e60642b1d580",
   "metadata": {},
   "outputs": [],
   "source": [
    "# Replacing the missing value in FuelType with the highest count value\n",
    "df1['FuelType'] = df1['FuelType'].fillna(df1['FuelType'].value_counts().index[0])"
   ]
  },
  {
   "cell_type": "code",
   "execution_count": 59,
   "id": "4ac2676a-ab2d-4bc7-962c-17861de11b52",
   "metadata": {},
   "outputs": [
    {
     "data": {
      "text/plain": [
       "Unnamed: 0    0\n",
       "Price         0\n",
       "Age           0\n",
       "KM            0\n",
       "FuelType      0\n",
       "HP            0\n",
       "MetColor      0\n",
       "Automatic     0\n",
       "CC            0\n",
       "Doors         0\n",
       "Weight        0\n",
       "dtype: int64"
      ]
     },
     "execution_count": 59,
     "metadata": {},
     "output_type": "execute_result"
    }
   ],
   "source": [
    "df1.isnull().sum()"
   ]
  },
  {
   "cell_type": "code",
   "execution_count": null,
   "id": "f655a534-70e5-44f0-93ff-9b607e316765",
   "metadata": {},
   "outputs": [],
   "source": []
  },
  {
   "cell_type": "code",
   "execution_count": null,
   "id": "0b87f609-7818-40a8-be13-0dc3da9ce5fe",
   "metadata": {},
   "outputs": [],
   "source": []
  }
 ],
 "metadata": {
  "kernelspec": {
   "display_name": "Python 3 (ipykernel)",
   "language": "python",
   "name": "python3"
  },
  "language_info": {
   "codemirror_mode": {
    "name": "ipython",
    "version": 3
   },
   "file_extension": ".py",
   "mimetype": "text/x-python",
   "name": "python",
   "nbconvert_exporter": "python",
   "pygments_lexer": "ipython3",
   "version": "3.12.7"
  }
 },
 "nbformat": 4,
 "nbformat_minor": 5
}
