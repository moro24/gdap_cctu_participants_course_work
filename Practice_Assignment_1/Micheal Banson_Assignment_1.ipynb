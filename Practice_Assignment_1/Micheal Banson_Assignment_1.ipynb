{
 "cells": [
  {
   "cell_type": "code",
   "execution_count": 1,
   "id": "12e673d4-8070-4072-b3e3-ccc549873721",
   "metadata": {},
   "outputs": [],
   "source": [
    "#Importing libraries for loading and processing data\n",
    "import pandas as pd\n",
    "import numpy as np"
   ]
  },
  {
   "cell_type": "code",
   "execution_count": 2,
   "id": "e8b9bef9-f6c6-485f-b5c6-1d0b2883d520",
   "metadata": {},
   "outputs": [
    {
     "name": "stdout",
     "output_type": "stream",
     "text": [
      "2.1.3\n",
      "2.2.3\n"
     ]
    }
   ],
   "source": [
    "#checking versions of imported libraries\n",
    "print(np.__version__)\n",
    "print(pd.__version__)"
   ]
  },
  {
   "cell_type": "code",
   "execution_count": 3,
   "id": "9c800a6e-987f-4554-9e17-974312f2e540",
   "metadata": {},
   "outputs": [
    {
     "data": {
      "text/html": [
       "<div>\n",
       "<style scoped>\n",
       "    .dataframe tbody tr th:only-of-type {\n",
       "        vertical-align: middle;\n",
       "    }\n",
       "\n",
       "    .dataframe tbody tr th {\n",
       "        vertical-align: top;\n",
       "    }\n",
       "\n",
       "    .dataframe thead th {\n",
       "        text-align: right;\n",
       "    }\n",
       "</style>\n",
       "<table border=\"1\" class=\"dataframe\">\n",
       "  <thead>\n",
       "    <tr style=\"text-align: right;\">\n",
       "      <th></th>\n",
       "      <th>Unnamed: 0</th>\n",
       "      <th>Price</th>\n",
       "      <th>Age</th>\n",
       "      <th>KM</th>\n",
       "      <th>FuelType</th>\n",
       "      <th>HP</th>\n",
       "      <th>MetColor</th>\n",
       "      <th>Automatic</th>\n",
       "      <th>CC</th>\n",
       "      <th>Doors</th>\n",
       "      <th>Weight</th>\n",
       "    </tr>\n",
       "  </thead>\n",
       "  <tbody>\n",
       "    <tr>\n",
       "      <th>0</th>\n",
       "      <td>0</td>\n",
       "      <td>13500</td>\n",
       "      <td>23.0</td>\n",
       "      <td>46986</td>\n",
       "      <td>Diesel</td>\n",
       "      <td>90</td>\n",
       "      <td>1.0</td>\n",
       "      <td>0</td>\n",
       "      <td>2000</td>\n",
       "      <td>three</td>\n",
       "      <td>1165</td>\n",
       "    </tr>\n",
       "    <tr>\n",
       "      <th>1</th>\n",
       "      <td>1</td>\n",
       "      <td>13750</td>\n",
       "      <td>23.0</td>\n",
       "      <td>72937</td>\n",
       "      <td>Diesel</td>\n",
       "      <td>90</td>\n",
       "      <td>1.0</td>\n",
       "      <td>0</td>\n",
       "      <td>2000</td>\n",
       "      <td>3</td>\n",
       "      <td>1165</td>\n",
       "    </tr>\n",
       "    <tr>\n",
       "      <th>2</th>\n",
       "      <td>2</td>\n",
       "      <td>13950</td>\n",
       "      <td>24.0</td>\n",
       "      <td>41711</td>\n",
       "      <td>Diesel</td>\n",
       "      <td>90</td>\n",
       "      <td>NaN</td>\n",
       "      <td>0</td>\n",
       "      <td>2000</td>\n",
       "      <td>3</td>\n",
       "      <td>1165</td>\n",
       "    </tr>\n",
       "    <tr>\n",
       "      <th>3</th>\n",
       "      <td>3</td>\n",
       "      <td>14950</td>\n",
       "      <td>26.0</td>\n",
       "      <td>48000</td>\n",
       "      <td>Diesel</td>\n",
       "      <td>90</td>\n",
       "      <td>0.0</td>\n",
       "      <td>0</td>\n",
       "      <td>2000</td>\n",
       "      <td>3</td>\n",
       "      <td>1165</td>\n",
       "    </tr>\n",
       "    <tr>\n",
       "      <th>4</th>\n",
       "      <td>4</td>\n",
       "      <td>13750</td>\n",
       "      <td>30.0</td>\n",
       "      <td>38500</td>\n",
       "      <td>Diesel</td>\n",
       "      <td>90</td>\n",
       "      <td>0.0</td>\n",
       "      <td>0</td>\n",
       "      <td>2000</td>\n",
       "      <td>3</td>\n",
       "      <td>1170</td>\n",
       "    </tr>\n",
       "    <tr>\n",
       "      <th>...</th>\n",
       "      <td>...</td>\n",
       "      <td>...</td>\n",
       "      <td>...</td>\n",
       "      <td>...</td>\n",
       "      <td>...</td>\n",
       "      <td>...</td>\n",
       "      <td>...</td>\n",
       "      <td>...</td>\n",
       "      <td>...</td>\n",
       "      <td>...</td>\n",
       "      <td>...</td>\n",
       "    </tr>\n",
       "    <tr>\n",
       "      <th>1431</th>\n",
       "      <td>1431</td>\n",
       "      <td>7500</td>\n",
       "      <td>NaN</td>\n",
       "      <td>20544</td>\n",
       "      <td>Petrol</td>\n",
       "      <td>86</td>\n",
       "      <td>1.0</td>\n",
       "      <td>0</td>\n",
       "      <td>1300</td>\n",
       "      <td>3</td>\n",
       "      <td>1025</td>\n",
       "    </tr>\n",
       "    <tr>\n",
       "      <th>1432</th>\n",
       "      <td>1432</td>\n",
       "      <td>10845</td>\n",
       "      <td>72.0</td>\n",
       "      <td>??</td>\n",
       "      <td>Petrol</td>\n",
       "      <td>86</td>\n",
       "      <td>0.0</td>\n",
       "      <td>0</td>\n",
       "      <td>1300</td>\n",
       "      <td>3</td>\n",
       "      <td>1015</td>\n",
       "    </tr>\n",
       "    <tr>\n",
       "      <th>1433</th>\n",
       "      <td>1433</td>\n",
       "      <td>8500</td>\n",
       "      <td>NaN</td>\n",
       "      <td>17016</td>\n",
       "      <td>Petrol</td>\n",
       "      <td>86</td>\n",
       "      <td>0.0</td>\n",
       "      <td>0</td>\n",
       "      <td>1300</td>\n",
       "      <td>3</td>\n",
       "      <td>1015</td>\n",
       "    </tr>\n",
       "    <tr>\n",
       "      <th>1434</th>\n",
       "      <td>1434</td>\n",
       "      <td>7250</td>\n",
       "      <td>70.0</td>\n",
       "      <td>??</td>\n",
       "      <td>NaN</td>\n",
       "      <td>86</td>\n",
       "      <td>1.0</td>\n",
       "      <td>0</td>\n",
       "      <td>1300</td>\n",
       "      <td>3</td>\n",
       "      <td>1015</td>\n",
       "    </tr>\n",
       "    <tr>\n",
       "      <th>1435</th>\n",
       "      <td>1435</td>\n",
       "      <td>6950</td>\n",
       "      <td>76.0</td>\n",
       "      <td>1</td>\n",
       "      <td>Petrol</td>\n",
       "      <td>110</td>\n",
       "      <td>0.0</td>\n",
       "      <td>0</td>\n",
       "      <td>1600</td>\n",
       "      <td>5</td>\n",
       "      <td>1114</td>\n",
       "    </tr>\n",
       "  </tbody>\n",
       "</table>\n",
       "<p>1436 rows × 11 columns</p>\n",
       "</div>"
      ],
      "text/plain": [
       "      Unnamed: 0  Price   Age     KM FuelType   HP  MetColor  Automatic    CC  \\\n",
       "0              0  13500  23.0  46986   Diesel   90       1.0          0  2000   \n",
       "1              1  13750  23.0  72937   Diesel   90       1.0          0  2000   \n",
       "2              2  13950  24.0  41711   Diesel   90       NaN          0  2000   \n",
       "3              3  14950  26.0  48000   Diesel   90       0.0          0  2000   \n",
       "4              4  13750  30.0  38500   Diesel   90       0.0          0  2000   \n",
       "...          ...    ...   ...    ...      ...  ...       ...        ...   ...   \n",
       "1431        1431   7500   NaN  20544   Petrol   86       1.0          0  1300   \n",
       "1432        1432  10845  72.0     ??   Petrol   86       0.0          0  1300   \n",
       "1433        1433   8500   NaN  17016   Petrol   86       0.0          0  1300   \n",
       "1434        1434   7250  70.0     ??      NaN   86       1.0          0  1300   \n",
       "1435        1435   6950  76.0      1   Petrol  110       0.0          0  1600   \n",
       "\n",
       "      Doors  Weight  \n",
       "0     three    1165  \n",
       "1         3    1165  \n",
       "2         3    1165  \n",
       "3         3    1165  \n",
       "4         3    1170  \n",
       "...     ...     ...  \n",
       "1431      3    1025  \n",
       "1432      3    1015  \n",
       "1433      3    1015  \n",
       "1434      3    1015  \n",
       "1435      5    1114  \n",
       "\n",
       "[1436 rows x 11 columns]"
      ]
     },
     "execution_count": 3,
     "metadata": {},
     "output_type": "execute_result"
    }
   ],
   "source": [
    "#Reading the toyota file- its a csv file thus pandas.read_csv\n",
    "data = pd.read_csv(\"Datasets/Toyota.csv\")\n",
    "data"
   ]
  },
  {
   "cell_type": "code",
   "execution_count": 4,
   "id": "dd1d38f1-897f-408f-bde5-d1b4b6175861",
   "metadata": {},
   "outputs": [
    {
     "data": {
      "text/html": [
       "<div>\n",
       "<style scoped>\n",
       "    .dataframe tbody tr th:only-of-type {\n",
       "        vertical-align: middle;\n",
       "    }\n",
       "\n",
       "    .dataframe tbody tr th {\n",
       "        vertical-align: top;\n",
       "    }\n",
       "\n",
       "    .dataframe thead th {\n",
       "        text-align: right;\n",
       "    }\n",
       "</style>\n",
       "<table border=\"1\" class=\"dataframe\">\n",
       "  <thead>\n",
       "    <tr style=\"text-align: right;\">\n",
       "      <th></th>\n",
       "      <th>Unnamed: 0</th>\n",
       "      <th>Price</th>\n",
       "      <th>Age</th>\n",
       "      <th>KM</th>\n",
       "      <th>FuelType</th>\n",
       "      <th>HP</th>\n",
       "      <th>MetColor</th>\n",
       "      <th>Automatic</th>\n",
       "      <th>CC</th>\n",
       "      <th>Doors</th>\n",
       "      <th>Weight</th>\n",
       "    </tr>\n",
       "  </thead>\n",
       "  <tbody>\n",
       "    <tr>\n",
       "      <th>0</th>\n",
       "      <td>0</td>\n",
       "      <td>13500</td>\n",
       "      <td>23.0</td>\n",
       "      <td>46986</td>\n",
       "      <td>Diesel</td>\n",
       "      <td>90</td>\n",
       "      <td>1.0</td>\n",
       "      <td>0</td>\n",
       "      <td>2000</td>\n",
       "      <td>three</td>\n",
       "      <td>1165</td>\n",
       "    </tr>\n",
       "    <tr>\n",
       "      <th>1</th>\n",
       "      <td>1</td>\n",
       "      <td>13750</td>\n",
       "      <td>23.0</td>\n",
       "      <td>72937</td>\n",
       "      <td>Diesel</td>\n",
       "      <td>90</td>\n",
       "      <td>1.0</td>\n",
       "      <td>0</td>\n",
       "      <td>2000</td>\n",
       "      <td>3</td>\n",
       "      <td>1165</td>\n",
       "    </tr>\n",
       "    <tr>\n",
       "      <th>2</th>\n",
       "      <td>2</td>\n",
       "      <td>13950</td>\n",
       "      <td>24.0</td>\n",
       "      <td>41711</td>\n",
       "      <td>Diesel</td>\n",
       "      <td>90</td>\n",
       "      <td>NaN</td>\n",
       "      <td>0</td>\n",
       "      <td>2000</td>\n",
       "      <td>3</td>\n",
       "      <td>1165</td>\n",
       "    </tr>\n",
       "    <tr>\n",
       "      <th>3</th>\n",
       "      <td>3</td>\n",
       "      <td>14950</td>\n",
       "      <td>26.0</td>\n",
       "      <td>48000</td>\n",
       "      <td>Diesel</td>\n",
       "      <td>90</td>\n",
       "      <td>0.0</td>\n",
       "      <td>0</td>\n",
       "      <td>2000</td>\n",
       "      <td>3</td>\n",
       "      <td>1165</td>\n",
       "    </tr>\n",
       "    <tr>\n",
       "      <th>4</th>\n",
       "      <td>4</td>\n",
       "      <td>13750</td>\n",
       "      <td>30.0</td>\n",
       "      <td>38500</td>\n",
       "      <td>Diesel</td>\n",
       "      <td>90</td>\n",
       "      <td>0.0</td>\n",
       "      <td>0</td>\n",
       "      <td>2000</td>\n",
       "      <td>3</td>\n",
       "      <td>1170</td>\n",
       "    </tr>\n",
       "    <tr>\n",
       "      <th>5</th>\n",
       "      <td>5</td>\n",
       "      <td>12950</td>\n",
       "      <td>32.0</td>\n",
       "      <td>61000</td>\n",
       "      <td>Diesel</td>\n",
       "      <td>90</td>\n",
       "      <td>0.0</td>\n",
       "      <td>0</td>\n",
       "      <td>2000</td>\n",
       "      <td>3</td>\n",
       "      <td>1170</td>\n",
       "    </tr>\n",
       "    <tr>\n",
       "      <th>6</th>\n",
       "      <td>6</td>\n",
       "      <td>16900</td>\n",
       "      <td>27.0</td>\n",
       "      <td>??</td>\n",
       "      <td>Diesel</td>\n",
       "      <td>????</td>\n",
       "      <td>NaN</td>\n",
       "      <td>0</td>\n",
       "      <td>2000</td>\n",
       "      <td>3</td>\n",
       "      <td>1245</td>\n",
       "    </tr>\n",
       "    <tr>\n",
       "      <th>7</th>\n",
       "      <td>7</td>\n",
       "      <td>18600</td>\n",
       "      <td>30.0</td>\n",
       "      <td>75889</td>\n",
       "      <td>NaN</td>\n",
       "      <td>90</td>\n",
       "      <td>1.0</td>\n",
       "      <td>0</td>\n",
       "      <td>2000</td>\n",
       "      <td>3</td>\n",
       "      <td>1245</td>\n",
       "    </tr>\n",
       "  </tbody>\n",
       "</table>\n",
       "</div>"
      ],
      "text/plain": [
       "   Unnamed: 0  Price   Age     KM FuelType    HP  MetColor  Automatic    CC  \\\n",
       "0           0  13500  23.0  46986   Diesel    90       1.0          0  2000   \n",
       "1           1  13750  23.0  72937   Diesel    90       1.0          0  2000   \n",
       "2           2  13950  24.0  41711   Diesel    90       NaN          0  2000   \n",
       "3           3  14950  26.0  48000   Diesel    90       0.0          0  2000   \n",
       "4           4  13750  30.0  38500   Diesel    90       0.0          0  2000   \n",
       "5           5  12950  32.0  61000   Diesel    90       0.0          0  2000   \n",
       "6           6  16900  27.0     ??   Diesel  ????       NaN          0  2000   \n",
       "7           7  18600  30.0  75889      NaN    90       1.0          0  2000   \n",
       "\n",
       "   Doors  Weight  \n",
       "0  three    1165  \n",
       "1      3    1165  \n",
       "2      3    1165  \n",
       "3      3    1165  \n",
       "4      3    1170  \n",
       "5      3    1170  \n",
       "6      3    1245  \n",
       "7      3    1245  "
      ]
     },
     "execution_count": 4,
     "metadata": {},
     "output_type": "execute_result"
    }
   ],
   "source": [
    "#Displaying first 8 rows\n",
    "data.head(8)"
   ]
  },
  {
   "cell_type": "code",
   "execution_count": 5,
   "id": "2d4ad509-7717-4cdd-9af4-568077110ae6",
   "metadata": {},
   "outputs": [
    {
     "data": {
      "text/html": [
       "<div>\n",
       "<style scoped>\n",
       "    .dataframe tbody tr th:only-of-type {\n",
       "        vertical-align: middle;\n",
       "    }\n",
       "\n",
       "    .dataframe tbody tr th {\n",
       "        vertical-align: top;\n",
       "    }\n",
       "\n",
       "    .dataframe thead th {\n",
       "        text-align: right;\n",
       "    }\n",
       "</style>\n",
       "<table border=\"1\" class=\"dataframe\">\n",
       "  <thead>\n",
       "    <tr style=\"text-align: right;\">\n",
       "      <th></th>\n",
       "      <th>Unnamed: 0</th>\n",
       "      <th>Price</th>\n",
       "      <th>Age</th>\n",
       "      <th>KM</th>\n",
       "      <th>FuelType</th>\n",
       "      <th>HP</th>\n",
       "      <th>MetColor</th>\n",
       "      <th>Automatic</th>\n",
       "      <th>CC</th>\n",
       "      <th>Doors</th>\n",
       "      <th>Weight</th>\n",
       "    </tr>\n",
       "  </thead>\n",
       "  <tbody>\n",
       "    <tr>\n",
       "      <th>1433</th>\n",
       "      <td>1433</td>\n",
       "      <td>8500</td>\n",
       "      <td>NaN</td>\n",
       "      <td>17016</td>\n",
       "      <td>Petrol</td>\n",
       "      <td>86</td>\n",
       "      <td>0.0</td>\n",
       "      <td>0</td>\n",
       "      <td>1300</td>\n",
       "      <td>3</td>\n",
       "      <td>1015</td>\n",
       "    </tr>\n",
       "    <tr>\n",
       "      <th>1434</th>\n",
       "      <td>1434</td>\n",
       "      <td>7250</td>\n",
       "      <td>70.0</td>\n",
       "      <td>??</td>\n",
       "      <td>NaN</td>\n",
       "      <td>86</td>\n",
       "      <td>1.0</td>\n",
       "      <td>0</td>\n",
       "      <td>1300</td>\n",
       "      <td>3</td>\n",
       "      <td>1015</td>\n",
       "    </tr>\n",
       "    <tr>\n",
       "      <th>1435</th>\n",
       "      <td>1435</td>\n",
       "      <td>6950</td>\n",
       "      <td>76.0</td>\n",
       "      <td>1</td>\n",
       "      <td>Petrol</td>\n",
       "      <td>110</td>\n",
       "      <td>0.0</td>\n",
       "      <td>0</td>\n",
       "      <td>1600</td>\n",
       "      <td>5</td>\n",
       "      <td>1114</td>\n",
       "    </tr>\n",
       "  </tbody>\n",
       "</table>\n",
       "</div>"
      ],
      "text/plain": [
       "      Unnamed: 0  Price   Age     KM FuelType   HP  MetColor  Automatic    CC  \\\n",
       "1433        1433   8500   NaN  17016   Petrol   86       0.0          0  1300   \n",
       "1434        1434   7250  70.0     ??      NaN   86       1.0          0  1300   \n",
       "1435        1435   6950  76.0      1   Petrol  110       0.0          0  1600   \n",
       "\n",
       "     Doors  Weight  \n",
       "1433     3    1015  \n",
       "1434     3    1015  \n",
       "1435     5    1114  "
      ]
     },
     "execution_count": 5,
     "metadata": {},
     "output_type": "execute_result"
    }
   ],
   "source": [
    "#displaying last 3 rows\n",
    "data.tail(3)"
   ]
  },
  {
   "cell_type": "code",
   "execution_count": 6,
   "id": "234bcdf2-cf69-4e96-9f89-868f634018de",
   "metadata": {},
   "outputs": [
    {
     "data": {
      "text/html": [
       "<div>\n",
       "<style scoped>\n",
       "    .dataframe tbody tr th:only-of-type {\n",
       "        vertical-align: middle;\n",
       "    }\n",
       "\n",
       "    .dataframe tbody tr th {\n",
       "        vertical-align: top;\n",
       "    }\n",
       "\n",
       "    .dataframe thead th {\n",
       "        text-align: right;\n",
       "    }\n",
       "</style>\n",
       "<table border=\"1\" class=\"dataframe\">\n",
       "  <thead>\n",
       "    <tr style=\"text-align: right;\">\n",
       "      <th></th>\n",
       "      <th>Unnamed: 0</th>\n",
       "      <th>Price</th>\n",
       "      <th>Age</th>\n",
       "      <th>KM</th>\n",
       "      <th>FuelType</th>\n",
       "      <th>HP</th>\n",
       "      <th>MetColor</th>\n",
       "      <th>Automatic</th>\n",
       "      <th>CC</th>\n",
       "      <th>Doors</th>\n",
       "      <th>Weight</th>\n",
       "    </tr>\n",
       "  </thead>\n",
       "  <tbody>\n",
       "    <tr>\n",
       "      <th>0</th>\n",
       "      <td>0</td>\n",
       "      <td>13500</td>\n",
       "      <td>23.0</td>\n",
       "      <td>46986</td>\n",
       "      <td>Diesel</td>\n",
       "      <td>90</td>\n",
       "      <td>1.0</td>\n",
       "      <td>0</td>\n",
       "      <td>2000</td>\n",
       "      <td>three</td>\n",
       "      <td>1165</td>\n",
       "    </tr>\n",
       "    <tr>\n",
       "      <th>1</th>\n",
       "      <td>1</td>\n",
       "      <td>13750</td>\n",
       "      <td>23.0</td>\n",
       "      <td>72937</td>\n",
       "      <td>Diesel</td>\n",
       "      <td>90</td>\n",
       "      <td>1.0</td>\n",
       "      <td>0</td>\n",
       "      <td>2000</td>\n",
       "      <td>3</td>\n",
       "      <td>1165</td>\n",
       "    </tr>\n",
       "    <tr>\n",
       "      <th>2</th>\n",
       "      <td>2</td>\n",
       "      <td>13950</td>\n",
       "      <td>24.0</td>\n",
       "      <td>41711</td>\n",
       "      <td>Diesel</td>\n",
       "      <td>90</td>\n",
       "      <td>NaN</td>\n",
       "      <td>0</td>\n",
       "      <td>2000</td>\n",
       "      <td>3</td>\n",
       "      <td>1165</td>\n",
       "    </tr>\n",
       "    <tr>\n",
       "      <th>3</th>\n",
       "      <td>3</td>\n",
       "      <td>14950</td>\n",
       "      <td>26.0</td>\n",
       "      <td>48000</td>\n",
       "      <td>Diesel</td>\n",
       "      <td>90</td>\n",
       "      <td>0.0</td>\n",
       "      <td>0</td>\n",
       "      <td>2000</td>\n",
       "      <td>3</td>\n",
       "      <td>1165</td>\n",
       "    </tr>\n",
       "    <tr>\n",
       "      <th>4</th>\n",
       "      <td>4</td>\n",
       "      <td>13750</td>\n",
       "      <td>30.0</td>\n",
       "      <td>38500</td>\n",
       "      <td>Diesel</td>\n",
       "      <td>90</td>\n",
       "      <td>0.0</td>\n",
       "      <td>0</td>\n",
       "      <td>2000</td>\n",
       "      <td>3</td>\n",
       "      <td>1170</td>\n",
       "    </tr>\n",
       "    <tr>\n",
       "      <th>...</th>\n",
       "      <td>...</td>\n",
       "      <td>...</td>\n",
       "      <td>...</td>\n",
       "      <td>...</td>\n",
       "      <td>...</td>\n",
       "      <td>...</td>\n",
       "      <td>...</td>\n",
       "      <td>...</td>\n",
       "      <td>...</td>\n",
       "      <td>...</td>\n",
       "      <td>...</td>\n",
       "    </tr>\n",
       "    <tr>\n",
       "      <th>1431</th>\n",
       "      <td>1431</td>\n",
       "      <td>7500</td>\n",
       "      <td>NaN</td>\n",
       "      <td>20544</td>\n",
       "      <td>Petrol</td>\n",
       "      <td>86</td>\n",
       "      <td>1.0</td>\n",
       "      <td>0</td>\n",
       "      <td>1300</td>\n",
       "      <td>3</td>\n",
       "      <td>1025</td>\n",
       "    </tr>\n",
       "    <tr>\n",
       "      <th>1432</th>\n",
       "      <td>1432</td>\n",
       "      <td>10845</td>\n",
       "      <td>72.0</td>\n",
       "      <td>??</td>\n",
       "      <td>Petrol</td>\n",
       "      <td>86</td>\n",
       "      <td>0.0</td>\n",
       "      <td>0</td>\n",
       "      <td>1300</td>\n",
       "      <td>3</td>\n",
       "      <td>1015</td>\n",
       "    </tr>\n",
       "    <tr>\n",
       "      <th>1433</th>\n",
       "      <td>1433</td>\n",
       "      <td>8500</td>\n",
       "      <td>NaN</td>\n",
       "      <td>17016</td>\n",
       "      <td>Petrol</td>\n",
       "      <td>86</td>\n",
       "      <td>0.0</td>\n",
       "      <td>0</td>\n",
       "      <td>1300</td>\n",
       "      <td>3</td>\n",
       "      <td>1015</td>\n",
       "    </tr>\n",
       "    <tr>\n",
       "      <th>1434</th>\n",
       "      <td>1434</td>\n",
       "      <td>7250</td>\n",
       "      <td>70.0</td>\n",
       "      <td>??</td>\n",
       "      <td>NaN</td>\n",
       "      <td>86</td>\n",
       "      <td>1.0</td>\n",
       "      <td>0</td>\n",
       "      <td>1300</td>\n",
       "      <td>3</td>\n",
       "      <td>1015</td>\n",
       "    </tr>\n",
       "    <tr>\n",
       "      <th>1435</th>\n",
       "      <td>1435</td>\n",
       "      <td>6950</td>\n",
       "      <td>76.0</td>\n",
       "      <td>1</td>\n",
       "      <td>Petrol</td>\n",
       "      <td>110</td>\n",
       "      <td>0.0</td>\n",
       "      <td>0</td>\n",
       "      <td>1600</td>\n",
       "      <td>5</td>\n",
       "      <td>1114</td>\n",
       "    </tr>\n",
       "  </tbody>\n",
       "</table>\n",
       "<p>1436 rows × 11 columns</p>\n",
       "</div>"
      ],
      "text/plain": [
       "      Unnamed: 0  Price   Age     KM FuelType   HP  MetColor  Automatic    CC  \\\n",
       "0              0  13500  23.0  46986   Diesel   90       1.0          0  2000   \n",
       "1              1  13750  23.0  72937   Diesel   90       1.0          0  2000   \n",
       "2              2  13950  24.0  41711   Diesel   90       NaN          0  2000   \n",
       "3              3  14950  26.0  48000   Diesel   90       0.0          0  2000   \n",
       "4              4  13750  30.0  38500   Diesel   90       0.0          0  2000   \n",
       "...          ...    ...   ...    ...      ...  ...       ...        ...   ...   \n",
       "1431        1431   7500   NaN  20544   Petrol   86       1.0          0  1300   \n",
       "1432        1432  10845  72.0     ??   Petrol   86       0.0          0  1300   \n",
       "1433        1433   8500   NaN  17016   Petrol   86       0.0          0  1300   \n",
       "1434        1434   7250  70.0     ??      NaN   86       1.0          0  1300   \n",
       "1435        1435   6950  76.0      1   Petrol  110       0.0          0  1600   \n",
       "\n",
       "      Doors  Weight  \n",
       "0     three    1165  \n",
       "1         3    1165  \n",
       "2         3    1165  \n",
       "3         3    1165  \n",
       "4         3    1170  \n",
       "...     ...     ...  \n",
       "1431      3    1025  \n",
       "1432      3    1015  \n",
       "1433      3    1015  \n",
       "1434      3    1015  \n",
       "1435      5    1114  \n",
       "\n",
       "[1436 rows x 11 columns]"
      ]
     },
     "execution_count": 6,
     "metadata": {},
     "output_type": "execute_result"
    }
   ],
   "source": [
    "#Creating a copy(deep) of the data\n",
    "cptoyota = data.copy(deep=True)\n",
    "cptoyota"
   ]
  },
  {
   "cell_type": "code",
   "execution_count": 7,
   "id": "85efe1ad-b461-4911-b1d5-2c467774d8c7",
   "metadata": {},
   "outputs": [
    {
     "data": {
      "text/plain": [
       "Index(['Unnamed: 0', 'Price', 'Age', 'KM', 'FuelType', 'HP', 'MetColor',\n",
       "       'Automatic', 'CC', 'Doors', 'Weight'],\n",
       "      dtype='object')"
      ]
     },
     "execution_count": 7,
     "metadata": {},
     "output_type": "execute_result"
    }
   ],
   "source": [
    "#accessing index or column names\n",
    "cptoyota.columns"
   ]
  },
  {
   "cell_type": "code",
   "execution_count": 8,
   "id": "b026af26-63e3-4a24-837f-c7cc1c751a18",
   "metadata": {},
   "outputs": [
    {
     "data": {
      "text/plain": [
       "0       three\n",
       "1           3\n",
       "2           3\n",
       "3           3\n",
       "4           3\n",
       "        ...  \n",
       "1431        3\n",
       "1432        3\n",
       "1433        3\n",
       "1434        3\n",
       "1435        5\n",
       "Name: Doors, Length: 1436, dtype: object"
      ]
     },
     "execution_count": 8,
     "metadata": {},
     "output_type": "execute_result"
    }
   ],
   "source": [
    "#accessing specific columns by their names\n",
    "cptoyota[\"Doors\"]"
   ]
  },
  {
   "cell_type": "code",
   "execution_count": 9,
   "id": "e0291a01-07fa-4df7-8838-63b4eb778005",
   "metadata": {},
   "outputs": [
    {
     "data": {
      "text/plain": [
       "'Diesel'"
      ]
     },
     "execution_count": 9,
     "metadata": {},
     "output_type": "execute_result"
    }
   ],
   "source": [
    "#accessing a single value in a row or column by label and index\n",
    "cptoyota.at[1, 'FuelType']"
   ]
  },
  {
   "cell_type": "code",
   "execution_count": 10,
   "id": "3de45dd0-23eb-4a67-952f-bfbc6bb5540d",
   "metadata": {},
   "outputs": [
    {
     "data": {
      "text/plain": [
       "np.int64(13500)"
      ]
     },
     "execution_count": 10,
     "metadata": {},
     "output_type": "execute_result"
    }
   ],
   "source": [
    "#accessing a single value in a row or column by index\n",
    "cptoyota.iat[0, 1]"
   ]
  },
  {
   "cell_type": "code",
   "execution_count": 11,
   "id": "66205c62-2fb6-4b1f-aa42-d14d2c26d960",
   "metadata": {},
   "outputs": [
    {
     "data": {
      "text/html": [
       "<div>\n",
       "<style scoped>\n",
       "    .dataframe tbody tr th:only-of-type {\n",
       "        vertical-align: middle;\n",
       "    }\n",
       "\n",
       "    .dataframe tbody tr th {\n",
       "        vertical-align: top;\n",
       "    }\n",
       "\n",
       "    .dataframe thead th {\n",
       "        text-align: right;\n",
       "    }\n",
       "</style>\n",
       "<table border=\"1\" class=\"dataframe\">\n",
       "  <thead>\n",
       "    <tr style=\"text-align: right;\">\n",
       "      <th></th>\n",
       "      <th>Unnamed: 0</th>\n",
       "      <th>Price</th>\n",
       "      <th>Age</th>\n",
       "      <th>KM</th>\n",
       "      <th>FuelType</th>\n",
       "      <th>HP</th>\n",
       "      <th>MetColor</th>\n",
       "      <th>Automatic</th>\n",
       "      <th>CC</th>\n",
       "      <th>Doors</th>\n",
       "      <th>Weight</th>\n",
       "    </tr>\n",
       "  </thead>\n",
       "  <tbody>\n",
       "    <tr>\n",
       "      <th>7</th>\n",
       "      <td>7</td>\n",
       "      <td>18600</td>\n",
       "      <td>30.0</td>\n",
       "      <td>75889</td>\n",
       "      <td>NaN</td>\n",
       "      <td>90</td>\n",
       "      <td>1.0</td>\n",
       "      <td>0</td>\n",
       "      <td>2000</td>\n",
       "      <td>3</td>\n",
       "      <td>1245</td>\n",
       "    </tr>\n",
       "    <tr>\n",
       "      <th>8</th>\n",
       "      <td>8</td>\n",
       "      <td>21500</td>\n",
       "      <td>27.0</td>\n",
       "      <td>19700</td>\n",
       "      <td>Petrol</td>\n",
       "      <td>192</td>\n",
       "      <td>0.0</td>\n",
       "      <td>0</td>\n",
       "      <td>1800</td>\n",
       "      <td>3</td>\n",
       "      <td>1185</td>\n",
       "    </tr>\n",
       "    <tr>\n",
       "      <th>9</th>\n",
       "      <td>9</td>\n",
       "      <td>12950</td>\n",
       "      <td>23.0</td>\n",
       "      <td>71138</td>\n",
       "      <td>Diesel</td>\n",
       "      <td>????</td>\n",
       "      <td>NaN</td>\n",
       "      <td>0</td>\n",
       "      <td>1900</td>\n",
       "      <td>3</td>\n",
       "      <td>1105</td>\n",
       "    </tr>\n",
       "    <tr>\n",
       "      <th>10</th>\n",
       "      <td>10</td>\n",
       "      <td>20950</td>\n",
       "      <td>25.0</td>\n",
       "      <td>31461</td>\n",
       "      <td>Petrol</td>\n",
       "      <td>192</td>\n",
       "      <td>0.0</td>\n",
       "      <td>0</td>\n",
       "      <td>1800</td>\n",
       "      <td>3</td>\n",
       "      <td>1185</td>\n",
       "    </tr>\n",
       "  </tbody>\n",
       "</table>\n",
       "</div>"
      ],
      "text/plain": [
       "    Unnamed: 0  Price   Age     KM FuelType    HP  MetColor  Automatic    CC  \\\n",
       "7            7  18600  30.0  75889      NaN    90       1.0          0  2000   \n",
       "8            8  21500  27.0  19700   Petrol   192       0.0          0  1800   \n",
       "9            9  12950  23.0  71138   Diesel  ????       NaN          0  1900   \n",
       "10          10  20950  25.0  31461   Petrol   192       0.0          0  1800   \n",
       "\n",
       "   Doors  Weight  \n",
       "7      3    1245  \n",
       "8      3    1185  \n",
       "9      3    1105  \n",
       "10     3    1185  "
      ]
     },
     "execution_count": 11,
     "metadata": {},
     "output_type": "execute_result"
    }
   ],
   "source": [
    "#accessing a range of datasets\n",
    "cptoyota.loc[7:10]"
   ]
  },
  {
   "cell_type": "code",
   "execution_count": 12,
   "id": "85c1f431-1318-4e06-9977-2d14980b79bf",
   "metadata": {},
   "outputs": [
    {
     "data": {
      "text/plain": [
       "7        NaN\n",
       "8     Petrol\n",
       "9     Diesel\n",
       "10    Petrol\n",
       "Name: FuelType, dtype: object"
      ]
     },
     "execution_count": 12,
     "metadata": {},
     "output_type": "execute_result"
    }
   ],
   "source": [
    "#accessing a range of data in the dataset by specific column and label\n",
    "cptoyota.loc[7:10, \"FuelType\"]"
   ]
  },
  {
   "cell_type": "code",
   "execution_count": 13,
   "id": "7bc8b53b-654f-4eac-b49c-b3301bd5be2b",
   "metadata": {},
   "outputs": [
    {
     "data": {
      "text/plain": [
       "1436"
      ]
     },
     "execution_count": 13,
     "metadata": {},
     "output_type": "execute_result"
    }
   ],
   "source": [
    "#accessing the shape of the dataset\n",
    "cptoyota.shape[0]"
   ]
  },
  {
   "cell_type": "code",
   "execution_count": 14,
   "id": "751a2eb3-f70c-46ce-993f-ed8301b33f24",
   "metadata": {},
   "outputs": [
    {
     "name": "stdout",
     "output_type": "stream",
     "text": [
      "Total Number of rows is {1436} and the total number of columns is {11}\n"
     ]
    }
   ],
   "source": [
    "#Extra step on how to display number of rows and columns in a sentence form\n",
    "print(f\"Total Number of rows is\" , {cptoyota.shape[0]}, \"and the total number of columns is\" , {cptoyota.shape[1]})"
   ]
  },
  {
   "cell_type": "code",
   "execution_count": 15,
   "id": "1819dc8a-3921-44a4-a298-ab217029808c",
   "metadata": {},
   "outputs": [
    {
     "name": "stdout",
     "output_type": "stream",
     "text": [
      "<class 'pandas.core.frame.DataFrame'>\n",
      "RangeIndex: 1436 entries, 0 to 1435\n",
      "Data columns (total 11 columns):\n",
      " #   Column      Non-Null Count  Dtype  \n",
      "---  ------      --------------  -----  \n",
      " 0   Unnamed: 0  1436 non-null   int64  \n",
      " 1   Price       1436 non-null   int64  \n",
      " 2   Age         1336 non-null   float64\n",
      " 3   KM          1436 non-null   object \n",
      " 4   FuelType    1336 non-null   object \n",
      " 5   HP          1436 non-null   object \n",
      " 6   MetColor    1286 non-null   float64\n",
      " 7   Automatic   1436 non-null   int64  \n",
      " 8   CC          1436 non-null   int64  \n",
      " 9   Doors       1436 non-null   object \n",
      " 10  Weight      1436 non-null   int64  \n",
      "dtypes: float64(2), int64(5), object(4)\n",
      "memory usage: 123.5+ KB\n"
     ]
    }
   ],
   "source": [
    "#general overview of the dataset\n",
    "cptoyota.info()"
   ]
  },
  {
   "cell_type": "code",
   "execution_count": 16,
   "id": "c1a025bf-6033-41c7-9399-46d70affccdf",
   "metadata": {},
   "outputs": [
    {
     "data": {
      "text/plain": [
       "Unnamed: 0      int64\n",
       "Price           int64\n",
       "Age           float64\n",
       "KM             object\n",
       "FuelType       object\n",
       "HP             object\n",
       "MetColor      float64\n",
       "Automatic       int64\n",
       "CC              int64\n",
       "Doors          object\n",
       "Weight          int64\n",
       "dtype: object"
      ]
     },
     "execution_count": 16,
     "metadata": {},
     "output_type": "execute_result"
    }
   ],
   "source": [
    "#looking for columns and their data types\n",
    "cptoyota.dtypes"
   ]
  },
  {
   "cell_type": "code",
   "execution_count": 17,
   "id": "60725f49-389d-4217-a95b-069cf367d682",
   "metadata": {},
   "outputs": [
    {
     "data": {
      "text/plain": [
       "Unnamed: 0    1436\n",
       "Price          236\n",
       "Age             77\n",
       "KM            1256\n",
       "FuelType         3\n",
       "HP              13\n",
       "MetColor         2\n",
       "Automatic        2\n",
       "CC              12\n",
       "Doors            7\n",
       "Weight          59\n",
       "dtype: int64"
      ]
     },
     "execution_count": 17,
     "metadata": {},
     "output_type": "execute_result"
    }
   ],
   "source": [
    "#loking for the number of unique values\n",
    "cptoyota.nunique()"
   ]
  },
  {
   "cell_type": "code",
   "execution_count": 18,
   "id": "ea539f5d-d7b7-4b6d-99aa-74a128f217ae",
   "metadata": {},
   "outputs": [
    {
     "data": {
      "text/plain": [
       "array(['Diesel', nan, 'Petrol', 'CNG'], dtype=object)"
      ]
     },
     "execution_count": 18,
     "metadata": {},
     "output_type": "execute_result"
    }
   ],
   "source": [
    "#accessing unique values in a specific column\n",
    "cptoyota[\"FuelType\"].unique()"
   ]
  },
  {
   "cell_type": "code",
   "execution_count": 19,
   "id": "24655504-1c10-4a03-98b4-ac5a61d838e3",
   "metadata": {},
   "outputs": [
    {
     "data": {
      "text/plain": [
       "Unnamed: 0      0\n",
       "Price           0\n",
       "Age           100\n",
       "KM              0\n",
       "FuelType      100\n",
       "HP              0\n",
       "MetColor      150\n",
       "Automatic       0\n",
       "CC              0\n",
       "Doors           0\n",
       "Weight          0\n",
       "dtype: int64"
      ]
     },
     "execution_count": 19,
     "metadata": {},
     "output_type": "execute_result"
    }
   ],
   "source": [
    "#looking for missing values in the various columns\n",
    "cptoyota.isnull().sum()"
   ]
  },
  {
   "cell_type": "code",
   "execution_count": 20,
   "id": "d158d026-2bd8-4f6e-98ab-2c06bae3041b",
   "metadata": {},
   "outputs": [
    {
     "name": "stdout",
     "output_type": "stream",
     "text": [
      "56\n"
     ]
    }
   ],
   "source": [
    "#finding average age to use to replace missing values in the age column\n",
    "average_age = round(cptoyota['Age'].mean())\n",
    "print(average_age)"
   ]
  },
  {
   "cell_type": "code",
   "execution_count": 21,
   "id": "622bb9b5-8a3a-4812-964f-9f8a8c905db3",
   "metadata": {},
   "outputs": [],
   "source": [
    "#replace empty fields with NaN before replacing the NaN with the average age to fill in\n",
    "cptoyota['Age'] = cptoyota['Age'].replace(\"\", np.nan)"
   ]
  },
  {
   "cell_type": "code",
   "execution_count": 22,
   "id": "6b867ab5-17a2-4094-8e79-1722b2aa7fda",
   "metadata": {},
   "outputs": [],
   "source": [
    "#replace the NaN values with the average age\n",
    "cptoyota['Age'] = cptoyota['Age'].fillna(average_age)"
   ]
  },
  {
   "cell_type": "code",
   "execution_count": 23,
   "id": "33aff9d9-94e6-4e94-ad4b-80918a59487e",
   "metadata": {},
   "outputs": [],
   "source": [
    "#replace empty fields in KM column with NaN\n",
    "cptoyota['KM'] = cptoyota['KM'].replace(\"\", np.nan)"
   ]
  },
  {
   "cell_type": "code",
   "execution_count": 24,
   "id": "8fa5b988-646f-4e83-8bf8-b3b7d77a0711",
   "metadata": {},
   "outputs": [],
   "source": [
    "#replace ?? in the KM field\n",
    "cptoyota['KM'] = cptoyota['KM'].replace(\"??\", np.nan)"
   ]
  },
  {
   "cell_type": "code",
   "execution_count": 25,
   "id": "27930f41-5043-4b96-af78-05093dcbb993",
   "metadata": {},
   "outputs": [],
   "source": [
    "#Convert the 'KM' column to numeric, forcing invalid values to NaN\n",
    "cptoyota['KM'] = pd.to_numeric(cptoyota['KM'], errors='coerce')"
   ]
  },
  {
   "cell_type": "code",
   "execution_count": 26,
   "id": "9c70a356-535c-4004-a231-62818ee70914",
   "metadata": {},
   "outputs": [
    {
     "name": "stdout",
     "output_type": "stream",
     "text": [
      "68647\n"
     ]
    }
   ],
   "source": [
    "#calculate average KM to use to replace empty and non numeric values in the column\n",
    "average_km = round(cptoyota['KM'].mean())\n",
    "print(average_km)"
   ]
  },
  {
   "cell_type": "code",
   "execution_count": 27,
   "id": "6908aa1c-9ce5-4680-95f0-3127469a9ad3",
   "metadata": {},
   "outputs": [],
   "source": [
    "#replace the NaN values with the average KM\n",
    "cptoyota['KM'] = cptoyota['KM'].fillna(average_km)"
   ]
  },
  {
   "cell_type": "code",
   "execution_count": 28,
   "id": "84a51de2-348b-460c-b70e-02849127a630",
   "metadata": {},
   "outputs": [
    {
     "data": {
      "text/plain": [
       "Unnamed: 0      0\n",
       "Price           0\n",
       "Age             0\n",
       "KM              0\n",
       "FuelType      100\n",
       "HP              0\n",
       "MetColor      150\n",
       "Automatic       0\n",
       "CC              0\n",
       "Doors           0\n",
       "Weight          0\n",
       "dtype: int64"
      ]
     },
     "execution_count": 28,
     "metadata": {},
     "output_type": "execute_result"
    }
   ],
   "source": [
    "#confirming changes in the various columns\n",
    "cptoyota.isnull().sum()"
   ]
  },
  {
   "cell_type": "code",
   "execution_count": 29,
   "id": "30dbfdd3-2e19-4eb6-be82-53cc18d3bbca",
   "metadata": {},
   "outputs": [],
   "source": [
    "#Replace empty strings with NaN\n",
    "cptoyota['FuelType'] = cptoyota['FuelType'].replace(\"\", np.nan)"
   ]
  },
  {
   "cell_type": "code",
   "execution_count": 30,
   "id": "1dd41778-bf7a-4160-b630-2b91c301486b",
   "metadata": {},
   "outputs": [
    {
     "name": "stdout",
     "output_type": "stream",
     "text": [
      "Petrol\n"
     ]
    }
   ],
   "source": [
    "#finding the mode of the column\n",
    "mode_fuel_type = cptoyota['FuelType'].mode()[0]\n",
    "print(mode_fuel_type)"
   ]
  },
  {
   "cell_type": "code",
   "execution_count": 31,
   "id": "15defce7-1b27-42a7-8c34-ae7e3e14d999",
   "metadata": {},
   "outputs": [],
   "source": [
    "#replace Nan values with the mode\n",
    "cptoyota['FuelType'] = cptoyota['FuelType'].fillna(mode_fuel_type)"
   ]
  },
  {
   "cell_type": "code",
   "execution_count": 32,
   "id": "891bd9b8-6c35-432b-a3e5-0f44aa9d741e",
   "metadata": {},
   "outputs": [
    {
     "data": {
      "text/plain": [
       "Unnamed: 0      0\n",
       "Price           0\n",
       "Age             0\n",
       "KM              0\n",
       "FuelType        0\n",
       "HP              0\n",
       "MetColor      150\n",
       "Automatic       0\n",
       "CC              0\n",
       "Doors           0\n",
       "Weight          0\n",
       "dtype: int64"
      ]
     },
     "execution_count": 32,
     "metadata": {},
     "output_type": "execute_result"
    }
   ],
   "source": [
    "#confirming changes in the various columns\n",
    "cptoyota.isnull().sum()"
   ]
  },
  {
   "cell_type": "code",
   "execution_count": 33,
   "id": "a391f2de-9e83-46c4-af49-a629413e3071",
   "metadata": {},
   "outputs": [],
   "source": [
    "#Replace Metcolor empty fields\n",
    "cptoyota['MetColor'] = cptoyota['MetColor'].replace(\"\", np.nan)"
   ]
  },
  {
   "cell_type": "code",
   "execution_count": 34,
   "id": "d82a597e-8f38-4def-9e57-a4f911b0d6bd",
   "metadata": {},
   "outputs": [
    {
     "name": "stdout",
     "output_type": "stream",
     "text": [
      "1.0\n"
     ]
    }
   ],
   "source": [
    "#find Mode if the Metcolor\n",
    "mode_MetColor = cptoyota['MetColor'].mode()[0]\n",
    "print(mode_MetColor)"
   ]
  },
  {
   "cell_type": "code",
   "execution_count": 35,
   "id": "0949d190-548a-4abf-978a-de330e8c9637",
   "metadata": {},
   "outputs": [],
   "source": [
    "#Replacing Nan values with the mode\n",
    "cptoyota['MetColor'] = cptoyota['MetColor'].fillna(mode_MetColor)"
   ]
  },
  {
   "cell_type": "code",
   "execution_count": 36,
   "id": "dd2ae7c0-1ba9-4034-92de-ff76f6ab3cde",
   "metadata": {},
   "outputs": [
    {
     "data": {
      "text/plain": [
       "Unnamed: 0    0\n",
       "Price         0\n",
       "Age           0\n",
       "KM            0\n",
       "FuelType      0\n",
       "HP            0\n",
       "MetColor      0\n",
       "Automatic     0\n",
       "CC            0\n",
       "Doors         0\n",
       "Weight        0\n",
       "dtype: int64"
      ]
     },
     "execution_count": 36,
     "metadata": {},
     "output_type": "execute_result"
    }
   ],
   "source": [
    "#confirming changes in the various columns\n",
    "cptoyota.isnull().sum()"
   ]
  },
  {
   "cell_type": "code",
   "execution_count": 37,
   "id": "dd14b7a7-9192-44b5-b445-3b218cf4c062",
   "metadata": {},
   "outputs": [],
   "source": [
    "#calculate average HP to use to replace non numeric values in the column\n",
    "cptoyota['HP'] = pd.to_numeric(cptoyota['HP'], errors='coerce')"
   ]
  },
  {
   "cell_type": "code",
   "execution_count": 38,
   "id": "9c133695-ad5d-47cb-a351-cb1a2edb6766",
   "metadata": {},
   "outputs": [
    {
     "name": "stdout",
     "output_type": "stream",
     "text": [
      "101\n"
     ]
    }
   ],
   "source": [
    "#find mean Hp to use to replace\n",
    "average_hp = round(cptoyota['HP'].mean())\n",
    "print(average_hp)"
   ]
  },
  {
   "cell_type": "code",
   "execution_count": 39,
   "id": "68274a8b-9153-4f46-b7ee-ff40858c0009",
   "metadata": {},
   "outputs": [],
   "source": [
    "#Replacing Nan values with the mean\n",
    "cptoyota['HP'] = cptoyota['HP'].fillna(average_hp)"
   ]
  },
  {
   "cell_type": "code",
   "execution_count": 40,
   "id": "69850447-340f-4cf8-846a-74f57a74843a",
   "metadata": {},
   "outputs": [],
   "source": [
    "wordnumb_map = {\n",
    "    \"three\": 3,\n",
    "    \"four\": 4,\n",
    "    \"five\": 5,\n",
    "}\n",
    "cptoyota['Doors'] = cptoyota['Doors'].replace(wordnumb_map)"
   ]
  },
  {
   "cell_type": "code",
   "execution_count": 41,
   "id": "69237465-9050-4408-89d0-4ac49a1ff6db",
   "metadata": {},
   "outputs": [
    {
     "data": {
      "text/plain": [
       "Unnamed: 0      int64\n",
       "Price           int64\n",
       "Age           float64\n",
       "KM            float64\n",
       "FuelType       object\n",
       "HP            float64\n",
       "MetColor      float64\n",
       "Automatic       int64\n",
       "CC              int64\n",
       "Doors          object\n",
       "Weight          int64\n",
       "dtype: object"
      ]
     },
     "execution_count": 41,
     "metadata": {},
     "output_type": "execute_result"
    }
   ],
   "source": [
    "#Let us confirm data types of column\n",
    "cptoyota.dtypes"
   ]
  },
  {
   "cell_type": "code",
   "execution_count": 42,
   "id": "32807c5d-6bad-4e15-bdbf-13595e2c1401",
   "metadata": {},
   "outputs": [],
   "source": [
    "#convert age to integer\n",
    "cptoyota['Age'] = cptoyota['Age'].astype('int64')"
   ]
  },
  {
   "cell_type": "code",
   "execution_count": 43,
   "id": "bf983c97-178d-4a8a-b4aa-85eb9d07cabe",
   "metadata": {},
   "outputs": [],
   "source": [
    "#convert KM to integer\n",
    "cptoyota['KM'] = cptoyota['KM'].astype('int64')"
   ]
  },
  {
   "cell_type": "code",
   "execution_count": 44,
   "id": "b7a3f270-d607-40db-8af4-c76b30553f9c",
   "metadata": {},
   "outputs": [],
   "source": [
    "#convert HP to integer\n",
    "cptoyota['HP'] = cptoyota['HP'].astype('int64')"
   ]
  },
  {
   "cell_type": "code",
   "execution_count": 45,
   "id": "31d31442-bd91-4ba1-a0f2-045aa2cc28e2",
   "metadata": {},
   "outputs": [],
   "source": [
    "#convert Metcolor to integer\n",
    "cptoyota['MetColor'] = cptoyota['MetColor'].astype('int64')"
   ]
  },
  {
   "cell_type": "code",
   "execution_count": 46,
   "id": "5cee5bb7-d640-4cbd-9dbc-2b9dfbe6345d",
   "metadata": {},
   "outputs": [],
   "source": [
    "#convert Doors to integer\n",
    "cptoyota['Doors'] = cptoyota['Doors'].astype('int64')"
   ]
  },
  {
   "cell_type": "code",
   "execution_count": 47,
   "id": "d74eb435-0539-444d-9549-014c0add8d7b",
   "metadata": {},
   "outputs": [
    {
     "data": {
      "text/plain": [
       "Unnamed: 0     int64\n",
       "Price          int64\n",
       "Age            int64\n",
       "KM             int64\n",
       "FuelType      object\n",
       "HP             int64\n",
       "MetColor       int64\n",
       "Automatic      int64\n",
       "CC             int64\n",
       "Doors          int64\n",
       "Weight         int64\n",
       "dtype: object"
      ]
     },
     "execution_count": 47,
     "metadata": {},
     "output_type": "execute_result"
    }
   ],
   "source": [
    "#Let us confirm data types of column\n",
    "cptoyota.dtypes"
   ]
  },
  {
   "cell_type": "code",
   "execution_count": null,
   "id": "fff08389-f619-4bbe-bdf2-6b377bdbb42f",
   "metadata": {},
   "outputs": [],
   "source": []
  }
 ],
 "metadata": {
  "kernelspec": {
   "display_name": "Python 3 (ipykernel)",
   "language": "python",
   "name": "python3"
  },
  "language_info": {
   "codemirror_mode": {
    "name": "ipython",
    "version": 3
   },
   "file_extension": ".py",
   "mimetype": "text/x-python",
   "name": "python",
   "nbconvert_exporter": "python",
   "pygments_lexer": "ipython3",
   "version": "3.13.0"
  }
 },
 "nbformat": 4,
 "nbformat_minor": 5
}
