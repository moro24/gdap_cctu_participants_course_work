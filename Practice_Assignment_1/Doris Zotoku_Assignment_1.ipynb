{
 "cells": [
  {
   "cell_type": "code",
   "execution_count": 1,
   "id": "61763131-3e74-464b-9f0d-8e97a4ac6089",
   "metadata": {},
   "outputs": [],
   "source": [
    "##toyota \n",
    "## importing libraries for loading and preprocessing data \n",
    "import numpy as np\n",
    "import pandas as pd"
   ]
  },
  {
   "cell_type": "markdown",
   "id": "afa426bb-2751-4437-b4e7-2a56eec4c2e7",
   "metadata": {},
   "source": [
    "Reading/Loading And Creating a Copy of Dataset"
   ]
  },
  {
   "cell_type": "code",
   "execution_count": 2,
   "id": "9f1efd67-2bf9-4e7c-9dc5-48db784b27dd",
   "metadata": {},
   "outputs": [],
   "source": [
    "data = pd.read_csv('Datasets/Toyota.csv')"
   ]
  },
  {
   "cell_type": "code",
   "execution_count": 3,
   "id": "f066e67f-9758-46aa-bf70-998aa752f262",
   "metadata": {},
   "outputs": [],
   "source": [
    "## creating a deep copy of the dataset \n",
    "df1 = data.copy(deep=True)"
   ]
  },
  {
   "cell_type": "code",
   "execution_count": 4,
   "id": "3db7cc7c-c0f0-42e2-8cd1-f05510640917",
   "metadata": {},
   "outputs": [
    {
     "data": {
      "text/html": [
       "<div>\n",
       "<style scoped>\n",
       "    .dataframe tbody tr th:only-of-type {\n",
       "        vertical-align: middle;\n",
       "    }\n",
       "\n",
       "    .dataframe tbody tr th {\n",
       "        vertical-align: top;\n",
       "    }\n",
       "\n",
       "    .dataframe thead th {\n",
       "        text-align: right;\n",
       "    }\n",
       "</style>\n",
       "<table border=\"1\" class=\"dataframe\">\n",
       "  <thead>\n",
       "    <tr style=\"text-align: right;\">\n",
       "      <th></th>\n",
       "      <th>Unnamed: 0</th>\n",
       "      <th>Price</th>\n",
       "      <th>Age</th>\n",
       "      <th>KM</th>\n",
       "      <th>FuelType</th>\n",
       "      <th>HP</th>\n",
       "      <th>MetColor</th>\n",
       "      <th>Automatic</th>\n",
       "      <th>CC</th>\n",
       "      <th>Doors</th>\n",
       "      <th>Weight</th>\n",
       "    </tr>\n",
       "  </thead>\n",
       "  <tbody>\n",
       "    <tr>\n",
       "      <th>0</th>\n",
       "      <td>0</td>\n",
       "      <td>13500</td>\n",
       "      <td>23.0</td>\n",
       "      <td>46986</td>\n",
       "      <td>Diesel</td>\n",
       "      <td>90</td>\n",
       "      <td>1.0</td>\n",
       "      <td>0</td>\n",
       "      <td>2000</td>\n",
       "      <td>three</td>\n",
       "      <td>1165</td>\n",
       "    </tr>\n",
       "    <tr>\n",
       "      <th>1</th>\n",
       "      <td>1</td>\n",
       "      <td>13750</td>\n",
       "      <td>23.0</td>\n",
       "      <td>72937</td>\n",
       "      <td>Diesel</td>\n",
       "      <td>90</td>\n",
       "      <td>1.0</td>\n",
       "      <td>0</td>\n",
       "      <td>2000</td>\n",
       "      <td>3</td>\n",
       "      <td>1165</td>\n",
       "    </tr>\n",
       "    <tr>\n",
       "      <th>2</th>\n",
       "      <td>2</td>\n",
       "      <td>13950</td>\n",
       "      <td>24.0</td>\n",
       "      <td>41711</td>\n",
       "      <td>Diesel</td>\n",
       "      <td>90</td>\n",
       "      <td>NaN</td>\n",
       "      <td>0</td>\n",
       "      <td>2000</td>\n",
       "      <td>3</td>\n",
       "      <td>1165</td>\n",
       "    </tr>\n",
       "    <tr>\n",
       "      <th>3</th>\n",
       "      <td>3</td>\n",
       "      <td>14950</td>\n",
       "      <td>26.0</td>\n",
       "      <td>48000</td>\n",
       "      <td>Diesel</td>\n",
       "      <td>90</td>\n",
       "      <td>0.0</td>\n",
       "      <td>0</td>\n",
       "      <td>2000</td>\n",
       "      <td>3</td>\n",
       "      <td>1165</td>\n",
       "    </tr>\n",
       "    <tr>\n",
       "      <th>4</th>\n",
       "      <td>4</td>\n",
       "      <td>13750</td>\n",
       "      <td>30.0</td>\n",
       "      <td>38500</td>\n",
       "      <td>Diesel</td>\n",
       "      <td>90</td>\n",
       "      <td>0.0</td>\n",
       "      <td>0</td>\n",
       "      <td>2000</td>\n",
       "      <td>3</td>\n",
       "      <td>1170</td>\n",
       "    </tr>\n",
       "  </tbody>\n",
       "</table>\n",
       "</div>"
      ],
      "text/plain": [
       "   Unnamed: 0  Price   Age     KM FuelType  HP  MetColor  Automatic    CC  \\\n",
       "0           0  13500  23.0  46986   Diesel  90       1.0          0  2000   \n",
       "1           1  13750  23.0  72937   Diesel  90       1.0          0  2000   \n",
       "2           2  13950  24.0  41711   Diesel  90       NaN          0  2000   \n",
       "3           3  14950  26.0  48000   Diesel  90       0.0          0  2000   \n",
       "4           4  13750  30.0  38500   Diesel  90       0.0          0  2000   \n",
       "\n",
       "   Doors  Weight  \n",
       "0  three    1165  \n",
       "1      3    1165  \n",
       "2      3    1165  \n",
       "3      3    1165  \n",
       "4      3    1170  "
      ]
     },
     "execution_count": 4,
     "metadata": {},
     "output_type": "execute_result"
    }
   ],
   "source": [
    "df1.head()"
   ]
  },
  {
   "cell_type": "code",
   "execution_count": 5,
   "id": "3394a974-39bc-41fa-be37-55558e217001",
   "metadata": {},
   "outputs": [],
   "source": [
    "data_2 = pd.read_csv(\"Datasets/Toyota.csv\")\n"
   ]
  },
  {
   "cell_type": "code",
   "execution_count": 8,
   "id": "646e2c4b-b236-4aa9-b9ef-76709053cca1",
   "metadata": {},
   "outputs": [],
   "source": [
    "data3 = pd.read_table(\"Datasets/Iris_data_sample.txt\", delimiter=\" \")"
   ]
  },
  {
   "cell_type": "code",
   "execution_count": null,
   "id": "779cfa47-a814-4fd2-8162-03c798748837",
   "metadata": {},
   "outputs": [],
   "source": []
  },
  {
   "cell_type": "code",
   "execution_count": 7,
   "id": "929ab153-4d1a-4181-b317-ac9277971f24",
   "metadata": {},
   "outputs": [
    {
     "data": {
      "text/html": [
       "<div>\n",
       "<style scoped>\n",
       "    .dataframe tbody tr th:only-of-type {\n",
       "        vertical-align: middle;\n",
       "    }\n",
       "\n",
       "    .dataframe tbody tr th {\n",
       "        vertical-align: top;\n",
       "    }\n",
       "\n",
       "    .dataframe thead th {\n",
       "        text-align: right;\n",
       "    }\n",
       "</style>\n",
       "<table border=\"1\" class=\"dataframe\">\n",
       "  <thead>\n",
       "    <tr style=\"text-align: right;\">\n",
       "      <th></th>\n",
       "      <th>Unnamed: 0</th>\n",
       "      <th>Price</th>\n",
       "      <th>Age</th>\n",
       "      <th>KM</th>\n",
       "      <th>FuelType</th>\n",
       "      <th>HP</th>\n",
       "      <th>MetColor</th>\n",
       "      <th>Automatic</th>\n",
       "      <th>CC</th>\n",
       "      <th>Doors</th>\n",
       "      <th>Weight</th>\n",
       "    </tr>\n",
       "  </thead>\n",
       "  <tbody>\n",
       "    <tr>\n",
       "      <th>1431</th>\n",
       "      <td>1431</td>\n",
       "      <td>7500</td>\n",
       "      <td>NaN</td>\n",
       "      <td>20544</td>\n",
       "      <td>Petrol</td>\n",
       "      <td>86</td>\n",
       "      <td>1.0</td>\n",
       "      <td>0</td>\n",
       "      <td>1300</td>\n",
       "      <td>3</td>\n",
       "      <td>1025</td>\n",
       "    </tr>\n",
       "    <tr>\n",
       "      <th>1432</th>\n",
       "      <td>1432</td>\n",
       "      <td>10845</td>\n",
       "      <td>72.0</td>\n",
       "      <td>??</td>\n",
       "      <td>Petrol</td>\n",
       "      <td>86</td>\n",
       "      <td>0.0</td>\n",
       "      <td>0</td>\n",
       "      <td>1300</td>\n",
       "      <td>3</td>\n",
       "      <td>1015</td>\n",
       "    </tr>\n",
       "    <tr>\n",
       "      <th>1433</th>\n",
       "      <td>1433</td>\n",
       "      <td>8500</td>\n",
       "      <td>NaN</td>\n",
       "      <td>17016</td>\n",
       "      <td>Petrol</td>\n",
       "      <td>86</td>\n",
       "      <td>0.0</td>\n",
       "      <td>0</td>\n",
       "      <td>1300</td>\n",
       "      <td>3</td>\n",
       "      <td>1015</td>\n",
       "    </tr>\n",
       "    <tr>\n",
       "      <th>1434</th>\n",
       "      <td>1434</td>\n",
       "      <td>7250</td>\n",
       "      <td>70.0</td>\n",
       "      <td>??</td>\n",
       "      <td>NaN</td>\n",
       "      <td>86</td>\n",
       "      <td>1.0</td>\n",
       "      <td>0</td>\n",
       "      <td>1300</td>\n",
       "      <td>3</td>\n",
       "      <td>1015</td>\n",
       "    </tr>\n",
       "    <tr>\n",
       "      <th>1435</th>\n",
       "      <td>1435</td>\n",
       "      <td>6950</td>\n",
       "      <td>76.0</td>\n",
       "      <td>1</td>\n",
       "      <td>Petrol</td>\n",
       "      <td>110</td>\n",
       "      <td>0.0</td>\n",
       "      <td>0</td>\n",
       "      <td>1600</td>\n",
       "      <td>5</td>\n",
       "      <td>1114</td>\n",
       "    </tr>\n",
       "  </tbody>\n",
       "</table>\n",
       "</div>"
      ],
      "text/plain": [
       "      Unnamed: 0  Price   Age     KM FuelType   HP  MetColor  Automatic    CC  \\\n",
       "1431        1431   7500   NaN  20544   Petrol   86       1.0          0  1300   \n",
       "1432        1432  10845  72.0     ??   Petrol   86       0.0          0  1300   \n",
       "1433        1433   8500   NaN  17016   Petrol   86       0.0          0  1300   \n",
       "1434        1434   7250  70.0     ??      NaN   86       1.0          0  1300   \n",
       "1435        1435   6950  76.0      1   Petrol  110       0.0          0  1600   \n",
       "\n",
       "     Doors  Weight  \n",
       "1431     3    1025  \n",
       "1432     3    1015  \n",
       "1433     3    1015  \n",
       "1434     3    1015  \n",
       "1435     5    1114  "
      ]
     },
     "execution_count": 7,
     "metadata": {},
     "output_type": "execute_result"
    }
   ],
   "source": [
    "## display the last five rows \n",
    "data.tail()"
   ]
  },
  {
   "cell_type": "code",
   "execution_count": 49,
   "id": "6ea4dc38-8010-4098-abe1-ab034ca4c81a",
   "metadata": {},
   "outputs": [
    {
     "data": {
      "text/html": [
       "<div>\n",
       "<style scoped>\n",
       "    .dataframe tbody tr th:only-of-type {\n",
       "        vertical-align: middle;\n",
       "    }\n",
       "\n",
       "    .dataframe tbody tr th {\n",
       "        vertical-align: top;\n",
       "    }\n",
       "\n",
       "    .dataframe thead th {\n",
       "        text-align: right;\n",
       "    }\n",
       "</style>\n",
       "<table border=\"1\" class=\"dataframe\">\n",
       "  <thead>\n",
       "    <tr style=\"text-align: right;\">\n",
       "      <th></th>\n",
       "      <th>Unnamed: 0</th>\n",
       "      <th>Price</th>\n",
       "      <th>Age</th>\n",
       "      <th>KM</th>\n",
       "      <th>FuelType</th>\n",
       "      <th>HP</th>\n",
       "      <th>MetColor</th>\n",
       "      <th>Automatic</th>\n",
       "      <th>CC</th>\n",
       "      <th>Doors</th>\n",
       "      <th>Weight</th>\n",
       "    </tr>\n",
       "  </thead>\n",
       "  <tbody>\n",
       "    <tr>\n",
       "      <th>10</th>\n",
       "      <td>10</td>\n",
       "      <td>20950</td>\n",
       "      <td>25.0</td>\n",
       "      <td>31461.0</td>\n",
       "      <td>Petrol</td>\n",
       "      <td>192</td>\n",
       "      <td>0.0</td>\n",
       "      <td>0</td>\n",
       "      <td>1800</td>\n",
       "      <td>3</td>\n",
       "      <td>1185</td>\n",
       "    </tr>\n",
       "    <tr>\n",
       "      <th>11</th>\n",
       "      <td>11</td>\n",
       "      <td>19950</td>\n",
       "      <td>22.0</td>\n",
       "      <td>43610.0</td>\n",
       "      <td>Petrol</td>\n",
       "      <td>192</td>\n",
       "      <td>0.0</td>\n",
       "      <td>0</td>\n",
       "      <td>1800</td>\n",
       "      <td>3</td>\n",
       "      <td>1185</td>\n",
       "    </tr>\n",
       "    <tr>\n",
       "      <th>12</th>\n",
       "      <td>12</td>\n",
       "      <td>19600</td>\n",
       "      <td>25.0</td>\n",
       "      <td>32189.0</td>\n",
       "      <td>Petrol</td>\n",
       "      <td>192</td>\n",
       "      <td>0.0</td>\n",
       "      <td>0</td>\n",
       "      <td>1800</td>\n",
       "      <td>3</td>\n",
       "      <td>1185</td>\n",
       "    </tr>\n",
       "    <tr>\n",
       "      <th>13</th>\n",
       "      <td>13</td>\n",
       "      <td>21500</td>\n",
       "      <td>31.0</td>\n",
       "      <td>23000.0</td>\n",
       "      <td>Petrol</td>\n",
       "      <td>192</td>\n",
       "      <td>1.0</td>\n",
       "      <td>0</td>\n",
       "      <td>1800</td>\n",
       "      <td>3</td>\n",
       "      <td>1185</td>\n",
       "    </tr>\n",
       "    <tr>\n",
       "      <th>14</th>\n",
       "      <td>14</td>\n",
       "      <td>22500</td>\n",
       "      <td>32.0</td>\n",
       "      <td>34131.0</td>\n",
       "      <td>Petrol</td>\n",
       "      <td>192</td>\n",
       "      <td>1.0</td>\n",
       "      <td>0</td>\n",
       "      <td>1800</td>\n",
       "      <td>3</td>\n",
       "      <td>1185</td>\n",
       "    </tr>\n",
       "    <tr>\n",
       "      <th>15</th>\n",
       "      <td>15</td>\n",
       "      <td>22000</td>\n",
       "      <td>28.0</td>\n",
       "      <td>18739.0</td>\n",
       "      <td>Petrol</td>\n",
       "      <td>????</td>\n",
       "      <td>0.0</td>\n",
       "      <td>0</td>\n",
       "      <td>1800</td>\n",
       "      <td>3</td>\n",
       "      <td>1185</td>\n",
       "    </tr>\n",
       "  </tbody>\n",
       "</table>\n",
       "</div>"
      ],
      "text/plain": [
       "    Unnamed: 0  Price   Age       KM FuelType    HP  MetColor  Automatic  \\\n",
       "10          10  20950  25.0  31461.0   Petrol   192       0.0          0   \n",
       "11          11  19950  22.0  43610.0   Petrol   192       0.0          0   \n",
       "12          12  19600  25.0  32189.0   Petrol   192       0.0          0   \n",
       "13          13  21500  31.0  23000.0   Petrol   192       1.0          0   \n",
       "14          14  22500  32.0  34131.0   Petrol   192       1.0          0   \n",
       "15          15  22000  28.0  18739.0   Petrol  ????       0.0          0   \n",
       "\n",
       "      CC Doors  Weight  \n",
       "10  1800     3    1185  \n",
       "11  1800     3    1185  \n",
       "12  1800     3    1185  \n",
       "13  1800     3    1185  \n",
       "14  1800     3    1185  \n",
       "15  1800     3    1185  "
      ]
     },
     "execution_count": 49,
     "metadata": {},
     "output_type": "execute_result"
    }
   ],
   "source": [
    "df1.loc[10:15, ]"
   ]
  },
  {
   "cell_type": "code",
   "execution_count": 50,
   "id": "ce3082c7-8e31-4011-a435-c2566903e165",
   "metadata": {},
   "outputs": [
    {
     "data": {
      "text/html": [
       "<div>\n",
       "<style scoped>\n",
       "    .dataframe tbody tr th:only-of-type {\n",
       "        vertical-align: middle;\n",
       "    }\n",
       "\n",
       "    .dataframe tbody tr th {\n",
       "        vertical-align: top;\n",
       "    }\n",
       "\n",
       "    .dataframe thead th {\n",
       "        text-align: right;\n",
       "    }\n",
       "</style>\n",
       "<table border=\"1\" class=\"dataframe\">\n",
       "  <thead>\n",
       "    <tr style=\"text-align: right;\">\n",
       "      <th></th>\n",
       "      <th>Unnamed: 0</th>\n",
       "      <th>Price</th>\n",
       "      <th>Age</th>\n",
       "      <th>KM</th>\n",
       "      <th>FuelType</th>\n",
       "      <th>HP</th>\n",
       "      <th>MetColor</th>\n",
       "      <th>Automatic</th>\n",
       "      <th>CC</th>\n",
       "      <th>Doors</th>\n",
       "      <th>Weight</th>\n",
       "    </tr>\n",
       "  </thead>\n",
       "  <tbody>\n",
       "    <tr>\n",
       "      <th>35</th>\n",
       "      <td>35</td>\n",
       "      <td>15750</td>\n",
       "      <td>26.0</td>\n",
       "      <td>43000.0</td>\n",
       "      <td>Petrol</td>\n",
       "      <td>97</td>\n",
       "      <td>0.000000</td>\n",
       "      <td>0</td>\n",
       "      <td>1400</td>\n",
       "      <td>3</td>\n",
       "      <td>1100</td>\n",
       "    </tr>\n",
       "    <tr>\n",
       "      <th>36</th>\n",
       "      <td>36</td>\n",
       "      <td>15950</td>\n",
       "      <td>25.0</td>\n",
       "      <td>25000.0</td>\n",
       "      <td>Petrol</td>\n",
       "      <td>97</td>\n",
       "      <td>0.000000</td>\n",
       "      <td>0</td>\n",
       "      <td>1400</td>\n",
       "      <td>3</td>\n",
       "      <td>1100</td>\n",
       "    </tr>\n",
       "    <tr>\n",
       "      <th>37</th>\n",
       "      <td>37</td>\n",
       "      <td>14950</td>\n",
       "      <td>23.0</td>\n",
       "      <td>10000.0</td>\n",
       "      <td>Petrol</td>\n",
       "      <td>97</td>\n",
       "      <td>1.000000</td>\n",
       "      <td>0</td>\n",
       "      <td>1400</td>\n",
       "      <td>3</td>\n",
       "      <td>1100</td>\n",
       "    </tr>\n",
       "    <tr>\n",
       "      <th>38</th>\n",
       "      <td>38</td>\n",
       "      <td>15750</td>\n",
       "      <td>32.0</td>\n",
       "      <td>25329.0</td>\n",
       "      <td>Petrol</td>\n",
       "      <td>97</td>\n",
       "      <td>1.000000</td>\n",
       "      <td>0</td>\n",
       "      <td>1400</td>\n",
       "      <td>3</td>\n",
       "      <td>1100</td>\n",
       "    </tr>\n",
       "    <tr>\n",
       "      <th>39</th>\n",
       "      <td>39</td>\n",
       "      <td>14750</td>\n",
       "      <td>27.0</td>\n",
       "      <td>27500.0</td>\n",
       "      <td>Petrol</td>\n",
       "      <td>97</td>\n",
       "      <td>0.000000</td>\n",
       "      <td>0</td>\n",
       "      <td>1400</td>\n",
       "      <td>3</td>\n",
       "      <td>1100</td>\n",
       "    </tr>\n",
       "    <tr>\n",
       "      <th>40</th>\n",
       "      <td>40</td>\n",
       "      <td>13950</td>\n",
       "      <td>22.0</td>\n",
       "      <td>49059.0</td>\n",
       "      <td>Petrol</td>\n",
       "      <td>97</td>\n",
       "      <td>0.000000</td>\n",
       "      <td>0</td>\n",
       "      <td>1400</td>\n",
       "      <td>3</td>\n",
       "      <td>1100</td>\n",
       "    </tr>\n",
       "    <tr>\n",
       "      <th>41</th>\n",
       "      <td>41</td>\n",
       "      <td>16750</td>\n",
       "      <td>27.0</td>\n",
       "      <td>44068.0</td>\n",
       "      <td>Petrol</td>\n",
       "      <td>97</td>\n",
       "      <td>1.000000</td>\n",
       "      <td>0</td>\n",
       "      <td>1400</td>\n",
       "      <td>3</td>\n",
       "      <td>1100</td>\n",
       "    </tr>\n",
       "    <tr>\n",
       "      <th>42</th>\n",
       "      <td>42</td>\n",
       "      <td>13950</td>\n",
       "      <td>22.0</td>\n",
       "      <td>46961.0</td>\n",
       "      <td>Petrol</td>\n",
       "      <td>97</td>\n",
       "      <td>0.000000</td>\n",
       "      <td>0</td>\n",
       "      <td>1400</td>\n",
       "      <td>3</td>\n",
       "      <td>1100</td>\n",
       "    </tr>\n",
       "    <tr>\n",
       "      <th>43</th>\n",
       "      <td>43</td>\n",
       "      <td>16950</td>\n",
       "      <td>27.0</td>\n",
       "      <td>110404.0</td>\n",
       "      <td>Diesel</td>\n",
       "      <td>90</td>\n",
       "      <td>55.672156</td>\n",
       "      <td>0</td>\n",
       "      <td>2000</td>\n",
       "      <td>5</td>\n",
       "      <td>1255</td>\n",
       "    </tr>\n",
       "    <tr>\n",
       "      <th>44</th>\n",
       "      <td>44</td>\n",
       "      <td>16950</td>\n",
       "      <td>22.0</td>\n",
       "      <td>100250.0</td>\n",
       "      <td>55.672156</td>\n",
       "      <td>90</td>\n",
       "      <td>0.000000</td>\n",
       "      <td>0</td>\n",
       "      <td>2000</td>\n",
       "      <td>5</td>\n",
       "      <td>1255</td>\n",
       "    </tr>\n",
       "    <tr>\n",
       "      <th>45</th>\n",
       "      <td>45</td>\n",
       "      <td>19000</td>\n",
       "      <td>23.0</td>\n",
       "      <td>84000.0</td>\n",
       "      <td>Diesel</td>\n",
       "      <td>90</td>\n",
       "      <td>55.672156</td>\n",
       "      <td>0</td>\n",
       "      <td>2000</td>\n",
       "      <td>5</td>\n",
       "      <td>1270</td>\n",
       "    </tr>\n",
       "    <tr>\n",
       "      <th>46</th>\n",
       "      <td>46</td>\n",
       "      <td>17950</td>\n",
       "      <td>27.0</td>\n",
       "      <td>79375.0</td>\n",
       "      <td>Diesel</td>\n",
       "      <td>90</td>\n",
       "      <td>1.000000</td>\n",
       "      <td>0</td>\n",
       "      <td>2000</td>\n",
       "      <td>5</td>\n",
       "      <td>1255</td>\n",
       "    </tr>\n",
       "    <tr>\n",
       "      <th>47</th>\n",
       "      <td>47</td>\n",
       "      <td>15800</td>\n",
       "      <td>22.0</td>\n",
       "      <td>75048.0</td>\n",
       "      <td>Petrol</td>\n",
       "      <td>97</td>\n",
       "      <td>1.000000</td>\n",
       "      <td>0</td>\n",
       "      <td>1400</td>\n",
       "      <td>5</td>\n",
       "      <td>1110</td>\n",
       "    </tr>\n",
       "    <tr>\n",
       "      <th>48</th>\n",
       "      <td>48</td>\n",
       "      <td>17950</td>\n",
       "      <td>22.0</td>\n",
       "      <td>72215.0</td>\n",
       "      <td>Diesel</td>\n",
       "      <td>90</td>\n",
       "      <td>1.000000</td>\n",
       "      <td>0</td>\n",
       "      <td>2000</td>\n",
       "      <td>5</td>\n",
       "      <td>1255</td>\n",
       "    </tr>\n",
       "    <tr>\n",
       "      <th>49</th>\n",
       "      <td>49</td>\n",
       "      <td>21950</td>\n",
       "      <td>31.0</td>\n",
       "      <td>64982.0</td>\n",
       "      <td>Petrol</td>\n",
       "      <td>192</td>\n",
       "      <td>55.672156</td>\n",
       "      <td>0</td>\n",
       "      <td>1800</td>\n",
       "      <td>5</td>\n",
       "      <td>1195</td>\n",
       "    </tr>\n",
       "    <tr>\n",
       "      <th>50</th>\n",
       "      <td>50</td>\n",
       "      <td>17950</td>\n",
       "      <td>22.0</td>\n",
       "      <td>62636.0</td>\n",
       "      <td>Diesel</td>\n",
       "      <td>90</td>\n",
       "      <td>1.000000</td>\n",
       "      <td>0</td>\n",
       "      <td>2000</td>\n",
       "      <td>5</td>\n",
       "      <td>1255</td>\n",
       "    </tr>\n",
       "    <tr>\n",
       "      <th>51</th>\n",
       "      <td>51</td>\n",
       "      <td>15750</td>\n",
       "      <td>30.0</td>\n",
       "      <td>57086.0</td>\n",
       "      <td>Petrol</td>\n",
       "      <td>97</td>\n",
       "      <td>1.000000</td>\n",
       "      <td>0</td>\n",
       "      <td>1400</td>\n",
       "      <td>5</td>\n",
       "      <td>1110</td>\n",
       "    </tr>\n",
       "    <tr>\n",
       "      <th>52</th>\n",
       "      <td>52</td>\n",
       "      <td>20500</td>\n",
       "      <td>26.0</td>\n",
       "      <td>56000.0</td>\n",
       "      <td>Petrol</td>\n",
       "      <td>110</td>\n",
       "      <td>1.000000</td>\n",
       "      <td>1</td>\n",
       "      <td>1600</td>\n",
       "      <td>5</td>\n",
       "      <td>1180</td>\n",
       "    </tr>\n",
       "  </tbody>\n",
       "</table>\n",
       "</div>"
      ],
      "text/plain": [
       "    Unnamed: 0  Price   Age        KM   FuelType   HP   MetColor  Automatic  \\\n",
       "35          35  15750  26.0   43000.0     Petrol   97   0.000000          0   \n",
       "36          36  15950  25.0   25000.0     Petrol   97   0.000000          0   \n",
       "37          37  14950  23.0   10000.0     Petrol   97   1.000000          0   \n",
       "38          38  15750  32.0   25329.0     Petrol   97   1.000000          0   \n",
       "39          39  14750  27.0   27500.0     Petrol   97   0.000000          0   \n",
       "40          40  13950  22.0   49059.0     Petrol   97   0.000000          0   \n",
       "41          41  16750  27.0   44068.0     Petrol   97   1.000000          0   \n",
       "42          42  13950  22.0   46961.0     Petrol   97   0.000000          0   \n",
       "43          43  16950  27.0  110404.0     Diesel   90  55.672156          0   \n",
       "44          44  16950  22.0  100250.0  55.672156   90   0.000000          0   \n",
       "45          45  19000  23.0   84000.0     Diesel   90  55.672156          0   \n",
       "46          46  17950  27.0   79375.0     Diesel   90   1.000000          0   \n",
       "47          47  15800  22.0   75048.0     Petrol   97   1.000000          0   \n",
       "48          48  17950  22.0   72215.0     Diesel   90   1.000000          0   \n",
       "49          49  21950  31.0   64982.0     Petrol  192  55.672156          0   \n",
       "50          50  17950  22.0   62636.0     Diesel   90   1.000000          0   \n",
       "51          51  15750  30.0   57086.0     Petrol   97   1.000000          0   \n",
       "52          52  20500  26.0   56000.0     Petrol  110   1.000000          1   \n",
       "\n",
       "      CC Doors  Weight  \n",
       "35  1400     3    1100  \n",
       "36  1400     3    1100  \n",
       "37  1400     3    1100  \n",
       "38  1400     3    1100  \n",
       "39  1400     3    1100  \n",
       "40  1400     3    1100  \n",
       "41  1400     3    1100  \n",
       "42  1400     3    1100  \n",
       "43  2000     5    1255  \n",
       "44  2000     5    1255  \n",
       "45  2000     5    1270  \n",
       "46  2000     5    1255  \n",
       "47  1400     5    1110  \n",
       "48  2000     5    1255  \n",
       "49  1800     5    1195  \n",
       "50  2000     5    1255  \n",
       "51  1400     5    1110  \n",
       "52  1600     5    1180  "
      ]
     },
     "execution_count": 50,
     "metadata": {},
     "output_type": "execute_result"
    }
   ],
   "source": [
    "df1.loc[35:52, ]"
   ]
  },
  {
   "cell_type": "code",
   "execution_count": 52,
   "id": "0a91266a-1993-4c1b-88ad-1a92e5c92f63",
   "metadata": {},
   "outputs": [
    {
     "data": {
      "text/html": [
       "<div>\n",
       "<style scoped>\n",
       "    .dataframe tbody tr th:only-of-type {\n",
       "        vertical-align: middle;\n",
       "    }\n",
       "\n",
       "    .dataframe tbody tr th {\n",
       "        vertical-align: top;\n",
       "    }\n",
       "\n",
       "    .dataframe thead th {\n",
       "        text-align: right;\n",
       "    }\n",
       "</style>\n",
       "<table border=\"1\" class=\"dataframe\">\n",
       "  <thead>\n",
       "    <tr style=\"text-align: right;\">\n",
       "      <th></th>\n",
       "      <th>Unnamed: 0</th>\n",
       "      <th>Price</th>\n",
       "      <th>Age</th>\n",
       "      <th>KM</th>\n",
       "      <th>FuelType</th>\n",
       "      <th>HP</th>\n",
       "      <th>MetColor</th>\n",
       "      <th>Automatic</th>\n",
       "      <th>CC</th>\n",
       "      <th>Doors</th>\n",
       "      <th>Weight</th>\n",
       "    </tr>\n",
       "  </thead>\n",
       "  <tbody>\n",
       "    <tr>\n",
       "      <th>0</th>\n",
       "      <td>0</td>\n",
       "      <td>13500</td>\n",
       "      <td>23.000000</td>\n",
       "      <td>46986.000000</td>\n",
       "      <td>Diesel</td>\n",
       "      <td>90</td>\n",
       "      <td>1.000000</td>\n",
       "      <td>0</td>\n",
       "      <td>2000</td>\n",
       "      <td>three</td>\n",
       "      <td>1165</td>\n",
       "    </tr>\n",
       "    <tr>\n",
       "      <th>1</th>\n",
       "      <td>1</td>\n",
       "      <td>13750</td>\n",
       "      <td>23.000000</td>\n",
       "      <td>72937.000000</td>\n",
       "      <td>Diesel</td>\n",
       "      <td>90</td>\n",
       "      <td>1.000000</td>\n",
       "      <td>0</td>\n",
       "      <td>2000</td>\n",
       "      <td>3</td>\n",
       "      <td>1165</td>\n",
       "    </tr>\n",
       "    <tr>\n",
       "      <th>2</th>\n",
       "      <td>2</td>\n",
       "      <td>13950</td>\n",
       "      <td>24.000000</td>\n",
       "      <td>41711.000000</td>\n",
       "      <td>Diesel</td>\n",
       "      <td>90</td>\n",
       "      <td>55.672156</td>\n",
       "      <td>0</td>\n",
       "      <td>2000</td>\n",
       "      <td>3</td>\n",
       "      <td>1165</td>\n",
       "    </tr>\n",
       "    <tr>\n",
       "      <th>3</th>\n",
       "      <td>3</td>\n",
       "      <td>14950</td>\n",
       "      <td>26.000000</td>\n",
       "      <td>48000.000000</td>\n",
       "      <td>Diesel</td>\n",
       "      <td>90</td>\n",
       "      <td>0.000000</td>\n",
       "      <td>0</td>\n",
       "      <td>2000</td>\n",
       "      <td>3</td>\n",
       "      <td>1165</td>\n",
       "    </tr>\n",
       "    <tr>\n",
       "      <th>4</th>\n",
       "      <td>4</td>\n",
       "      <td>13750</td>\n",
       "      <td>30.000000</td>\n",
       "      <td>38500.000000</td>\n",
       "      <td>Diesel</td>\n",
       "      <td>90</td>\n",
       "      <td>0.000000</td>\n",
       "      <td>0</td>\n",
       "      <td>2000</td>\n",
       "      <td>3</td>\n",
       "      <td>1170</td>\n",
       "    </tr>\n",
       "    <tr>\n",
       "      <th>...</th>\n",
       "      <td>...</td>\n",
       "      <td>...</td>\n",
       "      <td>...</td>\n",
       "      <td>...</td>\n",
       "      <td>...</td>\n",
       "      <td>...</td>\n",
       "      <td>...</td>\n",
       "      <td>...</td>\n",
       "      <td>...</td>\n",
       "      <td>...</td>\n",
       "      <td>...</td>\n",
       "    </tr>\n",
       "    <tr>\n",
       "      <th>1431</th>\n",
       "      <td>1431</td>\n",
       "      <td>7500</td>\n",
       "      <td>55.672156</td>\n",
       "      <td>20544.000000</td>\n",
       "      <td>Petrol</td>\n",
       "      <td>86</td>\n",
       "      <td>1.000000</td>\n",
       "      <td>0</td>\n",
       "      <td>1300</td>\n",
       "      <td>3</td>\n",
       "      <td>1025</td>\n",
       "    </tr>\n",
       "    <tr>\n",
       "      <th>1432</th>\n",
       "      <td>1432</td>\n",
       "      <td>10845</td>\n",
       "      <td>72.000000</td>\n",
       "      <td>68647.239972</td>\n",
       "      <td>Petrol</td>\n",
       "      <td>86</td>\n",
       "      <td>0.000000</td>\n",
       "      <td>0</td>\n",
       "      <td>1300</td>\n",
       "      <td>3</td>\n",
       "      <td>1015</td>\n",
       "    </tr>\n",
       "    <tr>\n",
       "      <th>1433</th>\n",
       "      <td>1433</td>\n",
       "      <td>8500</td>\n",
       "      <td>55.672156</td>\n",
       "      <td>17016.000000</td>\n",
       "      <td>Petrol</td>\n",
       "      <td>86</td>\n",
       "      <td>0.000000</td>\n",
       "      <td>0</td>\n",
       "      <td>1300</td>\n",
       "      <td>3</td>\n",
       "      <td>1015</td>\n",
       "    </tr>\n",
       "    <tr>\n",
       "      <th>1434</th>\n",
       "      <td>1434</td>\n",
       "      <td>7250</td>\n",
       "      <td>70.000000</td>\n",
       "      <td>68647.239972</td>\n",
       "      <td>55.672156</td>\n",
       "      <td>86</td>\n",
       "      <td>1.000000</td>\n",
       "      <td>0</td>\n",
       "      <td>1300</td>\n",
       "      <td>3</td>\n",
       "      <td>1015</td>\n",
       "    </tr>\n",
       "    <tr>\n",
       "      <th>1435</th>\n",
       "      <td>1435</td>\n",
       "      <td>6950</td>\n",
       "      <td>76.000000</td>\n",
       "      <td>1.000000</td>\n",
       "      <td>Petrol</td>\n",
       "      <td>110</td>\n",
       "      <td>0.000000</td>\n",
       "      <td>0</td>\n",
       "      <td>1600</td>\n",
       "      <td>5</td>\n",
       "      <td>1114</td>\n",
       "    </tr>\n",
       "  </tbody>\n",
       "</table>\n",
       "<p>1436 rows × 11 columns</p>\n",
       "</div>"
      ],
      "text/plain": [
       "      Unnamed: 0  Price        Age            KM   FuelType   HP   MetColor  \\\n",
       "0              0  13500  23.000000  46986.000000     Diesel   90   1.000000   \n",
       "1              1  13750  23.000000  72937.000000     Diesel   90   1.000000   \n",
       "2              2  13950  24.000000  41711.000000     Diesel   90  55.672156   \n",
       "3              3  14950  26.000000  48000.000000     Diesel   90   0.000000   \n",
       "4              4  13750  30.000000  38500.000000     Diesel   90   0.000000   \n",
       "...          ...    ...        ...           ...        ...  ...        ...   \n",
       "1431        1431   7500  55.672156  20544.000000     Petrol   86   1.000000   \n",
       "1432        1432  10845  72.000000  68647.239972     Petrol   86   0.000000   \n",
       "1433        1433   8500  55.672156  17016.000000     Petrol   86   0.000000   \n",
       "1434        1434   7250  70.000000  68647.239972  55.672156   86   1.000000   \n",
       "1435        1435   6950  76.000000      1.000000     Petrol  110   0.000000   \n",
       "\n",
       "      Automatic    CC  Doors  Weight  \n",
       "0             0  2000  three    1165  \n",
       "1             0  2000      3    1165  \n",
       "2             0  2000      3    1165  \n",
       "3             0  2000      3    1165  \n",
       "4             0  2000      3    1170  \n",
       "...         ...   ...    ...     ...  \n",
       "1431          0  1300      3    1025  \n",
       "1432          0  1300      3    1015  \n",
       "1433          0  1300      3    1015  \n",
       "1434          0  1300      3    1015  \n",
       "1435          0  1600      5    1114  \n",
       "\n",
       "[1436 rows x 11 columns]"
      ]
     },
     "execution_count": 52,
     "metadata": {},
     "output_type": "execute_result"
    }
   ],
   "source": [
    "df1"
   ]
  },
  {
   "cell_type": "code",
   "execution_count": 54,
   "id": "c4afe5df-3d02-4d32-bd51-8fa3f03d8946",
   "metadata": {},
   "outputs": [
    {
     "data": {
      "text/plain": [
       "1436"
      ]
     },
     "execution_count": 54,
     "metadata": {},
     "output_type": "execute_result"
    }
   ],
   "source": [
    "df1.shape[0]"
   ]
  },
  {
   "cell_type": "code",
   "execution_count": 56,
   "id": "c97bdc9f-2f45-4a9e-b6ca-2c590e2e4184",
   "metadata": {},
   "outputs": [
    {
     "data": {
      "text/plain": [
       "11"
      ]
     },
     "execution_count": 56,
     "metadata": {},
     "output_type": "execute_result"
    }
   ],
   "source": [
    "df1.shape[1]"
   ]
  },
  {
   "cell_type": "code",
   "execution_count": 9,
   "id": "3372a30e-a7ae-45da-9801-ec3263d0fae7",
   "metadata": {},
   "outputs": [
    {
     "data": {
      "text/plain": [
       "Index(['Unnamed: 0', 'Price', 'Age', 'KM', 'FuelType', 'HP', 'MetColor',\n",
       "       'Automatic', 'CC', 'Doors', 'Weight'],\n",
       "      dtype='object')"
      ]
     },
     "execution_count": 9,
     "metadata": {},
     "output_type": "execute_result"
    }
   ],
   "source": [
    "df1.columns"
   ]
  },
  {
   "cell_type": "code",
   "execution_count": 58,
   "id": "76a1256b-5e8d-4047-8d2c-c855d1164be6",
   "metadata": {},
   "outputs": [
    {
     "data": {
      "text/plain": [
       "59"
      ]
     },
     "execution_count": 58,
     "metadata": {},
     "output_type": "execute_result"
    }
   ],
   "source": [
    "df1['Weight'].nunique()"
   ]
  },
  {
   "cell_type": "code",
   "execution_count": 10,
   "id": "9773ab43-690d-4fdf-b10c-91d9bf1e032c",
   "metadata": {},
   "outputs": [
    {
     "name": "stdout",
     "output_type": "stream",
     "text": [
      "unnamed: 0\n",
      "price\n",
      "age\n",
      "km\n",
      "fueltype\n",
      "hp\n",
      "metcolor\n",
      "automatic\n",
      "cc\n",
      "doors\n",
      "weight\n"
     ]
    }
   ],
   "source": [
    "for each_item in df1.columns:\n",
    "    print(each_item.lower())"
   ]
  },
  {
   "cell_type": "code",
   "execution_count": 12,
   "id": "89613def-5a62-462d-aeed-b75a9bd7fdd0",
   "metadata": {},
   "outputs": [
    {
     "data": {
      "text/plain": [
       "0       13500\n",
       "1       13750\n",
       "2       13950\n",
       "3       14950\n",
       "4       13750\n",
       "        ...  \n",
       "1431     7500\n",
       "1432    10845\n",
       "1433     8500\n",
       "1434     7250\n",
       "1435     6950\n",
       "Name: Price, Length: 1436, dtype: int64"
      ]
     },
     "execution_count": 12,
     "metadata": {},
     "output_type": "execute_result"
    }
   ],
   "source": [
    "df1['Price']"
   ]
  },
  {
   "cell_type": "code",
   "execution_count": 13,
   "id": "1d2dc552-c147-45cf-8222-a8376c4e127f",
   "metadata": {},
   "outputs": [
    {
     "data": {
      "text/plain": [
       "0       23.0\n",
       "1       23.0\n",
       "2       24.0\n",
       "3       26.0\n",
       "4       30.0\n",
       "        ... \n",
       "1431     NaN\n",
       "1432    72.0\n",
       "1433     NaN\n",
       "1434    70.0\n",
       "1435    76.0\n",
       "Name: Age, Length: 1436, dtype: float64"
      ]
     },
     "execution_count": 13,
     "metadata": {},
     "output_type": "execute_result"
    }
   ],
   "source": [
    "df1['Age']"
   ]
  },
  {
   "cell_type": "code",
   "execution_count": 15,
   "id": "bd2dbaa5-814e-4dbe-9783-08f5dea29dfd",
   "metadata": {},
   "outputs": [
    {
     "data": {
      "text/plain": [
       "0       46986\n",
       "1       72937\n",
       "2       41711\n",
       "3       48000\n",
       "4       38500\n",
       "        ...  \n",
       "1431    20544\n",
       "1432       ??\n",
       "1433    17016\n",
       "1434       ??\n",
       "1435        1\n",
       "Name: KM, Length: 1436, dtype: object"
      ]
     },
     "execution_count": 15,
     "metadata": {},
     "output_type": "execute_result"
    }
   ],
   "source": [
    "df1['KM']"
   ]
  },
  {
   "cell_type": "code",
   "execution_count": 19,
   "id": "6ed79325-f140-41f2-a6e5-e8bf73b09628",
   "metadata": {},
   "outputs": [
    {
     "data": {
      "text/plain": [
       "0        90\n",
       "1        90\n",
       "2        90\n",
       "3        90\n",
       "4        90\n",
       "       ... \n",
       "1431     86\n",
       "1432     86\n",
       "1433     86\n",
       "1434     86\n",
       "1435    110\n",
       "Name: HP, Length: 1436, dtype: object"
      ]
     },
     "execution_count": 19,
     "metadata": {},
     "output_type": "execute_result"
    }
   ],
   "source": [
    "df1['HP']"
   ]
  },
  {
   "cell_type": "code",
   "execution_count": 17,
   "id": "a9f78072-6b01-4a0f-be3e-01385ccd671e",
   "metadata": {},
   "outputs": [
    {
     "data": {
      "text/plain": [
       "15796"
      ]
     },
     "execution_count": 17,
     "metadata": {},
     "output_type": "execute_result"
    }
   ],
   "source": [
    "df1.size"
   ]
  },
  {
   "cell_type": "code",
   "execution_count": 18,
   "id": "9416daa6-aac3-4c5e-a0a3-6dd46b8c6f4d",
   "metadata": {},
   "outputs": [
    {
     "name": "stdout",
     "output_type": "stream",
     "text": [
      "1436\n",
      "11\n"
     ]
    }
   ],
   "source": [
    "for i in df1.shape:\n",
    "    print(i)"
   ]
  },
  {
   "cell_type": "code",
   "execution_count": 25,
   "id": "6377af59-5d32-4835-9f89-8ac59035de19",
   "metadata": {},
   "outputs": [
    {
     "data": {
      "text/plain": [
       "Unnamed: 0      int64\n",
       "Price           int64\n",
       "Age           float64\n",
       "KM             object\n",
       "FuelType       object\n",
       "HP             object\n",
       "MetColor      float64\n",
       "Automatic       int64\n",
       "CC              int64\n",
       "Doors          object\n",
       "Weight          int64\n",
       "dtype: object"
      ]
     },
     "execution_count": 25,
     "metadata": {},
     "output_type": "execute_result"
    }
   ],
   "source": [
    "df1.dtypes"
   ]
  },
  {
   "cell_type": "code",
   "execution_count": 26,
   "id": "91a54591-3a6e-4599-a069-164024b63ecf",
   "metadata": {},
   "outputs": [],
   "source": [
    "##replace missing values in Age with nan\n",
    "df1['Age'] = df1['Age'].replace('??',np.nan)"
   ]
  },
  {
   "cell_type": "code",
   "execution_count": 33,
   "id": "8f166825-a9ba-429b-8ed1-9b6b8ab76a4a",
   "metadata": {},
   "outputs": [
    {
     "data": {
      "text/plain": [
       "array([46986., 72937., 41711., ..., 30964., 20544., 17016.])"
      ]
     },
     "execution_count": 33,
     "metadata": {},
     "output_type": "execute_result"
    }
   ],
   "source": [
    "df1['KM'] = df1['KM'].replace('??',np.nan)\n",
    "df1['KM'] = df1['KM'].astype('float64')\n",
    "df1['KM'].unique()"
   ]
  },
  {
   "cell_type": "code",
   "execution_count": 40,
   "id": "1f86df89-bd5c-4c25-8770-48756adf39a2",
   "metadata": {},
   "outputs": [
    {
     "data": {
      "text/plain": [
       "0       46986.000000\n",
       "1       72937.000000\n",
       "2       41711.000000\n",
       "3       48000.000000\n",
       "4       38500.000000\n",
       "            ...     \n",
       "1431    20544.000000\n",
       "1432    68647.239972\n",
       "1433    17016.000000\n",
       "1434    68647.239972\n",
       "1435        1.000000\n",
       "Name: KM, Length: 1436, dtype: float64"
      ]
     },
     "execution_count": 40,
     "metadata": {},
     "output_type": "execute_result"
    }
   ],
   "source": [
    "df1['KM']"
   ]
  },
  {
   "cell_type": "code",
   "execution_count": 37,
   "id": "56d86fc6-b661-459e-916b-81992fa117a7",
   "metadata": {},
   "outputs": [
    {
     "name": "stdout",
     "output_type": "stream",
     "text": [
      "68647.23997185081\n"
     ]
    }
   ],
   "source": [
    "## Iputing missing values  for KM\n",
    "mean_seplencm= df1['KM'].mean()\n",
    "print(mean_seplencm)"
   ]
  },
  {
   "cell_type": "code",
   "execution_count": 38,
   "id": "4255cb6f-d3e3-4fb6-a090-1d5aaccfe1a6",
   "metadata": {},
   "outputs": [],
   "source": [
    "## this will replace missing values with mean in KM\n",
    "df1['KM']=df1['KM'].fillna(mean_seplencm)"
   ]
  },
  {
   "cell_type": "code",
   "execution_count": 41,
   "id": "c939af75-eec7-434f-a335-4901e6c64a89",
   "metadata": {},
   "outputs": [
    {
     "name": "stdout",
     "output_type": "stream",
     "text": [
      "55.67215568862275\n"
     ]
    }
   ],
   "source": [
    "## Iputing missing values  for Age\n",
    "mean_seplencm= df1['Age'].mean()\n",
    "print(mean_seplencm)"
   ]
  },
  {
   "cell_type": "code",
   "execution_count": 42,
   "id": "b1f8710c-c76b-4af5-b0cb-0d9aa7e85737",
   "metadata": {},
   "outputs": [],
   "source": [
    "## this will replace Age missing values\n",
    "df1['Age']=df1['Age'].fillna(mean_seplencm)"
   ]
  },
  {
   "cell_type": "code",
   "execution_count": 44,
   "id": "e18b2392-8230-401e-8e70-3aab332209e1",
   "metadata": {},
   "outputs": [],
   "source": [
    "## this will replace FuelType missing values\n",
    "df1['FuelType']=df1['FuelType'].fillna(mean_seplencm)"
   ]
  },
  {
   "cell_type": "code",
   "execution_count": 46,
   "id": "7aa161a2-07c7-4d96-9b57-39167fbbf002",
   "metadata": {},
   "outputs": [],
   "source": [
    "## this will replace MetColor missing values\n",
    "df1['MetColor']=df1['MetColor'].fillna(mean_seplencm)"
   ]
  },
  {
   "cell_type": "code",
   "execution_count": 47,
   "id": "59ad3120-152d-43fd-90a4-1ac7c77ce0ab",
   "metadata": {},
   "outputs": [
    {
     "data": {
      "text/plain": [
       "Unnamed: 0    0\n",
       "Price         0\n",
       "Age           0\n",
       "KM            0\n",
       "FuelType      0\n",
       "HP            0\n",
       "MetColor      0\n",
       "Automatic     0\n",
       "CC            0\n",
       "Doors         0\n",
       "Weight        0\n",
       "dtype: int64"
      ]
     },
     "execution_count": 47,
     "metadata": {},
     "output_type": "execute_result"
    }
   ],
   "source": [
    "df1.isnull().sum()"
   ]
  },
  {
   "cell_type": "code",
   "execution_count": 48,
   "id": "237626d9-fad4-4cdc-a7e5-fe0d36bb886b",
   "metadata": {},
   "outputs": [
    {
     "data": {
      "text/plain": [
       "<bound method Series.unique of 0        1.000000\n",
       "1        1.000000\n",
       "2       55.672156\n",
       "3        0.000000\n",
       "4        0.000000\n",
       "          ...    \n",
       "1431     1.000000\n",
       "1432     0.000000\n",
       "1433     0.000000\n",
       "1434     1.000000\n",
       "1435     0.000000\n",
       "Name: MetColor, Length: 1436, dtype: float64>"
      ]
     },
     "execution_count": 48,
     "metadata": {},
     "output_type": "execute_result"
    }
   ],
   "source": [
    "df1['MetColor'].unique"
   ]
  },
  {
   "cell_type": "code",
   "execution_count": 53,
   "id": "cb8a5dae-e62a-4162-89fa-cd1749e1f9ff",
   "metadata": {},
   "outputs": [
    {
     "data": {
      "text/plain": [
       "0       23.000000\n",
       "1       23.000000\n",
       "2       24.000000\n",
       "3       26.000000\n",
       "4       30.000000\n",
       "          ...    \n",
       "1431    55.672156\n",
       "1432    72.000000\n",
       "1433    55.672156\n",
       "1434    70.000000\n",
       "1435    76.000000\n",
       "Name: Age, Length: 1436, dtype: float64"
      ]
     },
     "execution_count": 53,
     "metadata": {},
     "output_type": "execute_result"
    }
   ],
   "source": [
    "df1['Age']"
   ]
  },
  {
   "cell_type": "code",
   "execution_count": null,
   "id": "cee17179-a43f-4db8-95cc-4d73b322a2b2",
   "metadata": {},
   "outputs": [],
   "source": []
  }
 ],
 "metadata": {
  "kernelspec": {
   "display_name": "Python 3 (ipykernel)",
   "language": "python",
   "name": "python3"
  },
  "language_info": {
   "codemirror_mode": {
    "name": "ipython",
    "version": 3
   },
   "file_extension": ".py",
   "mimetype": "text/x-python",
   "name": "python",
   "nbconvert_exporter": "python",
   "pygments_lexer": "ipython3",
   "version": "3.12.5"
  }
 },
 "nbformat": 4,
 "nbformat_minor": 5
}
