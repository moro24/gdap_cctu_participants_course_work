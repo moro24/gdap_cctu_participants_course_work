{
 "cells": [
  {
   "cell_type": "markdown",
   "id": "85312b82-e9cc-44ca-b194-d2bf913f2033",
   "metadata": {},
   "source": [
    "# ASSIGNMENT"
   ]
  },
  {
   "cell_type": "code",
   "execution_count": 1,
   "id": "a6465574-741d-4903-b9a8-b26a9e678fb6",
   "metadata": {},
   "outputs": [],
   "source": [
    "import numpy as np\n",
    "import pandas as pd"
   ]
  },
  {
   "cell_type": "code",
   "execution_count": 2,
   "id": "8669315b-8a2c-4e68-baa8-7e5be22ab864",
   "metadata": {},
   "outputs": [
    {
     "data": {
      "text/html": [
       "<div>\n",
       "<style scoped>\n",
       "    .dataframe tbody tr th:only-of-type {\n",
       "        vertical-align: middle;\n",
       "    }\n",
       "\n",
       "    .dataframe tbody tr th {\n",
       "        vertical-align: top;\n",
       "    }\n",
       "\n",
       "    .dataframe thead th {\n",
       "        text-align: right;\n",
       "    }\n",
       "</style>\n",
       "<table border=\"1\" class=\"dataframe\">\n",
       "  <thead>\n",
       "    <tr style=\"text-align: right;\">\n",
       "      <th></th>\n",
       "      <th>Unnamed: 0</th>\n",
       "      <th>Price</th>\n",
       "      <th>Age</th>\n",
       "      <th>KM</th>\n",
       "      <th>FuelType</th>\n",
       "      <th>HP</th>\n",
       "      <th>MetColor</th>\n",
       "      <th>Automatic</th>\n",
       "      <th>CC</th>\n",
       "      <th>Doors</th>\n",
       "      <th>Weight</th>\n",
       "    </tr>\n",
       "  </thead>\n",
       "  <tbody>\n",
       "    <tr>\n",
       "      <th>0</th>\n",
       "      <td>0</td>\n",
       "      <td>13500</td>\n",
       "      <td>23.0</td>\n",
       "      <td>46986</td>\n",
       "      <td>Diesel</td>\n",
       "      <td>90</td>\n",
       "      <td>1.0</td>\n",
       "      <td>0</td>\n",
       "      <td>2000</td>\n",
       "      <td>three</td>\n",
       "      <td>1165</td>\n",
       "    </tr>\n",
       "    <tr>\n",
       "      <th>1</th>\n",
       "      <td>1</td>\n",
       "      <td>13750</td>\n",
       "      <td>23.0</td>\n",
       "      <td>72937</td>\n",
       "      <td>Diesel</td>\n",
       "      <td>90</td>\n",
       "      <td>1.0</td>\n",
       "      <td>0</td>\n",
       "      <td>2000</td>\n",
       "      <td>3</td>\n",
       "      <td>1165</td>\n",
       "    </tr>\n",
       "    <tr>\n",
       "      <th>2</th>\n",
       "      <td>2</td>\n",
       "      <td>13950</td>\n",
       "      <td>24.0</td>\n",
       "      <td>41711</td>\n",
       "      <td>Diesel</td>\n",
       "      <td>90</td>\n",
       "      <td>NaN</td>\n",
       "      <td>0</td>\n",
       "      <td>2000</td>\n",
       "      <td>3</td>\n",
       "      <td>1165</td>\n",
       "    </tr>\n",
       "    <tr>\n",
       "      <th>3</th>\n",
       "      <td>3</td>\n",
       "      <td>14950</td>\n",
       "      <td>26.0</td>\n",
       "      <td>48000</td>\n",
       "      <td>Diesel</td>\n",
       "      <td>90</td>\n",
       "      <td>0.0</td>\n",
       "      <td>0</td>\n",
       "      <td>2000</td>\n",
       "      <td>3</td>\n",
       "      <td>1165</td>\n",
       "    </tr>\n",
       "    <tr>\n",
       "      <th>4</th>\n",
       "      <td>4</td>\n",
       "      <td>13750</td>\n",
       "      <td>30.0</td>\n",
       "      <td>38500</td>\n",
       "      <td>Diesel</td>\n",
       "      <td>90</td>\n",
       "      <td>0.0</td>\n",
       "      <td>0</td>\n",
       "      <td>2000</td>\n",
       "      <td>3</td>\n",
       "      <td>1170</td>\n",
       "    </tr>\n",
       "    <tr>\n",
       "      <th>...</th>\n",
       "      <td>...</td>\n",
       "      <td>...</td>\n",
       "      <td>...</td>\n",
       "      <td>...</td>\n",
       "      <td>...</td>\n",
       "      <td>...</td>\n",
       "      <td>...</td>\n",
       "      <td>...</td>\n",
       "      <td>...</td>\n",
       "      <td>...</td>\n",
       "      <td>...</td>\n",
       "    </tr>\n",
       "    <tr>\n",
       "      <th>1431</th>\n",
       "      <td>1431</td>\n",
       "      <td>7500</td>\n",
       "      <td>NaN</td>\n",
       "      <td>20544</td>\n",
       "      <td>Petrol</td>\n",
       "      <td>86</td>\n",
       "      <td>1.0</td>\n",
       "      <td>0</td>\n",
       "      <td>1300</td>\n",
       "      <td>3</td>\n",
       "      <td>1025</td>\n",
       "    </tr>\n",
       "    <tr>\n",
       "      <th>1432</th>\n",
       "      <td>1432</td>\n",
       "      <td>10845</td>\n",
       "      <td>72.0</td>\n",
       "      <td>??</td>\n",
       "      <td>Petrol</td>\n",
       "      <td>86</td>\n",
       "      <td>0.0</td>\n",
       "      <td>0</td>\n",
       "      <td>1300</td>\n",
       "      <td>3</td>\n",
       "      <td>1015</td>\n",
       "    </tr>\n",
       "    <tr>\n",
       "      <th>1433</th>\n",
       "      <td>1433</td>\n",
       "      <td>8500</td>\n",
       "      <td>NaN</td>\n",
       "      <td>17016</td>\n",
       "      <td>Petrol</td>\n",
       "      <td>86</td>\n",
       "      <td>0.0</td>\n",
       "      <td>0</td>\n",
       "      <td>1300</td>\n",
       "      <td>3</td>\n",
       "      <td>1015</td>\n",
       "    </tr>\n",
       "    <tr>\n",
       "      <th>1434</th>\n",
       "      <td>1434</td>\n",
       "      <td>7250</td>\n",
       "      <td>70.0</td>\n",
       "      <td>??</td>\n",
       "      <td>NaN</td>\n",
       "      <td>86</td>\n",
       "      <td>1.0</td>\n",
       "      <td>0</td>\n",
       "      <td>1300</td>\n",
       "      <td>3</td>\n",
       "      <td>1015</td>\n",
       "    </tr>\n",
       "    <tr>\n",
       "      <th>1435</th>\n",
       "      <td>1435</td>\n",
       "      <td>6950</td>\n",
       "      <td>76.0</td>\n",
       "      <td>1</td>\n",
       "      <td>Petrol</td>\n",
       "      <td>110</td>\n",
       "      <td>0.0</td>\n",
       "      <td>0</td>\n",
       "      <td>1600</td>\n",
       "      <td>5</td>\n",
       "      <td>1114</td>\n",
       "    </tr>\n",
       "  </tbody>\n",
       "</table>\n",
       "<p>1436 rows × 11 columns</p>\n",
       "</div>"
      ],
      "text/plain": [
       "      Unnamed: 0  Price   Age     KM FuelType   HP  MetColor  Automatic    CC  \\\n",
       "0              0  13500  23.0  46986   Diesel   90       1.0          0  2000   \n",
       "1              1  13750  23.0  72937   Diesel   90       1.0          0  2000   \n",
       "2              2  13950  24.0  41711   Diesel   90       NaN          0  2000   \n",
       "3              3  14950  26.0  48000   Diesel   90       0.0          0  2000   \n",
       "4              4  13750  30.0  38500   Diesel   90       0.0          0  2000   \n",
       "...          ...    ...   ...    ...      ...  ...       ...        ...   ...   \n",
       "1431        1431   7500   NaN  20544   Petrol   86       1.0          0  1300   \n",
       "1432        1432  10845  72.0     ??   Petrol   86       0.0          0  1300   \n",
       "1433        1433   8500   NaN  17016   Petrol   86       0.0          0  1300   \n",
       "1434        1434   7250  70.0     ??      NaN   86       1.0          0  1300   \n",
       "1435        1435   6950  76.0      1   Petrol  110       0.0          0  1600   \n",
       "\n",
       "      Doors  Weight  \n",
       "0     three    1165  \n",
       "1         3    1165  \n",
       "2         3    1165  \n",
       "3         3    1165  \n",
       "4         3    1170  \n",
       "...     ...     ...  \n",
       "1431      3    1025  \n",
       "1432      3    1015  \n",
       "1433      3    1015  \n",
       "1434      3    1015  \n",
       "1435      5    1114  \n",
       "\n",
       "[1436 rows x 11 columns]"
      ]
     },
     "execution_count": 2,
     "metadata": {},
     "output_type": "execute_result"
    }
   ],
   "source": [
    "df2 = pd.read_csv(\"Datasets/Toyota.csv\")\n",
    "df2"
   ]
  },
  {
   "cell_type": "code",
   "execution_count": 3,
   "id": "3e4b5c87-9639-4bdb-b4f8-1c96c8e646a4",
   "metadata": {},
   "outputs": [
    {
     "data": {
      "text/html": [
       "<div>\n",
       "<style scoped>\n",
       "    .dataframe tbody tr th:only-of-type {\n",
       "        vertical-align: middle;\n",
       "    }\n",
       "\n",
       "    .dataframe tbody tr th {\n",
       "        vertical-align: top;\n",
       "    }\n",
       "\n",
       "    .dataframe thead th {\n",
       "        text-align: right;\n",
       "    }\n",
       "</style>\n",
       "<table border=\"1\" class=\"dataframe\">\n",
       "  <thead>\n",
       "    <tr style=\"text-align: right;\">\n",
       "      <th></th>\n",
       "      <th>Unnamed: 0</th>\n",
       "      <th>Price</th>\n",
       "      <th>Age</th>\n",
       "      <th>KM</th>\n",
       "      <th>FuelType</th>\n",
       "      <th>HP</th>\n",
       "      <th>MetColor</th>\n",
       "      <th>Automatic</th>\n",
       "      <th>CC</th>\n",
       "      <th>Doors</th>\n",
       "      <th>Weight</th>\n",
       "    </tr>\n",
       "  </thead>\n",
       "  <tbody>\n",
       "    <tr>\n",
       "      <th>0</th>\n",
       "      <td>0</td>\n",
       "      <td>13500</td>\n",
       "      <td>23.0</td>\n",
       "      <td>46986</td>\n",
       "      <td>Diesel</td>\n",
       "      <td>90</td>\n",
       "      <td>1.0</td>\n",
       "      <td>0</td>\n",
       "      <td>2000</td>\n",
       "      <td>three</td>\n",
       "      <td>1165</td>\n",
       "    </tr>\n",
       "    <tr>\n",
       "      <th>1</th>\n",
       "      <td>1</td>\n",
       "      <td>13750</td>\n",
       "      <td>23.0</td>\n",
       "      <td>72937</td>\n",
       "      <td>Diesel</td>\n",
       "      <td>90</td>\n",
       "      <td>1.0</td>\n",
       "      <td>0</td>\n",
       "      <td>2000</td>\n",
       "      <td>3</td>\n",
       "      <td>1165</td>\n",
       "    </tr>\n",
       "    <tr>\n",
       "      <th>2</th>\n",
       "      <td>2</td>\n",
       "      <td>13950</td>\n",
       "      <td>24.0</td>\n",
       "      <td>41711</td>\n",
       "      <td>Diesel</td>\n",
       "      <td>90</td>\n",
       "      <td>NaN</td>\n",
       "      <td>0</td>\n",
       "      <td>2000</td>\n",
       "      <td>3</td>\n",
       "      <td>1165</td>\n",
       "    </tr>\n",
       "    <tr>\n",
       "      <th>3</th>\n",
       "      <td>3</td>\n",
       "      <td>14950</td>\n",
       "      <td>26.0</td>\n",
       "      <td>48000</td>\n",
       "      <td>Diesel</td>\n",
       "      <td>90</td>\n",
       "      <td>0.0</td>\n",
       "      <td>0</td>\n",
       "      <td>2000</td>\n",
       "      <td>3</td>\n",
       "      <td>1165</td>\n",
       "    </tr>\n",
       "    <tr>\n",
       "      <th>4</th>\n",
       "      <td>4</td>\n",
       "      <td>13750</td>\n",
       "      <td>30.0</td>\n",
       "      <td>38500</td>\n",
       "      <td>Diesel</td>\n",
       "      <td>90</td>\n",
       "      <td>0.0</td>\n",
       "      <td>0</td>\n",
       "      <td>2000</td>\n",
       "      <td>3</td>\n",
       "      <td>1170</td>\n",
       "    </tr>\n",
       "  </tbody>\n",
       "</table>\n",
       "</div>"
      ],
      "text/plain": [
       "   Unnamed: 0  Price   Age     KM FuelType  HP  MetColor  Automatic    CC  \\\n",
       "0           0  13500  23.0  46986   Diesel  90       1.0          0  2000   \n",
       "1           1  13750  23.0  72937   Diesel  90       1.0          0  2000   \n",
       "2           2  13950  24.0  41711   Diesel  90       NaN          0  2000   \n",
       "3           3  14950  26.0  48000   Diesel  90       0.0          0  2000   \n",
       "4           4  13750  30.0  38500   Diesel  90       0.0          0  2000   \n",
       "\n",
       "   Doors  Weight  \n",
       "0  three    1165  \n",
       "1      3    1165  \n",
       "2      3    1165  \n",
       "3      3    1165  \n",
       "4      3    1170  "
      ]
     },
     "execution_count": 3,
     "metadata": {},
     "output_type": "execute_result"
    }
   ],
   "source": [
    "df2.head()"
   ]
  },
  {
   "cell_type": "code",
   "execution_count": 4,
   "id": "d16a7f69-952e-4898-9705-7af5b1bba35f",
   "metadata": {},
   "outputs": [
    {
     "data": {
      "text/html": [
       "<div>\n",
       "<style scoped>\n",
       "    .dataframe tbody tr th:only-of-type {\n",
       "        vertical-align: middle;\n",
       "    }\n",
       "\n",
       "    .dataframe tbody tr th {\n",
       "        vertical-align: top;\n",
       "    }\n",
       "\n",
       "    .dataframe thead th {\n",
       "        text-align: right;\n",
       "    }\n",
       "</style>\n",
       "<table border=\"1\" class=\"dataframe\">\n",
       "  <thead>\n",
       "    <tr style=\"text-align: right;\">\n",
       "      <th></th>\n",
       "      <th>Unnamed: 0</th>\n",
       "      <th>Price</th>\n",
       "      <th>Age</th>\n",
       "      <th>KM</th>\n",
       "      <th>FuelType</th>\n",
       "      <th>HP</th>\n",
       "      <th>MetColor</th>\n",
       "      <th>Automatic</th>\n",
       "      <th>CC</th>\n",
       "      <th>Doors</th>\n",
       "      <th>Weight</th>\n",
       "    </tr>\n",
       "  </thead>\n",
       "  <tbody>\n",
       "    <tr>\n",
       "      <th>1431</th>\n",
       "      <td>1431</td>\n",
       "      <td>7500</td>\n",
       "      <td>NaN</td>\n",
       "      <td>20544</td>\n",
       "      <td>Petrol</td>\n",
       "      <td>86</td>\n",
       "      <td>1.0</td>\n",
       "      <td>0</td>\n",
       "      <td>1300</td>\n",
       "      <td>3</td>\n",
       "      <td>1025</td>\n",
       "    </tr>\n",
       "    <tr>\n",
       "      <th>1432</th>\n",
       "      <td>1432</td>\n",
       "      <td>10845</td>\n",
       "      <td>72.0</td>\n",
       "      <td>??</td>\n",
       "      <td>Petrol</td>\n",
       "      <td>86</td>\n",
       "      <td>0.0</td>\n",
       "      <td>0</td>\n",
       "      <td>1300</td>\n",
       "      <td>3</td>\n",
       "      <td>1015</td>\n",
       "    </tr>\n",
       "    <tr>\n",
       "      <th>1433</th>\n",
       "      <td>1433</td>\n",
       "      <td>8500</td>\n",
       "      <td>NaN</td>\n",
       "      <td>17016</td>\n",
       "      <td>Petrol</td>\n",
       "      <td>86</td>\n",
       "      <td>0.0</td>\n",
       "      <td>0</td>\n",
       "      <td>1300</td>\n",
       "      <td>3</td>\n",
       "      <td>1015</td>\n",
       "    </tr>\n",
       "    <tr>\n",
       "      <th>1434</th>\n",
       "      <td>1434</td>\n",
       "      <td>7250</td>\n",
       "      <td>70.0</td>\n",
       "      <td>??</td>\n",
       "      <td>NaN</td>\n",
       "      <td>86</td>\n",
       "      <td>1.0</td>\n",
       "      <td>0</td>\n",
       "      <td>1300</td>\n",
       "      <td>3</td>\n",
       "      <td>1015</td>\n",
       "    </tr>\n",
       "    <tr>\n",
       "      <th>1435</th>\n",
       "      <td>1435</td>\n",
       "      <td>6950</td>\n",
       "      <td>76.0</td>\n",
       "      <td>1</td>\n",
       "      <td>Petrol</td>\n",
       "      <td>110</td>\n",
       "      <td>0.0</td>\n",
       "      <td>0</td>\n",
       "      <td>1600</td>\n",
       "      <td>5</td>\n",
       "      <td>1114</td>\n",
       "    </tr>\n",
       "  </tbody>\n",
       "</table>\n",
       "</div>"
      ],
      "text/plain": [
       "      Unnamed: 0  Price   Age     KM FuelType   HP  MetColor  Automatic    CC  \\\n",
       "1431        1431   7500   NaN  20544   Petrol   86       1.0          0  1300   \n",
       "1432        1432  10845  72.0     ??   Petrol   86       0.0          0  1300   \n",
       "1433        1433   8500   NaN  17016   Petrol   86       0.0          0  1300   \n",
       "1434        1434   7250  70.0     ??      NaN   86       1.0          0  1300   \n",
       "1435        1435   6950  76.0      1   Petrol  110       0.0          0  1600   \n",
       "\n",
       "     Doors  Weight  \n",
       "1431     3    1025  \n",
       "1432     3    1015  \n",
       "1433     3    1015  \n",
       "1434     3    1015  \n",
       "1435     5    1114  "
      ]
     },
     "execution_count": 4,
     "metadata": {},
     "output_type": "execute_result"
    }
   ],
   "source": [
    "df2.tail()"
   ]
  },
  {
   "cell_type": "code",
   "execution_count": 21,
   "id": "cf1280e3-75e4-4c4e-8fd3-437b86e406bb",
   "metadata": {},
   "outputs": [
    {
     "name": "stdout",
     "output_type": "stream",
     "text": [
      "<class 'pandas.core.frame.DataFrame'>\n",
      "RangeIndex: 1436 entries, 0 to 1435\n",
      "Data columns (total 11 columns):\n",
      " #   Column      Non-Null Count  Dtype  \n",
      "---  ------      --------------  -----  \n",
      " 0   Unnamed: 0  1436 non-null   int64  \n",
      " 1   Price       1436 non-null   int64  \n",
      " 2   Age         1336 non-null   float64\n",
      " 3   KM          1421 non-null   object \n",
      " 4   FuelType    1336 non-null   object \n",
      " 5   HP          1436 non-null   object \n",
      " 6   MetColor    1286 non-null   float64\n",
      " 7   Automatic   1436 non-null   int64  \n",
      " 8   CC          1436 non-null   int64  \n",
      " 9   Doors       1436 non-null   object \n",
      " 10  Weight      1436 non-null   int64  \n",
      "dtypes: float64(2), int64(5), object(4)\n",
      "memory usage: 123.5+ KB\n"
     ]
    }
   ],
   "source": [
    "df2.info()"
   ]
  },
  {
   "cell_type": "code",
   "execution_count": 62,
   "id": "f7bcf57d-7f15-4172-86f2-d6df1234d8a5",
   "metadata": {},
   "outputs": [
    {
     "data": {
      "text/plain": [
       "Unnamed: 0      0\n",
       "Price           0\n",
       "Age           100\n",
       "KM              0\n",
       "FuelType      100\n",
       "HP              0\n",
       "MetColor      150\n",
       "Automatic       0\n",
       "CC              0\n",
       "Doors           0\n",
       "Weight          0\n",
       "dtype: int64"
      ]
     },
     "execution_count": 62,
     "metadata": {},
     "output_type": "execute_result"
    }
   ],
   "source": [
    "df2.isnull().sum()"
   ]
  },
  {
   "cell_type": "code",
   "execution_count": 8,
   "id": "0c6a7ea3-3b3e-48fc-bbfc-63415cb04b56",
   "metadata": {},
   "outputs": [
    {
     "data": {
      "text/plain": [
       "array([13500, 13750, 13950, 14950, 12950, 16900, 18600, 21500, 20950,\n",
       "       19950, 19600, 22500, 22000, 22750, 17950, 16750, 16950, 15950,\n",
       "       16250, 17495, 15750, 15500, 14750, 19000, 15800, 21950, 20500,\n",
       "       13250, 15250, 18950, 15999, 16500, 18750, 22250, 12995, 18450,\n",
       "       16895, 14900, 17250, 15450, 16650, 17450, 16450, 18900, 18990,\n",
       "       18500, 19450, 18800, 32500, 31000, 31275, 24950, 22950, 24990,\n",
       "       17900, 19250, 16350, 21750, 15850, 23000, 19900, 23950, 24500,\n",
       "       17200, 19500, 16868, 19750, 20750, 17650, 17795, 18245, 23750,\n",
       "       18700, 21125,  6950,  9500, 11950,  7750,  4350,  4750, 11750,\n",
       "       11900,  9950, 11495, 11250, 10500, 10450, 11500, 12500, 10950,\n",
       "       11450, 11790, 12450, 11690, 12750, 11925, 12900, 11650, 10850,\n",
       "        9940, 13450, 12495, 12000, 11480, 14990, 12850, 11700, 11895,\n",
       "       13875, 12295, 13995,  9900, 11990, 10750, 11695, 11000, 12400,\n",
       "       12200, 12695, 14350, 10250,  6500,  6400,  7000,  8900,  8500,\n",
       "        8950,  9250,  9450,  8250,  4450,  9000,  5150,  7900, 10900,\n",
       "        9750, 11290, 10895, 10995,  9850,  8695, 10990,  8750,  9930,\n",
       "        9799,  9700,  9990,  9475, 10000, 10495,  9400,  9650,  9550,\n",
       "       13000, 11710,  9980, 12250, 11930, 10800, 10600,  7500,  5950,\n",
       "        6900,  5751,  7950,  6250,  8450,  7350,  9800,  7995,  8600,\n",
       "        7250,  8000,  8495,  9895,  7999,  8490,  8150,  7450,  9130,\n",
       "        8990,  8995,  9995, 10400,  8800,  7800,  8100,  8200, 10295,\n",
       "        9795, 10350,  8400,  8895,  9390,  8745,  8850,  9695,  9245,\n",
       "        5900,  6000,  5250,  4400,  6750,  6150,  5750,  5800,  5740,\n",
       "        6550,  6450,  5600,  6650,  7600,  7460,  6800,  8700,  6640,\n",
       "        8050,  7795,  6490,  6425,  6495,  6990,  7200,  7300,  9200,\n",
       "        7850,  7495,  7990,  7490,  7145,  7400,  6999,  7499,  7150,\n",
       "        5845, 10845], dtype=int64)"
      ]
     },
     "execution_count": 8,
     "metadata": {},
     "output_type": "execute_result"
    }
   ],
   "source": [
    "df2['Price'].unique()"
   ]
  },
  {
   "cell_type": "code",
   "execution_count": 63,
   "id": "ff1e855c-459d-4f6b-aa9c-69222e3d8f0c",
   "metadata": {},
   "outputs": [
    {
     "data": {
      "text/plain": [
       "array([23., 24., 26., 30., 32., 27., 25., 22., 31., 28., 29., nan, 20.,\n",
       "       19., 17., 11., 18., 13., 14.,  4.,  8.,  7., 16., 15., 10., 12.,\n",
       "        9.,  6.,  2.,  1., 43., 38., 40., 44., 41., 37., 39., 42., 35.,\n",
       "       34., 33., 36., 53., 51., 54., 45., 55., 48., 52., 49., 56., 50.,\n",
       "       47., 46., 58., 68., 59., 62., 65., 67., 64., 60., 61., 66., 57.,\n",
       "       63., 73., 79., 78., 74., 77., 69., 80., 76., 70., 71., 75., 72.])"
      ]
     },
     "execution_count": 63,
     "metadata": {},
     "output_type": "execute_result"
    }
   ],
   "source": [
    "df2['Age'].unique()"
   ]
  },
  {
   "cell_type": "code",
   "execution_count": 64,
   "id": "a21d870b-0e0b-4822-a916-716cf4de1477",
   "metadata": {},
   "outputs": [
    {
     "name": "stdout",
     "output_type": "stream",
     "text": [
      "55.67215568862275\n"
     ]
    }
   ],
   "source": [
    "mean_age = df2['Age'].mean()\n",
    "print(mean_age)"
   ]
  },
  {
   "cell_type": "code",
   "execution_count": 65,
   "id": "698ef29c-af0d-42f7-9be7-49105756cf1e",
   "metadata": {},
   "outputs": [],
   "source": [
    "df2['Age'] = df2['Age'].fillna(mean_age)"
   ]
  },
  {
   "cell_type": "code",
   "execution_count": 66,
   "id": "dfd7f404-8658-47d4-979f-1835b26d0683",
   "metadata": {},
   "outputs": [
    {
     "data": {
      "text/plain": [
       "Unnamed: 0      0\n",
       "Price           0\n",
       "Age             0\n",
       "KM              0\n",
       "FuelType      100\n",
       "HP              0\n",
       "MetColor      150\n",
       "Automatic       0\n",
       "CC              0\n",
       "Doors           0\n",
       "Weight          0\n",
       "dtype: int64"
      ]
     },
     "execution_count": 66,
     "metadata": {},
     "output_type": "execute_result"
    }
   ],
   "source": [
    "df2.isnull().sum()"
   ]
  },
  {
   "cell_type": "code",
   "execution_count": 67,
   "id": "e78f03f8-4d24-4bdb-a702-262e14092879",
   "metadata": {},
   "outputs": [
    {
     "data": {
      "text/plain": [
       "FuelType\n",
       "Petrol    1177\n",
       "Diesel     144\n",
       "CNG         15\n",
       "Name: count, dtype: int64"
      ]
     },
     "execution_count": 67,
     "metadata": {},
     "output_type": "execute_result"
    }
   ],
   "source": [
    "df2['FuelType'].value_counts()"
   ]
  },
  {
   "cell_type": "code",
   "execution_count": 68,
   "id": "c56cc5a2-9548-4bf4-a9d1-a99f421585dc",
   "metadata": {},
   "outputs": [],
   "source": [
    "highest_count = df2['FuelType'].value_counts().index[0]"
   ]
  },
  {
   "cell_type": "code",
   "execution_count": 69,
   "id": "627a762b-1e7a-486f-a472-7e528712ea6b",
   "metadata": {},
   "outputs": [],
   "source": [
    "df2['FuelType'] = df2['FuelType'].fillna(highest_count)"
   ]
  },
  {
   "cell_type": "code",
   "execution_count": 70,
   "id": "fcc4565d-e574-4741-972f-c89e82dd7f5e",
   "metadata": {},
   "outputs": [
    {
     "data": {
      "text/plain": [
       "Unnamed: 0      0\n",
       "Price           0\n",
       "Age             0\n",
       "KM              0\n",
       "FuelType        0\n",
       "HP              0\n",
       "MetColor      150\n",
       "Automatic       0\n",
       "CC              0\n",
       "Doors           0\n",
       "Weight          0\n",
       "dtype: int64"
      ]
     },
     "execution_count": 70,
     "metadata": {},
     "output_type": "execute_result"
    }
   ],
   "source": [
    "df2.isnull().sum()"
   ]
  },
  {
   "cell_type": "code",
   "execution_count": 71,
   "id": "98479e23-1d05-4c84-8543-67a076a69f6f",
   "metadata": {},
   "outputs": [
    {
     "name": "stdout",
     "output_type": "stream",
     "text": [
      "0.6749611197511665\n"
     ]
    }
   ],
   "source": [
    "mean_mtclr = df2['MetColor'].mean()\n",
    "print(mean_mtclr)"
   ]
  },
  {
   "cell_type": "code",
   "execution_count": 72,
   "id": "3d7514c3-5252-4ebd-bc95-dc5dd30e1b5a",
   "metadata": {},
   "outputs": [],
   "source": [
    "df2['MetColor'] = df2['MetColor'].fillna(mean_mtclr)"
   ]
  },
  {
   "cell_type": "code",
   "execution_count": 73,
   "id": "8e1e9808-459b-4afd-8d86-8e0a311f4756",
   "metadata": {},
   "outputs": [
    {
     "data": {
      "text/plain": [
       "Unnamed: 0    0\n",
       "Price         0\n",
       "Age           0\n",
       "KM            0\n",
       "FuelType      0\n",
       "HP            0\n",
       "MetColor      0\n",
       "Automatic     0\n",
       "CC            0\n",
       "Doors         0\n",
       "Weight        0\n",
       "dtype: int64"
      ]
     },
     "execution_count": 73,
     "metadata": {},
     "output_type": "execute_result"
    }
   ],
   "source": [
    "df2.isnull().sum()"
   ]
  },
  {
   "cell_type": "code",
   "execution_count": 19,
   "id": "420815e3-92db-474a-a8b2-16958afb50cc",
   "metadata": {},
   "outputs": [],
   "source": [
    "df2['KM'] = df2['KM'].replace(\"###\",np.nan)"
   ]
  },
  {
   "cell_type": "code",
   "execution_count": 20,
   "id": "2a2bd470-c2e3-477f-9a20-72303172e1a7",
   "metadata": {},
   "outputs": [
    {
     "data": {
      "text/plain": [
       "<bound method Series.unique of 0       46986\n",
       "1       72937\n",
       "2       41711\n",
       "3       48000\n",
       "4       38500\n",
       "        ...  \n",
       "1431    20544\n",
       "1432      NaN\n",
       "1433    17016\n",
       "1434      NaN\n",
       "1435        1\n",
       "Name: KM, Length: 1436, dtype: object>"
      ]
     },
     "execution_count": 20,
     "metadata": {},
     "output_type": "execute_result"
    }
   ],
   "source": [
    "df2['KM'].unique"
   ]
  },
  {
   "cell_type": "code",
   "execution_count": 75,
   "id": "b7acab13-d697-404a-ac3c-4f2c8c462f57",
   "metadata": {},
   "outputs": [
    {
     "data": {
      "text/plain": [
       "Unnamed: 0    0\n",
       "Price         0\n",
       "Age           0\n",
       "KM            0\n",
       "FuelType      0\n",
       "HP            0\n",
       "MetColor      0\n",
       "Automatic     0\n",
       "CC            0\n",
       "Doors         0\n",
       "Weight        0\n",
       "dtype: int64"
      ]
     },
     "execution_count": 75,
     "metadata": {},
     "output_type": "execute_result"
    }
   ],
   "source": [
    "df2.isnull().sum()"
   ]
  },
  {
   "cell_type": "code",
   "execution_count": 10,
   "id": "342e9b1b-815e-4933-b5f9-f424ee5a2767",
   "metadata": {},
   "outputs": [
    {
     "data": {
      "text/plain": [
       "Unnamed: 0      int64\n",
       "Price           int64\n",
       "Age           float64\n",
       "KM             object\n",
       "FuelType       object\n",
       "HP             object\n",
       "MetColor      float64\n",
       "Automatic       int64\n",
       "CC              int64\n",
       "Doors          object\n",
       "Weight          int64\n",
       "dtype: object"
      ]
     },
     "execution_count": 10,
     "metadata": {},
     "output_type": "execute_result"
    }
   ],
   "source": [
    "df2.dtypes"
   ]
  },
  {
   "cell_type": "code",
   "execution_count": 11,
   "id": "8fa51cc9-16f4-43fe-b50c-ff03a9744505",
   "metadata": {},
   "outputs": [
    {
     "name": "stdout",
     "output_type": "stream",
     "text": [
      "      Unnamed: 0  Price   Age     KM FuelType   HP  MetColor  Automatic    CC  \\\n",
      "0              0  13500  23.0  46986   Diesel   90       1.0          0  2000   \n",
      "1              1  13750  23.0  72937   Diesel   90       1.0          0  2000   \n",
      "2              2  13950  24.0  41711   Diesel   90       NaN          0  2000   \n",
      "3              3  14950  26.0  48000   Diesel   90       0.0          0  2000   \n",
      "4              4  13750  30.0  38500   Diesel   90       0.0          0  2000   \n",
      "...          ...    ...   ...    ...      ...  ...       ...        ...   ...   \n",
      "1431        1431   7500   NaN  20544   Petrol   86       1.0          0  1300   \n",
      "1432        1432  10845  72.0     ??   Petrol   86       0.0          0  1300   \n",
      "1433        1433   8500   NaN  17016   Petrol   86       0.0          0  1300   \n",
      "1434        1434   7250  70.0     ??      NaN   86       1.0          0  1300   \n",
      "1435        1435   6950  76.0      1   Petrol  110       0.0          0  1600   \n",
      "\n",
      "      Doors  Weight  \n",
      "0     three    1165  \n",
      "1         3    1165  \n",
      "2         3    1165  \n",
      "3         3    1165  \n",
      "4         3    1170  \n",
      "...     ...     ...  \n",
      "1431      3    1025  \n",
      "1432      3    1015  \n",
      "1433      3    1015  \n",
      "1434      3    1015  \n",
      "1435      5    1114  \n",
      "\n",
      "[1436 rows x 11 columns]\n"
     ]
    }
   ],
   "source": [
    "print(df2)"
   ]
  },
  {
   "cell_type": "code",
   "execution_count": null,
   "id": "5b49b951-0866-4912-9cff-bf5a497dc130",
   "metadata": {},
   "outputs": [],
   "source": []
  }
 ],
 "metadata": {
  "kernelspec": {
   "display_name": "Python 3 (ipykernel)",
   "language": "python",
   "name": "python3"
  },
  "language_info": {
   "codemirror_mode": {
    "name": "ipython",
    "version": 3
   },
   "file_extension": ".py",
   "mimetype": "text/x-python",
   "name": "python",
   "nbconvert_exporter": "python",
   "pygments_lexer": "ipython3",
   "version": "3.12.4"
  }
 },
 "nbformat": 4,
 "nbformat_minor": 5
}
